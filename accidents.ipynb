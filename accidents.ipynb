{
  "nbformat": 4,
  "nbformat_minor": 0,
  "metadata": {
    "kernelspec": {
      "display_name": "Python 3",
      "language": "python",
      "name": "python3"
    },
    "language_info": {
      "codemirror_mode": {
        "name": "ipython",
        "version": 3
      },
      "file_extension": ".py",
      "mimetype": "text/x-python",
      "name": "python",
      "nbconvert_exporter": "python",
      "pygments_lexer": "ipython3",
      "version": "3.5.5"
    },
    "colab": {
      "name": "accidents.ipynb",
      "provenance": []
    }
  },
  "cells": [
    {
      "cell_type": "code",
      "metadata": {
        "id": "e4v-s1R9IARA"
      },
      "source": [
        "import pandas as pd \n",
        "import numpy as np \n",
        "import seaborn as sns\n",
        "import matplotlib.pyplot as plt\n",
        "%matplotlib inline"
      ],
      "execution_count": null,
      "outputs": []
    },
    {
      "cell_type": "markdown",
      "metadata": {
        "id": "DU2pKDtJIARD"
      },
      "source": [
        "# Get the data"
      ]
    },
    {
      "cell_type": "code",
      "metadata": {
        "id": "TVnQIO1OIARE"
      },
      "source": [
        "df = pd.read_excel('The traffic accidents data.xlsx')"
      ],
      "execution_count": null,
      "outputs": []
    },
    {
      "cell_type": "code",
      "metadata": {
        "id": "xG_aqOANIARE"
      },
      "source": [
        "\n",
        "df.columns = ['year','num_reg_v','population','proad_length','num_arrived','GNI','GDP','num_ref','accidents']"
      ],
      "execution_count": null,
      "outputs": []
    },
    {
      "cell_type": "code",
      "metadata": {
        "colab": {
          "base_uri": "https://localhost:8080/"
        },
        "id": "Gj8NEM39IARF",
        "outputId": "99bdb152-10d4-4349-9fb8-455213250240"
      },
      "source": [
        "df.info()"
      ],
      "execution_count": null,
      "outputs": [
        {
          "output_type": "stream",
          "text": [
            "<class 'pandas.core.frame.DataFrame'>\n",
            "RangeIndex: 26 entries, 0 to 25\n",
            "Data columns (total 9 columns):\n",
            " #   Column        Non-Null Count  Dtype  \n",
            "---  ------        --------------  -----  \n",
            " 0   year          26 non-null     int64  \n",
            " 1   num_reg_v     26 non-null     float64\n",
            " 2   population    26 non-null     int64  \n",
            " 3   proad_length  26 non-null     int64  \n",
            " 4   num_arrived   21 non-null     float64\n",
            " 5   GNI           26 non-null     int64  \n",
            " 6   GDP           26 non-null     float64\n",
            " 7   num_ref       26 non-null     float64\n",
            " 8   accidents     26 non-null     float64\n",
            "dtypes: float64(5), int64(4)\n",
            "memory usage: 2.0 KB\n"
          ],
          "name": "stdout"
        }
      ]
    },
    {
      "cell_type": "code",
      "metadata": {
        "colab": {
          "base_uri": "https://localhost:8080/",
          "height": 817
        },
        "id": "QTWlEXcRIARG",
        "outputId": "26a74a7a-4ed7-4a1c-d00d-0a60db0c876e"
      },
      "source": [
        "df"
      ],
      "execution_count": null,
      "outputs": [
        {
          "output_type": "execute_result",
          "data": {
            "text/html": [
              "<div>\n",
              "<style scoped>\n",
              "    .dataframe tbody tr th:only-of-type {\n",
              "        vertical-align: middle;\n",
              "    }\n",
              "\n",
              "    .dataframe tbody tr th {\n",
              "        vertical-align: top;\n",
              "    }\n",
              "\n",
              "    .dataframe thead th {\n",
              "        text-align: right;\n",
              "    }\n",
              "</style>\n",
              "<table border=\"1\" class=\"dataframe\">\n",
              "  <thead>\n",
              "    <tr style=\"text-align: right;\">\n",
              "      <th></th>\n",
              "      <th>year</th>\n",
              "      <th>num_reg_v</th>\n",
              "      <th>population</th>\n",
              "      <th>proad_length</th>\n",
              "      <th>num_arrived</th>\n",
              "      <th>GNI</th>\n",
              "      <th>GDP</th>\n",
              "      <th>num_ref</th>\n",
              "      <th>accidents</th>\n",
              "    </tr>\n",
              "  </thead>\n",
              "  <tbody>\n",
              "    <tr>\n",
              "      <th>0</th>\n",
              "      <td>1990</td>\n",
              "      <td>254.617</td>\n",
              "      <td>3453</td>\n",
              "      <td>6041</td>\n",
              "      <td>NaN</td>\n",
              "      <td>1350</td>\n",
              "      <td>1238.67</td>\n",
              "      <td>929.737</td>\n",
              "      <td>17.838</td>\n",
              "    </tr>\n",
              "    <tr>\n",
              "      <th>1</th>\n",
              "      <td>1991</td>\n",
              "      <td>259.196</td>\n",
              "      <td>3888</td>\n",
              "      <td>6158</td>\n",
              "      <td>NaN</td>\n",
              "      <td>1160</td>\n",
              "      <td>1227.65</td>\n",
              "      <td>1001.357</td>\n",
              "      <td>18.756</td>\n",
              "    </tr>\n",
              "    <tr>\n",
              "      <th>2</th>\n",
              "      <td>1992</td>\n",
              "      <td>276.301</td>\n",
              "      <td>4012</td>\n",
              "      <td>6318</td>\n",
              "      <td>NaN</td>\n",
              "      <td>1350</td>\n",
              "      <td>1418.65</td>\n",
              "      <td>1073.007</td>\n",
              "      <td>20.970</td>\n",
              "    </tr>\n",
              "    <tr>\n",
              "      <th>3</th>\n",
              "      <td>1993</td>\n",
              "      <td>291.347</td>\n",
              "      <td>4152</td>\n",
              "      <td>6468</td>\n",
              "      <td>NaN</td>\n",
              "      <td>1370</td>\n",
              "      <td>1416.61</td>\n",
              "      <td>1145.020</td>\n",
              "      <td>24.799</td>\n",
              "    </tr>\n",
              "    <tr>\n",
              "      <th>4</th>\n",
              "      <td>1994</td>\n",
              "      <td>304.893</td>\n",
              "      <td>4200</td>\n",
              "      <td>6650</td>\n",
              "      <td>NaN</td>\n",
              "      <td>1420</td>\n",
              "      <td>1501.33</td>\n",
              "      <td>1216.957</td>\n",
              "      <td>26.837</td>\n",
              "    </tr>\n",
              "    <tr>\n",
              "      <th>5</th>\n",
              "      <td>1995</td>\n",
              "      <td>321.373</td>\n",
              "      <td>4290</td>\n",
              "      <td>6780</td>\n",
              "      <td>1106.0</td>\n",
              "      <td>1510</td>\n",
              "      <td>1557.22</td>\n",
              "      <td>1288.895</td>\n",
              "      <td>28.970</td>\n",
              "    </tr>\n",
              "    <tr>\n",
              "      <th>6</th>\n",
              "      <td>1996</td>\n",
              "      <td>342.337</td>\n",
              "      <td>4444</td>\n",
              "      <td>6872</td>\n",
              "      <td>1075.0</td>\n",
              "      <td>1520</td>\n",
              "      <td>1557.60</td>\n",
              "      <td>1359.580</td>\n",
              "      <td>33.784</td>\n",
              "    </tr>\n",
              "    <tr>\n",
              "      <th>7</th>\n",
              "      <td>1997</td>\n",
              "      <td>362.811</td>\n",
              "      <td>4600</td>\n",
              "      <td>7022</td>\n",
              "      <td>1132.0</td>\n",
              "      <td>1550</td>\n",
              "      <td>1593.84</td>\n",
              "      <td>1438.104</td>\n",
              "      <td>39.005</td>\n",
              "    </tr>\n",
              "    <tr>\n",
              "      <th>8</th>\n",
              "      <td>1998</td>\n",
              "      <td>389.196</td>\n",
              "      <td>4775</td>\n",
              "      <td>7133</td>\n",
              "      <td>1772.0</td>\n",
              "      <td>1580</td>\n",
              "      <td>1711.76</td>\n",
              "      <td>1488.226</td>\n",
              "      <td>43.343</td>\n",
              "    </tr>\n",
              "    <tr>\n",
              "      <th>9</th>\n",
              "      <td>1999</td>\n",
              "      <td>418.433</td>\n",
              "      <td>4900</td>\n",
              "      <td>7201</td>\n",
              "      <td>1790.0</td>\n",
              "      <td>1650</td>\n",
              "      <td>1736.96</td>\n",
              "      <td>1542.417</td>\n",
              "      <td>50.330</td>\n",
              "    </tr>\n",
              "    <tr>\n",
              "      <th>10</th>\n",
              "      <td>2000</td>\n",
              "      <td>473.339</td>\n",
              "      <td>5039</td>\n",
              "      <td>7245</td>\n",
              "      <td>1580.0</td>\n",
              "      <td>1800</td>\n",
              "      <td>1774.09</td>\n",
              "      <td>1610.638</td>\n",
              "      <td>52.796</td>\n",
              "    </tr>\n",
              "    <tr>\n",
              "      <th>11</th>\n",
              "      <td>2001</td>\n",
              "      <td>509.832</td>\n",
              "      <td>5182</td>\n",
              "      <td>7259</td>\n",
              "      <td>1672.0</td>\n",
              "      <td>1870</td>\n",
              "      <td>1850.06</td>\n",
              "      <td>1663.294</td>\n",
              "      <td>52.662</td>\n",
              "    </tr>\n",
              "    <tr>\n",
              "      <th>12</th>\n",
              "      <td>2002</td>\n",
              "      <td>535.112</td>\n",
              "      <td>5329</td>\n",
              "      <td>7302</td>\n",
              "      <td>2384.0</td>\n",
              "      <td>1920</td>\n",
              "      <td>1939.77</td>\n",
              "      <td>1699.470</td>\n",
              "      <td>52.913</td>\n",
              "    </tr>\n",
              "    <tr>\n",
              "      <th>13</th>\n",
              "      <td>2003</td>\n",
              "      <td>568.096</td>\n",
              "      <td>5480</td>\n",
              "      <td>7361</td>\n",
              "      <td>2353.0</td>\n",
              "      <td>2050</td>\n",
              "      <td>2021.46</td>\n",
              "      <td>1741.366</td>\n",
              "      <td>62.115</td>\n",
              "    </tr>\n",
              "    <tr>\n",
              "      <th>14</th>\n",
              "      <td>2004</td>\n",
              "      <td>614.614</td>\n",
              "      <td>5350</td>\n",
              "      <td>7500</td>\n",
              "      <td>2853.0</td>\n",
              "      <td>2330</td>\n",
              "      <td>2205.80</td>\n",
              "      <td>1777.769</td>\n",
              "      <td>70.266</td>\n",
              "    </tr>\n",
              "    <tr>\n",
              "      <th>15</th>\n",
              "      <td>2005</td>\n",
              "      <td>679.731</td>\n",
              "      <td>5473</td>\n",
              "      <td>7596</td>\n",
              "      <td>2987.0</td>\n",
              "      <td>2530</td>\n",
              "      <td>2360.53</td>\n",
              "      <td>1828.842</td>\n",
              "      <td>83.129</td>\n",
              "    </tr>\n",
              "    <tr>\n",
              "      <th>16</th>\n",
              "      <td>2006</td>\n",
              "      <td>755.477</td>\n",
              "      <td>5600</td>\n",
              "      <td>7694</td>\n",
              "      <td>3225.0</td>\n",
              "      <td>2720</td>\n",
              "      <td>2722.67</td>\n",
              "      <td>2358.591</td>\n",
              "      <td>98.055</td>\n",
              "    </tr>\n",
              "    <tr>\n",
              "      <th>17</th>\n",
              "      <td>2007</td>\n",
              "      <td>841.933</td>\n",
              "      <td>5728</td>\n",
              "      <td>7768</td>\n",
              "      <td>3431.0</td>\n",
              "      <td>2980</td>\n",
              "      <td>2970.89</td>\n",
              "      <td>2403.771</td>\n",
              "      <td>110.630</td>\n",
              "    </tr>\n",
              "    <tr>\n",
              "      <th>18</th>\n",
              "      <td>2008</td>\n",
              "      <td>919.602</td>\n",
              "      <td>5850</td>\n",
              "      <td>7816</td>\n",
              "      <td>3729.0</td>\n",
              "      <td>3400</td>\n",
              "      <td>3655.86</td>\n",
              "      <td>2452.016</td>\n",
              "      <td>101.066</td>\n",
              "    </tr>\n",
              "    <tr>\n",
              "      <th>19</th>\n",
              "      <td>2009</td>\n",
              "      <td>994.753</td>\n",
              "      <td>5980</td>\n",
              "      <td>7891</td>\n",
              "      <td>3789.0</td>\n",
              "      <td>3680</td>\n",
              "      <td>3800.86</td>\n",
              "      <td>2434.489</td>\n",
              "      <td>122.793</td>\n",
              "    </tr>\n",
              "    <tr>\n",
              "      <th>20</th>\n",
              "      <td>2010</td>\n",
              "      <td>1075.453</td>\n",
              "      <td>6113</td>\n",
              "      <td>7038</td>\n",
              "      <td>4207.0</td>\n",
              "      <td>3820</td>\n",
              "      <td>4054.27</td>\n",
              "      <td>2450.381</td>\n",
              "      <td>140.014</td>\n",
              "    </tr>\n",
              "    <tr>\n",
              "      <th>21</th>\n",
              "      <td>2011</td>\n",
              "      <td>1147.258</td>\n",
              "      <td>6249</td>\n",
              "      <td>7141</td>\n",
              "      <td>3960.0</td>\n",
              "      <td>3990</td>\n",
              "      <td>4266.08</td>\n",
              "      <td>2430.589</td>\n",
              "      <td>142.588</td>\n",
              "    </tr>\n",
              "    <tr>\n",
              "      <th>22</th>\n",
              "      <td>2012</td>\n",
              "      <td>1213.882</td>\n",
              "      <td>6388</td>\n",
              "      <td>7201</td>\n",
              "      <td>4162.0</td>\n",
              "      <td>4210</td>\n",
              "      <td>4423.12</td>\n",
              "      <td>2337.348</td>\n",
              "      <td>112.817</td>\n",
              "    </tr>\n",
              "    <tr>\n",
              "      <th>23</th>\n",
              "      <td>2013</td>\n",
              "      <td>1263.754</td>\n",
              "      <td>6530</td>\n",
              "      <td>7299</td>\n",
              "      <td>3945.0</td>\n",
              "      <td>4420</td>\n",
              "      <td>4656.22</td>\n",
              "      <td>2712.888</td>\n",
              "      <td>107.864</td>\n",
              "    </tr>\n",
              "    <tr>\n",
              "      <th>24</th>\n",
              "      <td>2014</td>\n",
              "      <td>1331.563</td>\n",
              "      <td>6675</td>\n",
              "      <td>7299</td>\n",
              "      <td>3990.0</td>\n",
              "      <td>4590</td>\n",
              "      <td>4830.98</td>\n",
              "      <td>2771.502</td>\n",
              "      <td>102.441</td>\n",
              "    </tr>\n",
              "    <tr>\n",
              "      <th>25</th>\n",
              "      <td>2015</td>\n",
              "      <td>1412.817</td>\n",
              "      <td>9531</td>\n",
              "      <td>7299</td>\n",
              "      <td>4800.0</td>\n",
              "      <td>4680</td>\n",
              "      <td>4940.05</td>\n",
              "      <td>2859.514</td>\n",
              "      <td>111.057</td>\n",
              "    </tr>\n",
              "  </tbody>\n",
              "</table>\n",
              "</div>"
            ],
            "text/plain": [
              "    year  num_reg_v  population  ...      GDP   num_ref  accidents\n",
              "0   1990    254.617        3453  ...  1238.67   929.737     17.838\n",
              "1   1991    259.196        3888  ...  1227.65  1001.357     18.756\n",
              "2   1992    276.301        4012  ...  1418.65  1073.007     20.970\n",
              "3   1993    291.347        4152  ...  1416.61  1145.020     24.799\n",
              "4   1994    304.893        4200  ...  1501.33  1216.957     26.837\n",
              "5   1995    321.373        4290  ...  1557.22  1288.895     28.970\n",
              "6   1996    342.337        4444  ...  1557.60  1359.580     33.784\n",
              "7   1997    362.811        4600  ...  1593.84  1438.104     39.005\n",
              "8   1998    389.196        4775  ...  1711.76  1488.226     43.343\n",
              "9   1999    418.433        4900  ...  1736.96  1542.417     50.330\n",
              "10  2000    473.339        5039  ...  1774.09  1610.638     52.796\n",
              "11  2001    509.832        5182  ...  1850.06  1663.294     52.662\n",
              "12  2002    535.112        5329  ...  1939.77  1699.470     52.913\n",
              "13  2003    568.096        5480  ...  2021.46  1741.366     62.115\n",
              "14  2004    614.614        5350  ...  2205.80  1777.769     70.266\n",
              "15  2005    679.731        5473  ...  2360.53  1828.842     83.129\n",
              "16  2006    755.477        5600  ...  2722.67  2358.591     98.055\n",
              "17  2007    841.933        5728  ...  2970.89  2403.771    110.630\n",
              "18  2008    919.602        5850  ...  3655.86  2452.016    101.066\n",
              "19  2009    994.753        5980  ...  3800.86  2434.489    122.793\n",
              "20  2010   1075.453        6113  ...  4054.27  2450.381    140.014\n",
              "21  2011   1147.258        6249  ...  4266.08  2430.589    142.588\n",
              "22  2012   1213.882        6388  ...  4423.12  2337.348    112.817\n",
              "23  2013   1263.754        6530  ...  4656.22  2712.888    107.864\n",
              "24  2014   1331.563        6675  ...  4830.98  2771.502    102.441\n",
              "25  2015   1412.817        9531  ...  4940.05  2859.514    111.057\n",
              "\n",
              "[26 rows x 9 columns]"
            ]
          },
          "metadata": {
            "tags": []
          },
          "execution_count": 8
        }
      ]
    },
    {
      "cell_type": "markdown",
      "metadata": {
        "id": "u2_Zs8RgIARH"
      },
      "source": [
        "# Discover and visualize the data to gain insights"
      ]
    },
    {
      "cell_type": "code",
      "metadata": {
        "id": "iJabNX9WIARH"
      },
      "source": [
        "df_corr = df.corr()"
      ],
      "execution_count": null,
      "outputs": []
    },
    {
      "cell_type": "code",
      "metadata": {
        "colab": {
          "base_uri": "https://localhost:8080/",
          "height": 342
        },
        "id": "Jq_ii6ZYIARI",
        "outputId": "73df5cfe-ae4c-4187-c271-2d70a8545d18"
      },
      "source": [
        "sns.heatmap(df_corr,annot=True)"
      ],
      "execution_count": null,
      "outputs": [
        {
          "output_type": "execute_result",
          "data": {
            "text/plain": [
              "<matplotlib.axes._subplots.AxesSubplot at 0x7f43e52579e8>"
            ]
          },
          "metadata": {
            "tags": []
          },
          "execution_count": 10
        },
        {
          "output_type": "display_data",
          "data": {
            "image/png": "[encoded data removed]",
            "text/plain": [
              "<Figure size 432x288 with 2 Axes>"
            ]
          },
          "metadata": {
            "tags": [],
            "needs_background": "light"
          }
        }
      ]
    },
    {
      "cell_type": "code",
      "metadata": {
        "colab": {
          "base_uri": "https://localhost:8080/"
        },
        "id": "lemne8ggIARI",
        "outputId": "ae66172b-8f52-4630-ee94-9ae16def8ce5"
      },
      "source": [
        "df_corr['accidents'].sort_values(ascending = False)"
      ],
      "execution_count": null,
      "outputs": [
        {
          "output_type": "execute_result",
          "data": {
            "text/plain": [
              "accidents       1.000000\n",
              "num_ref         0.939213\n",
              "year            0.937670\n",
              "num_arrived     0.936448\n",
              "num_reg_v       0.917287\n",
              "GNI             0.916566\n",
              "GDP             0.906961\n",
              "population      0.790615\n",
              "proad_length    0.690661\n",
              "Name: accidents, dtype: float64"
            ]
          },
          "metadata": {
            "tags": []
          },
          "execution_count": 11
        }
      ]
    },
    {
      "cell_type": "code",
      "metadata": {
        "scrolled": true,
        "colab": {
          "base_uri": "https://localhost:8080/",
          "height": 1000
        },
        "id": "xdbZoV-oIARJ",
        "outputId": "549bb176-1811-40d8-98d2-f7e0bbadcc43"
      },
      "source": [
        "sns.pairplot(df.dropna())"
      ],
      "execution_count": null,
      "outputs": [
        {
          "output_type": "execute_result",
          "data": {
            "text/plain": [
              "<seaborn.axisgrid.PairGrid at 0x7f43dbbb1dd8>"
            ]
          },
          "metadata": {
            "tags": []
          },
          "execution_count": 24
        },
        {
          "output_type": "display_data",
          "data": {
            "image/png": "[encoded data removed]",
            "text/plain": [
              "<Figure size 1620x1620 with 90 Axes>"
            ]
          },
          "metadata": {
            "tags": [],
            "needs_background": "light"
          }
        }
      ]
    },
    {
      "cell_type": "code",
      "metadata": {
        "scrolled": false,
        "colab": {
          "base_uri": "https://localhost:8080/",
          "height": 1000
        },
        "id": "FWqPuvf0IARK",
        "outputId": "01c11ed1-9826-4e27-bf3a-14b46b8df964"
      },
      "source": [
        "for col in df.columns:\n",
        "    plt.figure()\n",
        "    sns.kdeplot(df[col])"
      ],
      "execution_count": null,
      "outputs": [
        {
          "output_type": "display_data",
          "data": {
            "image/png": "[encoded data removed]",
            "text/plain": [
              "<Figure size 432x288 with 1 Axes>"
            ]
          },
          "metadata": {
            "tags": [],
            "needs_background": "light"
          }
        },
        {
          "output_type": "display_data",
          "data": {
            "image/png": "[encoded data removed]",
            "text/plain": [
              "<Figure size 432x288 with 1 Axes>"
            ]
          },
          "metadata": {
            "tags": [],
            "needs_background": "light"
          }
        },
        {
          "output_type": "display_data",
          "data": {
            "image/png": "[encoded data removed]",
            "text/plain": [
              "<Figure size 432x288 with 1 Axes>"
            ]
          },
          "metadata": {
            "tags": [],
            "needs_background": "light"
          }
        },
        {
          "output_type": "display_data",
          "data": {
            "image/png": "[encoded data removed]",
            "text/plain": [
              "<Figure size 432x288 with 1 Axes>"
            ]
          },
          "metadata": {
            "tags": [],
            "needs_background": "light"
          }
        },
        {
          "output_type": "display_data",
          "data": {
            "image/png": "[encoded data removed]",
            "text/plain": [
              "<Figure size 432x288 with 1 Axes>"
            ]
          },
          "metadata": {
            "tags": [],
            "needs_background": "light"
          }
        },
        {
          "output_type": "display_data",
          "data": {
            "image/png": "[encoded data removed]",
            "text/plain": [
              "<Figure size 432x288 with 1 Axes>"
            ]
          },
          "metadata": {
            "tags": [],
            "needs_background": "light"
          }
        },
        {
          "output_type": "display_data",
          "data": {
            "image/png": "[encoded data removed]",
            "text/plain": [
              "<Figure size 432x288 with 1 Axes>"
            ]
          },
          "metadata": {
            "tags": [],
            "needs_background": "light"
          }
        },
        {
          "output_type": "display_data",
          "data": {
            "image/png": "[encoded data removed]",
            "text/plain": [
              "<Figure size 432x288 with 1 Axes>"
            ]
          },
          "metadata": {
            "tags": [],
            "needs_background": "light"
          }
        },
        {
          "output_type": "display_data",
          "data": {
            "image/png": "[encoded data removed]",
            "text/plain": [
              "<Figure size 432x288 with 1 Axes>"
            ]
          },
          "metadata": {
            "tags": [],
            "needs_background": "light"
          }
        }
      ]
    },
    {
      "cell_type": "code",
      "metadata": {
        "colab": {
          "base_uri": "https://localhost:8080/",
          "height": 296
        },
        "id": "lzycKauhIARK",
        "outputId": "0785e9b2-1f31-456b-c1b2-00a561150bff"
      },
      "source": [
        "plt.plot(df['year'],df['accidents']*1000, 'ro')\n",
        "plt.xlabel('Year')\n",
        "plt.ylabel('Number of Accidents')"
      ],
      "execution_count": null,
      "outputs": [
        {
          "output_type": "execute_result",
          "data": {
            "text/plain": [
              "Text(0, 0.5, 'Number of Accidents')"
            ]
          },
          "metadata": {
            "tags": []
          },
          "execution_count": 14
        },
        {
          "output_type": "display_data",
          "data": {
            "image/png": "[encoded data removed]",
            "text/plain": [
              "<Figure size 432x288 with 1 Axes>"
            ]
          },
          "metadata": {
            "tags": [],
            "needs_background": "light"
          }
        }
      ]
    },
    {
      "cell_type": "code",
      "metadata": {
        "colab": {
          "base_uri": "https://localhost:8080/",
          "height": 817
        },
        "id": "KPdlktFRIARL",
        "outputId": "c77039d4-8e0c-42c9-b34a-545f38f87321"
      },
      "source": [
        "df_box = df.copy()\n",
        "df_box['ref < 2000 , ref > 2000'] = df['num_ref'].apply(lambda x: 'less' if x<2000 else 'more')\n",
        "df_box"
      ],
      "execution_count": null,
      "outputs": [
        {
          "output_type": "execute_result",
          "data": {
            "text/html": [
              "<div>\n",
              "<style scoped>\n",
              "    .dataframe tbody tr th:only-of-type {\n",
              "        vertical-align: middle;\n",
              "    }\n",
              "\n",
              "    .dataframe tbody tr th {\n",
              "        vertical-align: top;\n",
              "    }\n",
              "\n",
              "    .dataframe thead th {\n",
              "        text-align: right;\n",
              "    }\n",
              "</style>\n",
              "<table border=\"1\" class=\"dataframe\">\n",
              "  <thead>\n",
              "    <tr style=\"text-align: right;\">\n",
              "      <th></th>\n",
              "      <th>year</th>\n",
              "      <th>num_reg_v</th>\n",
              "      <th>population</th>\n",
              "      <th>proad_length</th>\n",
              "      <th>num_arrived</th>\n",
              "      <th>GNI</th>\n",
              "      <th>GDP</th>\n",
              "      <th>num_ref</th>\n",
              "      <th>accidents</th>\n",
              "      <th>ref &lt; 2000 , ref &gt; 2000</th>\n",
              "    </tr>\n",
              "  </thead>\n",
              "  <tbody>\n",
              "    <tr>\n",
              "      <th>0</th>\n",
              "      <td>1990</td>\n",
              "      <td>254.617</td>\n",
              "      <td>3453</td>\n",
              "      <td>6041</td>\n",
              "      <td>NaN</td>\n",
              "      <td>1350</td>\n",
              "      <td>1238.67</td>\n",
              "      <td>929.737</td>\n",
              "      <td>17.838</td>\n",
              "      <td>less</td>\n",
              "    </tr>\n",
              "    <tr>\n",
              "      <th>1</th>\n",
              "      <td>1991</td>\n",
              "      <td>259.196</td>\n",
              "      <td>3888</td>\n",
              "      <td>6158</td>\n",
              "      <td>NaN</td>\n",
              "      <td>1160</td>\n",
              "      <td>1227.65</td>\n",
              "      <td>1001.357</td>\n",
              "      <td>18.756</td>\n",
              "      <td>less</td>\n",
              "    </tr>\n",
              "    <tr>\n",
              "      <th>2</th>\n",
              "      <td>1992</td>\n",
              "      <td>276.301</td>\n",
              "      <td>4012</td>\n",
              "      <td>6318</td>\n",
              "      <td>NaN</td>\n",
              "      <td>1350</td>\n",
              "      <td>1418.65</td>\n",
              "      <td>1073.007</td>\n",
              "      <td>20.970</td>\n",
              "      <td>less</td>\n",
              "    </tr>\n",
              "    <tr>\n",
              "      <th>3</th>\n",
              "      <td>1993</td>\n",
              "      <td>291.347</td>\n",
              "      <td>4152</td>\n",
              "      <td>6468</td>\n",
              "      <td>NaN</td>\n",
              "      <td>1370</td>\n",
              "      <td>1416.61</td>\n",
              "      <td>1145.020</td>\n",
              "      <td>24.799</td>\n",
              "      <td>less</td>\n",
              "    </tr>\n",
              "    <tr>\n",
              "      <th>4</th>\n",
              "      <td>1994</td>\n",
              "      <td>304.893</td>\n",
              "      <td>4200</td>\n",
              "      <td>6650</td>\n",
              "      <td>NaN</td>\n",
              "      <td>1420</td>\n",
              "      <td>1501.33</td>\n",
              "      <td>1216.957</td>\n",
              "      <td>26.837</td>\n",
              "      <td>less</td>\n",
              "    </tr>\n",
              "    <tr>\n",
              "      <th>5</th>\n",
              "      <td>1995</td>\n",
              "      <td>321.373</td>\n",
              "      <td>4290</td>\n",
              "      <td>6780</td>\n",
              "      <td>1106.0</td>\n",
              "      <td>1510</td>\n",
              "      <td>1557.22</td>\n",
              "      <td>1288.895</td>\n",
              "      <td>28.970</td>\n",
              "      <td>less</td>\n",
              "    </tr>\n",
              "    <tr>\n",
              "      <th>6</th>\n",
              "      <td>1996</td>\n",
              "      <td>342.337</td>\n",
              "      <td>4444</td>\n",
              "      <td>6872</td>\n",
              "      <td>1075.0</td>\n",
              "      <td>1520</td>\n",
              "      <td>1557.60</td>\n",
              "      <td>1359.580</td>\n",
              "      <td>33.784</td>\n",
              "      <td>less</td>\n",
              "    </tr>\n",
              "    <tr>\n",
              "      <th>7</th>\n",
              "      <td>1997</td>\n",
              "      <td>362.811</td>\n",
              "      <td>4600</td>\n",
              "      <td>7022</td>\n",
              "      <td>1132.0</td>\n",
              "      <td>1550</td>\n",
              "      <td>1593.84</td>\n",
              "      <td>1438.104</td>\n",
              "      <td>39.005</td>\n",
              "      <td>less</td>\n",
              "    </tr>\n",
              "    <tr>\n",
              "      <th>8</th>\n",
              "      <td>1998</td>\n",
              "      <td>389.196</td>\n",
              "      <td>4775</td>\n",
              "      <td>7133</td>\n",
              "      <td>1772.0</td>\n",
              "      <td>1580</td>\n",
              "      <td>1711.76</td>\n",
              "      <td>1488.226</td>\n",
              "      <td>43.343</td>\n",
              "      <td>less</td>\n",
              "    </tr>\n",
              "    <tr>\n",
              "      <th>9</th>\n",
              "      <td>1999</td>\n",
              "      <td>418.433</td>\n",
              "      <td>4900</td>\n",
              "      <td>7201</td>\n",
              "      <td>1790.0</td>\n",
              "      <td>1650</td>\n",
              "      <td>1736.96</td>\n",
              "      <td>1542.417</td>\n",
              "      <td>50.330</td>\n",
              "      <td>less</td>\n",
              "    </tr>\n",
              "    <tr>\n",
              "      <th>10</th>\n",
              "      <td>2000</td>\n",
              "      <td>473.339</td>\n",
              "      <td>5039</td>\n",
              "      <td>7245</td>\n",
              "      <td>1580.0</td>\n",
              "      <td>1800</td>\n",
              "      <td>1774.09</td>\n",
              "      <td>1610.638</td>\n",
              "      <td>52.796</td>\n",
              "      <td>less</td>\n",
              "    </tr>\n",
              "    <tr>\n",
              "      <th>11</th>\n",
              "      <td>2001</td>\n",
              "      <td>509.832</td>\n",
              "      <td>5182</td>\n",
              "      <td>7259</td>\n",
              "      <td>1672.0</td>\n",
              "      <td>1870</td>\n",
              "      <td>1850.06</td>\n",
              "      <td>1663.294</td>\n",
              "      <td>52.662</td>\n",
              "      <td>less</td>\n",
              "    </tr>\n",
              "    <tr>\n",
              "      <th>12</th>\n",
              "      <td>2002</td>\n",
              "      <td>535.112</td>\n",
              "      <td>5329</td>\n",
              "      <td>7302</td>\n",
              "      <td>2384.0</td>\n",
              "      <td>1920</td>\n",
              "      <td>1939.77</td>\n",
              "      <td>1699.470</td>\n",
              "      <td>52.913</td>\n",
              "      <td>less</td>\n",
              "    </tr>\n",
              "    <tr>\n",
              "      <th>13</th>\n",
              "      <td>2003</td>\n",
              "      <td>568.096</td>\n",
              "      <td>5480</td>\n",
              "      <td>7361</td>\n",
              "      <td>2353.0</td>\n",
              "      <td>2050</td>\n",
              "      <td>2021.46</td>\n",
              "      <td>1741.366</td>\n",
              "      <td>62.115</td>\n",
              "      <td>less</td>\n",
              "    </tr>\n",
              "    <tr>\n",
              "      <th>14</th>\n",
              "      <td>2004</td>\n",
              "      <td>614.614</td>\n",
              "      <td>5350</td>\n",
              "      <td>7500</td>\n",
              "      <td>2853.0</td>\n",
              "      <td>2330</td>\n",
              "      <td>2205.80</td>\n",
              "      <td>1777.769</td>\n",
              "      <td>70.266</td>\n",
              "      <td>less</td>\n",
              "    </tr>\n",
              "    <tr>\n",
              "      <th>15</th>\n",
              "      <td>2005</td>\n",
              "      <td>679.731</td>\n",
              "      <td>5473</td>\n",
              "      <td>7596</td>\n",
              "      <td>2987.0</td>\n",
              "      <td>2530</td>\n",
              "      <td>2360.53</td>\n",
              "      <td>1828.842</td>\n",
              "      <td>83.129</td>\n",
              "      <td>less</td>\n",
              "    </tr>\n",
              "    <tr>\n",
              "      <th>16</th>\n",
              "      <td>2006</td>\n",
              "      <td>755.477</td>\n",
              "      <td>5600</td>\n",
              "      <td>7694</td>\n",
              "      <td>3225.0</td>\n",
              "      <td>2720</td>\n",
              "      <td>2722.67</td>\n",
              "      <td>2358.591</td>\n",
              "      <td>98.055</td>\n",
              "      <td>more</td>\n",
              "    </tr>\n",
              "    <tr>\n",
              "      <th>17</th>\n",
              "      <td>2007</td>\n",
              "      <td>841.933</td>\n",
              "      <td>5728</td>\n",
              "      <td>7768</td>\n",
              "      <td>3431.0</td>\n",
              "      <td>2980</td>\n",
              "      <td>2970.89</td>\n",
              "      <td>2403.771</td>\n",
              "      <td>110.630</td>\n",
              "      <td>more</td>\n",
              "    </tr>\n",
              "    <tr>\n",
              "      <th>18</th>\n",
              "      <td>2008</td>\n",
              "      <td>919.602</td>\n",
              "      <td>5850</td>\n",
              "      <td>7816</td>\n",
              "      <td>3729.0</td>\n",
              "      <td>3400</td>\n",
              "      <td>3655.86</td>\n",
              "      <td>2452.016</td>\n",
              "      <td>101.066</td>\n",
              "      <td>more</td>\n",
              "    </tr>\n",
              "    <tr>\n",
              "      <th>19</th>\n",
              "      <td>2009</td>\n",
              "      <td>994.753</td>\n",
              "      <td>5980</td>\n",
              "      <td>7891</td>\n",
              "      <td>3789.0</td>\n",
              "      <td>3680</td>\n",
              "      <td>3800.86</td>\n",
              "      <td>2434.489</td>\n",
              "      <td>122.793</td>\n",
              "      <td>more</td>\n",
              "    </tr>\n",
              "    <tr>\n",
              "      <th>20</th>\n",
              "      <td>2010</td>\n",
              "      <td>1075.453</td>\n",
              "      <td>6113</td>\n",
              "      <td>7038</td>\n",
              "      <td>4207.0</td>\n",
              "      <td>3820</td>\n",
              "      <td>4054.27</td>\n",
              "      <td>2450.381</td>\n",
              "      <td>140.014</td>\n",
              "      <td>more</td>\n",
              "    </tr>\n",
              "    <tr>\n",
              "      <th>21</th>\n",
              "      <td>2011</td>\n",
              "      <td>1147.258</td>\n",
              "      <td>6249</td>\n",
              "      <td>7141</td>\n",
              "      <td>3960.0</td>\n",
              "      <td>3990</td>\n",
              "      <td>4266.08</td>\n",
              "      <td>2430.589</td>\n",
              "      <td>142.588</td>\n",
              "      <td>more</td>\n",
              "    </tr>\n",
              "    <tr>\n",
              "      <th>22</th>\n",
              "      <td>2012</td>\n",
              "      <td>1213.882</td>\n",
              "      <td>6388</td>\n",
              "      <td>7201</td>\n",
              "      <td>4162.0</td>\n",
              "      <td>4210</td>\n",
              "      <td>4423.12</td>\n",
              "      <td>2337.348</td>\n",
              "      <td>112.817</td>\n",
              "      <td>more</td>\n",
              "    </tr>\n",
              "    <tr>\n",
              "      <th>23</th>\n",
              "      <td>2013</td>\n",
              "      <td>1263.754</td>\n",
              "      <td>6530</td>\n",
              "      <td>7299</td>\n",
              "      <td>3945.0</td>\n",
              "      <td>4420</td>\n",
              "      <td>4656.22</td>\n",
              "      <td>2712.888</td>\n",
              "      <td>107.864</td>\n",
              "      <td>more</td>\n",
              "    </tr>\n",
              "    <tr>\n",
              "      <th>24</th>\n",
              "      <td>2014</td>\n",
              "      <td>1331.563</td>\n",
              "      <td>6675</td>\n",
              "      <td>7299</td>\n",
              "      <td>3990.0</td>\n",
              "      <td>4590</td>\n",
              "      <td>4830.98</td>\n",
              "      <td>2771.502</td>\n",
              "      <td>102.441</td>\n",
              "      <td>more</td>\n",
              "    </tr>\n",
              "    <tr>\n",
              "      <th>25</th>\n",
              "      <td>2015</td>\n",
              "      <td>1412.817</td>\n",
              "      <td>9531</td>\n",
              "      <td>7299</td>\n",
              "      <td>4800.0</td>\n",
              "      <td>4680</td>\n",
              "      <td>4940.05</td>\n",
              "      <td>2859.514</td>\n",
              "      <td>111.057</td>\n",
              "      <td>more</td>\n",
              "    </tr>\n",
              "  </tbody>\n",
              "</table>\n",
              "</div>"
            ],
            "text/plain": [
              "    year  num_reg_v  population  ...   num_ref  accidents  ref < 2000 , ref > 2000\n",
              "0   1990    254.617        3453  ...   929.737     17.838                     less\n",
              "1   1991    259.196        3888  ...  1001.357     18.756                     less\n",
              "2   1992    276.301        4012  ...  1073.007     20.970                     less\n",
              "3   1993    291.347        4152  ...  1145.020     24.799                     less\n",
              "4   1994    304.893        4200  ...  1216.957     26.837                     less\n",
              "5   1995    321.373        4290  ...  1288.895     28.970                     less\n",
              "6   1996    342.337        4444  ...  1359.580     33.784                     less\n",
              "7   1997    362.811        4600  ...  1438.104     39.005                     less\n",
              "8   1998    389.196        4775  ...  1488.226     43.343                     less\n",
              "9   1999    418.433        4900  ...  1542.417     50.330                     less\n",
              "10  2000    473.339        5039  ...  1610.638     52.796                     less\n",
              "11  2001    509.832        5182  ...  1663.294     52.662                     less\n",
              "12  2002    535.112        5329  ...  1699.470     52.913                     less\n",
              "13  2003    568.096        5480  ...  1741.366     62.115                     less\n",
              "14  2004    614.614        5350  ...  1777.769     70.266                     less\n",
              "15  2005    679.731        5473  ...  1828.842     83.129                     less\n",
              "16  2006    755.477        5600  ...  2358.591     98.055                     more\n",
              "17  2007    841.933        5728  ...  2403.771    110.630                     more\n",
              "18  2008    919.602        5850  ...  2452.016    101.066                     more\n",
              "19  2009    994.753        5980  ...  2434.489    122.793                     more\n",
              "20  2010   1075.453        6113  ...  2450.381    140.014                     more\n",
              "21  2011   1147.258        6249  ...  2430.589    142.588                     more\n",
              "22  2012   1213.882        6388  ...  2337.348    112.817                     more\n",
              "23  2013   1263.754        6530  ...  2712.888    107.864                     more\n",
              "24  2014   1331.563        6675  ...  2771.502    102.441                     more\n",
              "25  2015   1412.817        9531  ...  2859.514    111.057                     more\n",
              "\n",
              "[26 rows x 10 columns]"
            ]
          },
          "metadata": {
            "tags": []
          },
          "execution_count": 15
        }
      ]
    },
    {
      "cell_type": "code",
      "metadata": {
        "colab": {
          "base_uri": "https://localhost:8080/",
          "height": 296
        },
        "id": "CCdWiJ4tIARM",
        "outputId": "7b44edab-f466-49de-b886-2fadcac2b3a1"
      },
      "source": [
        "sns.boxplot(x = 'ref < 2000 , ref > 2000', y = 'accidents', data = df_box) \n",
        "# there is no outliers + there is a gap between two groupes "
      ],
      "execution_count": null,
      "outputs": [
        {
          "output_type": "execute_result",
          "data": {
            "text/plain": [
              "<matplotlib.axes._subplots.AxesSubplot at 0x7f43dffbd748>"
            ]
          },
          "metadata": {
            "tags": []
          },
          "execution_count": 16
        },
        {
          "output_type": "display_data",
          "data": {
            "image/png": "[encoded data removed]",
            "text/plain": [
              "<Figure size 432x288 with 1 Axes>"
            ]
          },
          "metadata": {
            "tags": [],
            "needs_background": "light"
          }
        }
      ]
    },
    {
      "cell_type": "code",
      "metadata": {
        "colab": {
          "base_uri": "https://localhost:8080/",
          "height": 296
        },
        "id": "_hYAMwoxIARM",
        "outputId": "257e0e35-286e-4379-bcfd-2968ff922175"
      },
      "source": [
        "sns.countplot(x='ref < 2000 , ref > 2000',data=df_box)\n",
        "# the data is unbalanced "
      ],
      "execution_count": null,
      "outputs": [
        {
          "output_type": "execute_result",
          "data": {
            "text/plain": [
              "<matplotlib.axes._subplots.AxesSubplot at 0x7f43dfeecf98>"
            ]
          },
          "metadata": {
            "tags": []
          },
          "execution_count": 17
        },
        {
          "output_type": "display_data",
          "data": {
            "image/png": "[encoded data removed]",
            "text/plain": [
              "<Figure size 432x288 with 1 Axes>"
            ]
          },
          "metadata": {
            "tags": [],
            "needs_background": "light"
          }
        }
      ]
    },
    {
      "cell_type": "markdown",
      "metadata": {
        "id": "q2onElveIARN"
      },
      "source": [
        "# Prepare the data for Machine Learning algorithms"
      ]
    },
    {
      "cell_type": "markdown",
      "metadata": {
        "id": "h_O8BGeqIARN"
      },
      "source": [
        "### Normalization"
      ]
    },
    {
      "cell_type": "code",
      "metadata": {
        "id": "hs82XL2dIARO"
      },
      "source": [
        "from sklearn.impute import SimpleImputer\n",
        "from sklearn import preprocessing\n",
        "\n",
        "#becuase no outliers using normalization is better than using standarization\n",
        "imputer = SimpleImputer(strategy='mean')\n",
        "imputed_data = imputer.fit_transform(df)\n",
        "\n",
        "min_max_scaler = preprocessing.MinMaxScaler()\n",
        "df_scaled = min_max_scaler.fit_transform(imputed_data)\n",
        "\n",
        "df_scaled = pd.DataFrame(df_scaled)\n",
        "df_scaled.columns = ['year','num_reg_v','population','proad_length','num_arrived','GNI','GDP','num_ref','accidents']"
      ],
      "execution_count": null,
      "outputs": []
    },
    {
      "cell_type": "code",
      "metadata": {
        "colab": {
          "base_uri": "https://localhost:8080/",
          "height": 195
        },
        "id": "dQwctg-OIARO",
        "outputId": "98f9682d-8bbe-45ea-bc80-77ab78229a30"
      },
      "source": [
        "df_scaled.head()"
      ],
      "execution_count": null,
      "outputs": [
        {
          "output_type": "execute_result",
          "data": {
            "text/html": [
              "<div>\n",
              "<style scoped>\n",
              "    .dataframe tbody tr th:only-of-type {\n",
              "        vertical-align: middle;\n",
              "    }\n",
              "\n",
              "    .dataframe tbody tr th {\n",
              "        vertical-align: top;\n",
              "    }\n",
              "\n",
              "    .dataframe thead th {\n",
              "        text-align: right;\n",
              "    }\n",
              "</style>\n",
              "<table border=\"1\" class=\"dataframe\">\n",
              "  <thead>\n",
              "    <tr style=\"text-align: right;\">\n",
              "      <th></th>\n",
              "      <th>year</th>\n",
              "      <th>num_reg_v</th>\n",
              "      <th>population</th>\n",
              "      <th>proad_length</th>\n",
              "      <th>num_arrived</th>\n",
              "      <th>GNI</th>\n",
              "      <th>GDP</th>\n",
              "      <th>num_ref</th>\n",
              "      <th>accidents</th>\n",
              "    </tr>\n",
              "  </thead>\n",
              "  <tbody>\n",
              "    <tr>\n",
              "      <th>0</th>\n",
              "      <td>0.00</td>\n",
              "      <td>0.000000</td>\n",
              "      <td>0.000000</td>\n",
              "      <td>0.000000</td>\n",
              "      <td>0.477686</td>\n",
              "      <td>0.053977</td>\n",
              "      <td>0.002968</td>\n",
              "      <td>0.000000</td>\n",
              "      <td>0.000000</td>\n",
              "    </tr>\n",
              "    <tr>\n",
              "      <th>1</th>\n",
              "      <td>0.04</td>\n",
              "      <td>0.003954</td>\n",
              "      <td>0.071570</td>\n",
              "      <td>0.063243</td>\n",
              "      <td>0.477686</td>\n",
              "      <td>0.000000</td>\n",
              "      <td>0.000000</td>\n",
              "      <td>0.037113</td>\n",
              "      <td>0.007359</td>\n",
              "    </tr>\n",
              "    <tr>\n",
              "      <th>2</th>\n",
              "      <td>0.08</td>\n",
              "      <td>0.018722</td>\n",
              "      <td>0.091971</td>\n",
              "      <td>0.149730</td>\n",
              "      <td>0.477686</td>\n",
              "      <td>0.053977</td>\n",
              "      <td>0.051449</td>\n",
              "      <td>0.074242</td>\n",
              "      <td>0.025106</td>\n",
              "    </tr>\n",
              "    <tr>\n",
              "      <th>3</th>\n",
              "      <td>0.12</td>\n",
              "      <td>0.031713</td>\n",
              "      <td>0.115005</td>\n",
              "      <td>0.230811</td>\n",
              "      <td>0.477686</td>\n",
              "      <td>0.059659</td>\n",
              "      <td>0.050900</td>\n",
              "      <td>0.111558</td>\n",
              "      <td>0.055800</td>\n",
              "    </tr>\n",
              "    <tr>\n",
              "      <th>4</th>\n",
              "      <td>0.16</td>\n",
              "      <td>0.043409</td>\n",
              "      <td>0.122902</td>\n",
              "      <td>0.329189</td>\n",
              "      <td>0.477686</td>\n",
              "      <td>0.073864</td>\n",
              "      <td>0.073721</td>\n",
              "      <td>0.148836</td>\n",
              "      <td>0.072136</td>\n",
              "    </tr>\n",
              "  </tbody>\n",
              "</table>\n",
              "</div>"
            ],
            "text/plain": [
              "   year  num_reg_v  population  ...       GDP   num_ref  accidents\n",
              "0  0.00   0.000000    0.000000  ...  0.002968  0.000000   0.000000\n",
              "1  0.04   0.003954    0.071570  ...  0.000000  0.037113   0.007359\n",
              "2  0.08   0.018722    0.091971  ...  0.051449  0.074242   0.025106\n",
              "3  0.12   0.031713    0.115005  ...  0.050900  0.111558   0.055800\n",
              "4  0.16   0.043409    0.122902  ...  0.073721  0.148836   0.072136\n",
              "\n",
              "[5 rows x 9 columns]"
            ]
          },
          "metadata": {
            "tags": []
          },
          "execution_count": 19
        }
      ]
    },
    {
      "cell_type": "code",
      "metadata": {
        "id": "U4OOS48_IARP"
      },
      "source": [
        "df_scaled['year'] = df['year']"
      ],
      "execution_count": null,
      "outputs": []
    },
    {
      "cell_type": "code",
      "metadata": {
        "colab": {
          "base_uri": "https://localhost:8080/",
          "height": 195
        },
        "id": "JCJALQsUIARP",
        "outputId": "bb0b89e6-8085-4ca2-8cf5-9d12abc9104d"
      },
      "source": [
        "df_scaled.head()"
      ],
      "execution_count": null,
      "outputs": [
        {
          "output_type": "execute_result",
          "data": {
            "text/html": [
              "<div>\n",
              "<style scoped>\n",
              "    .dataframe tbody tr th:only-of-type {\n",
              "        vertical-align: middle;\n",
              "    }\n",
              "\n",
              "    .dataframe tbody tr th {\n",
              "        vertical-align: top;\n",
              "    }\n",
              "\n",
              "    .dataframe thead th {\n",
              "        text-align: right;\n",
              "    }\n",
              "</style>\n",
              "<table border=\"1\" class=\"dataframe\">\n",
              "  <thead>\n",
              "    <tr style=\"text-align: right;\">\n",
              "      <th></th>\n",
              "      <th>year</th>\n",
              "      <th>num_reg_v</th>\n",
              "      <th>population</th>\n",
              "      <th>proad_length</th>\n",
              "      <th>num_arrived</th>\n",
              "      <th>GNI</th>\n",
              "      <th>GDP</th>\n",
              "      <th>num_ref</th>\n",
              "      <th>accidents</th>\n",
              "    </tr>\n",
              "  </thead>\n",
              "  <tbody>\n",
              "    <tr>\n",
              "      <th>0</th>\n",
              "      <td>1990</td>\n",
              "      <td>0.000000</td>\n",
              "      <td>0.000000</td>\n",
              "      <td>0.000000</td>\n",
              "      <td>0.477686</td>\n",
              "      <td>0.053977</td>\n",
              "      <td>0.002968</td>\n",
              "      <td>0.000000</td>\n",
              "      <td>0.000000</td>\n",
              "    </tr>\n",
              "    <tr>\n",
              "      <th>1</th>\n",
              "      <td>1991</td>\n",
              "      <td>0.003954</td>\n",
              "      <td>0.071570</td>\n",
              "      <td>0.063243</td>\n",
              "      <td>0.477686</td>\n",
              "      <td>0.000000</td>\n",
              "      <td>0.000000</td>\n",
              "      <td>0.037113</td>\n",
              "      <td>0.007359</td>\n",
              "    </tr>\n",
              "    <tr>\n",
              "      <th>2</th>\n",
              "      <td>1992</td>\n",
              "      <td>0.018722</td>\n",
              "      <td>0.091971</td>\n",
              "      <td>0.149730</td>\n",
              "      <td>0.477686</td>\n",
              "      <td>0.053977</td>\n",
              "      <td>0.051449</td>\n",
              "      <td>0.074242</td>\n",
              "      <td>0.025106</td>\n",
              "    </tr>\n",
              "    <tr>\n",
              "      <th>3</th>\n",
              "      <td>1993</td>\n",
              "      <td>0.031713</td>\n",
              "      <td>0.115005</td>\n",
              "      <td>0.230811</td>\n",
              "      <td>0.477686</td>\n",
              "      <td>0.059659</td>\n",
              "      <td>0.050900</td>\n",
              "      <td>0.111558</td>\n",
              "      <td>0.055800</td>\n",
              "    </tr>\n",
              "    <tr>\n",
              "      <th>4</th>\n",
              "      <td>1994</td>\n",
              "      <td>0.043409</td>\n",
              "      <td>0.122902</td>\n",
              "      <td>0.329189</td>\n",
              "      <td>0.477686</td>\n",
              "      <td>0.073864</td>\n",
              "      <td>0.073721</td>\n",
              "      <td>0.148836</td>\n",
              "      <td>0.072136</td>\n",
              "    </tr>\n",
              "  </tbody>\n",
              "</table>\n",
              "</div>"
            ],
            "text/plain": [
              "   year  num_reg_v  population  ...       GDP   num_ref  accidents\n",
              "0  1990   0.000000    0.000000  ...  0.002968  0.000000   0.000000\n",
              "1  1991   0.003954    0.071570  ...  0.000000  0.037113   0.007359\n",
              "2  1992   0.018722    0.091971  ...  0.051449  0.074242   0.025106\n",
              "3  1993   0.031713    0.115005  ...  0.050900  0.111558   0.055800\n",
              "4  1994   0.043409    0.122902  ...  0.073721  0.148836   0.072136\n",
              "\n",
              "[5 rows x 9 columns]"
            ]
          },
          "metadata": {
            "tags": []
          },
          "execution_count": 21
        }
      ]
    },
    {
      "cell_type": "markdown",
      "metadata": {
        "id": "LMFSQZa2IARQ"
      },
      "source": [
        "### Split data"
      ]
    },
    {
      "cell_type": "code",
      "metadata": {
        "id": "21Lt9eRyIARQ"
      },
      "source": [
        "from sklearn.model_selection import train_test_split  \n",
        "X = df_scaled.drop('accidents',axis=1)\n",
        "y = df_scaled['accidents']\n",
        "X_train, X_test, y_train, y_test= train_test_split(X, y, test_size= 0.2, random_state=3) "
      ],
      "execution_count": null,
      "outputs": []
    },
    {
      "cell_type": "markdown",
      "metadata": {
        "id": "MOl4WpKfIARQ"
      },
      "source": [
        "# Creating a Model"
      ]
    },
    {
      "cell_type": "code",
      "metadata": {
        "scrolled": true,
        "id": "P_hWE8duIARR"
      },
      "source": [
        "from tensorflow.keras.models import Sequential\n",
        "from tensorflow.keras.layers import Dense, Activation\n",
        "from tensorflow.keras.optimizers import Adam\n",
        "from tensorflow.keras.constraints import max_norm"
      ],
      "execution_count": null,
      "outputs": []
    },
    {
      "cell_type": "code",
      "metadata": {
        "id": "qAONYBKGIARR"
      },
      "source": [
        "model = Sequential()\r\n",
        "\r\n",
        "model.add(Dense(19,activation='relu'))\r\n",
        "model.add(Dense(19,activation='relu'))\r\n",
        "model.add(Dense(19,activation='relu'))\r\n",
        "model.add(Dense(19,activation='relu'))\r\n",
        "model.add(Dense(1))\r\n",
        "\r\n",
        "model.compile(optimizer='adam',loss='mse')"
      ],
      "execution_count": null,
      "outputs": []
    },
    {
      "cell_type": "markdown",
      "metadata": {
        "id": "nDiywspLKmqP"
      },
      "source": [
        "# Training the Model"
      ]
    },
    {
      "cell_type": "code",
      "metadata": {
        "colab": {
          "base_uri": "https://localhost:8080/"
        },
        "id": "635EOEQ5Ktd4",
        "outputId": "0140e344-ac56-454b-894e-e644ac714c4d"
      },
      "source": [
        "model.fit(x=X_train,y=y_train.values,\r\n",
        "          validation_data=(X_test,y_test.values),\r\n",
        "          batch_size=128,epochs=400)"
      ],
      "execution_count": null,
      "outputs": [
        {
          "output_type": "stream",
          "text": [
            "Epoch 1/400\n",
            "1/1 [==============================] - 1s 563ms/step - loss: 17142.8184 - val_loss: 14159.6123\n",
            "Epoch 2/400\n",
            "1/1 [==============================] - 0s 38ms/step - loss: 14137.7783 - val_loss: 11830.3389\n",
            "Epoch 3/400\n",
            "1/1 [==============================] - 0s 36ms/step - loss: 11812.7637 - val_loss: 10001.0205\n",
            "Epoch 4/400\n",
            "1/1 [==============================] - 0s 38ms/step - loss: 9989.8223 - val_loss: 8328.9404\n",
            "Epoch 5/400\n",
            "1/1 [==============================] - 0s 37ms/step - loss: 8323.2559 - val_loss: 6842.9009\n",
            "Epoch 6/400\n",
            "1/1 [==============================] - 0s 35ms/step - loss: 6841.7568 - val_loss: 5570.5059\n",
            "Epoch 7/400\n",
            "1/1 [==============================] - 0s 39ms/step - loss: 5573.8643 - val_loss: 4521.8789\n",
            "Epoch 8/400\n",
            "1/1 [==============================] - 0s 36ms/step - loss: 4527.7119 - val_loss: 3608.3389\n",
            "Epoch 9/400\n",
            "1/1 [==============================] - 0s 40ms/step - loss: 3615.9844 - val_loss: 2826.5217\n",
            "Epoch 10/400\n",
            "1/1 [==============================] - 0s 38ms/step - loss: 2834.9888 - val_loss: 2199.3545\n",
            "Epoch 11/400\n",
            "1/1 [==============================] - 0s 45ms/step - loss: 2208.2612 - val_loss: 1673.0796\n",
            "Epoch 12/400\n",
            "1/1 [==============================] - 0s 37ms/step - loss: 1682.2488 - val_loss: 1258.7777\n",
            "Epoch 13/400\n",
            "1/1 [==============================] - 0s 41ms/step - loss: 1267.9847 - val_loss: 966.2318\n",
            "Epoch 14/400\n",
            "1/1 [==============================] - 0s 46ms/step - loss: 975.0533 - val_loss: 717.2305\n",
            "Epoch 15/400\n",
            "1/1 [==============================] - 0s 37ms/step - loss: 725.1868 - val_loss: 509.8969\n",
            "Epoch 16/400\n",
            "1/1 [==============================] - 0s 40ms/step - loss: 517.1542 - val_loss: 342.9893\n",
            "Epoch 17/400\n",
            "1/1 [==============================] - 0s 37ms/step - loss: 349.5970 - val_loss: 216.5692\n",
            "Epoch 18/400\n",
            "1/1 [==============================] - 0s 39ms/step - loss: 222.1470 - val_loss: 124.0892\n",
            "Epoch 19/400\n",
            "1/1 [==============================] - 0s 37ms/step - loss: 128.4435 - val_loss: 60.8445\n",
            "Epoch 20/400\n",
            "1/1 [==============================] - 0s 39ms/step - loss: 64.0764 - val_loss: 22.1007\n",
            "Epoch 21/400\n",
            "1/1 [==============================] - 0s 39ms/step - loss: 24.1853 - val_loss: 4.6479\n",
            "Epoch 22/400\n",
            "1/1 [==============================] - 0s 40ms/step - loss: 5.7906 - val_loss: 0.2986\n",
            "Epoch 23/400\n",
            "1/1 [==============================] - 0s 45ms/step - loss: 0.6845 - val_loss: 3.0653\n",
            "Epoch 24/400\n",
            "1/1 [==============================] - 0s 40ms/step - loss: 2.4000 - val_loss: 10.5428\n",
            "Epoch 25/400\n",
            "1/1 [==============================] - 0s 39ms/step - loss: 9.1541 - val_loss: 17.9984\n",
            "Epoch 26/400\n",
            "1/1 [==============================] - 0s 40ms/step - loss: 16.1150 - val_loss: 23.4380\n",
            "Epoch 27/400\n",
            "1/1 [==============================] - 0s 37ms/step - loss: 21.2515 - val_loss: 26.1247\n",
            "Epoch 28/400\n",
            "1/1 [==============================] - 0s 40ms/step - loss: 23.7995 - val_loss: 26.2153\n",
            "Epoch 29/400\n",
            "1/1 [==============================] - 0s 37ms/step - loss: 23.8712 - val_loss: 24.5657\n",
            "Epoch 30/400\n",
            "1/1 [==============================] - 0s 43ms/step - loss: 22.3055 - val_loss: 21.1218\n",
            "Epoch 31/400\n",
            "1/1 [==============================] - 0s 42ms/step - loss: 19.0460 - val_loss: 18.5130\n",
            "Epoch 32/400\n",
            "1/1 [==============================] - 0s 37ms/step - loss: 16.5319 - val_loss: 16.1573\n",
            "Epoch 33/400\n",
            "1/1 [==============================] - 0s 35ms/step - loss: 14.3229 - val_loss: 13.2703\n",
            "Epoch 34/400\n",
            "1/1 [==============================] - 0s 37ms/step - loss: 11.6298 - val_loss: 10.1788\n",
            "Epoch 35/400\n",
            "1/1 [==============================] - 0s 38ms/step - loss: 8.7689 - val_loss: 7.2941\n",
            "Epoch 36/400\n",
            "1/1 [==============================] - 0s 43ms/step - loss: 6.1291 - val_loss: 5.3857\n",
            "Epoch 37/400\n",
            "1/1 [==============================] - 0s 42ms/step - loss: 4.4328 - val_loss: 4.2170\n",
            "Epoch 38/400\n",
            "1/1 [==============================] - 0s 39ms/step - loss: 3.3935 - val_loss: 3.1164\n",
            "Epoch 39/400\n",
            "1/1 [==============================] - 0s 37ms/step - loss: 2.4317 - val_loss: 2.1433\n",
            "Epoch 40/400\n",
            "1/1 [==============================] - 0s 40ms/step - loss: 1.6031 - val_loss: 1.3403\n",
            "Epoch 41/400\n",
            "1/1 [==============================] - 0s 41ms/step - loss: 0.9461 - val_loss: 0.7310\n",
            "Epoch 42/400\n",
            "1/1 [==============================] - 0s 37ms/step - loss: 0.4810 - val_loss: 0.3200\n",
            "Epoch 43/400\n",
            "1/1 [==============================] - 0s 39ms/step - loss: 0.2087 - val_loss: 0.0941\n",
            "Epoch 44/400\n",
            "1/1 [==============================] - 0s 39ms/step - loss: 0.1130 - val_loss: 0.0254\n",
            "Epoch 45/400\n",
            "1/1 [==============================] - 0s 35ms/step - loss: 0.1631 - val_loss: 0.0756\n",
            "Epoch 46/400\n",
            "1/1 [==============================] - 0s 36ms/step - loss: 0.3180 - val_loss: 0.2008\n",
            "Epoch 47/400\n",
            "1/1 [==============================] - 0s 42ms/step - loss: 0.5321 - val_loss: 0.3577\n",
            "Epoch 48/400\n",
            "1/1 [==============================] - 0s 51ms/step - loss: 0.7605 - val_loss: 0.5082\n",
            "Epoch 49/400\n",
            "1/1 [==============================] - 0s 41ms/step - loss: 0.9646 - val_loss: 0.6235\n",
            "Epoch 50/400\n",
            "1/1 [==============================] - 0s 37ms/step - loss: 1.1153 - val_loss: 0.6862\n",
            "Epoch 51/400\n",
            "1/1 [==============================] - 0s 43ms/step - loss: 1.1959 - val_loss: 0.6905\n",
            "Epoch 52/400\n",
            "1/1 [==============================] - 0s 37ms/step - loss: 1.2014 - val_loss: 0.6409\n",
            "Epoch 53/400\n",
            "1/1 [==============================] - 0s 38ms/step - loss: 1.1378 - val_loss: 0.5493\n",
            "Epoch 54/400\n",
            "1/1 [==============================] - 0s 38ms/step - loss: 1.0188 - val_loss: 0.4326\n",
            "Epoch 55/400\n",
            "1/1 [==============================] - 0s 41ms/step - loss: 0.8633 - val_loss: 0.3088\n",
            "Epoch 56/400\n",
            "1/1 [==============================] - 0s 40ms/step - loss: 0.6916 - val_loss: 0.1949\n",
            "Epoch 57/400\n",
            "1/1 [==============================] - 0s 39ms/step - loss: 0.5229 - val_loss: 0.1046\n",
            "Epoch 58/400\n",
            "1/1 [==============================] - 0s 40ms/step - loss: 0.3732 - val_loss: 0.0469\n",
            "Epoch 59/400\n",
            "1/1 [==============================] - 0s 39ms/step - loss: 0.2538 - val_loss: 0.0255\n",
            "Epoch 60/400\n",
            "1/1 [==============================] - 0s 40ms/step - loss: 0.1707 - val_loss: 0.0394\n",
            "Epoch 61/400\n",
            "1/1 [==============================] - 0s 41ms/step - loss: 0.1247 - val_loss: 0.0829\n",
            "Epoch 62/400\n",
            "1/1 [==============================] - 0s 41ms/step - loss: 0.1121 - val_loss: 0.1478\n",
            "Epoch 63/400\n",
            "1/1 [==============================] - 0s 43ms/step - loss: 0.1261 - val_loss: 0.2240\n",
            "Epoch 64/400\n",
            "1/1 [==============================] - 0s 41ms/step - loss: 0.1579 - val_loss: 0.3011\n",
            "Epoch 65/400\n",
            "1/1 [==============================] - 0s 39ms/step - loss: 0.1981 - val_loss: 0.3700\n",
            "Epoch 66/400\n",
            "1/1 [==============================] - 0s 39ms/step - loss: 0.2382 - val_loss: 0.4236\n",
            "Epoch 67/400\n",
            "1/1 [==============================] - 0s 273ms/step - loss: 0.2713 - val_loss: 0.4571\n",
            "Epoch 68/400\n",
            "1/1 [==============================] - 0s 43ms/step - loss: 0.2926 - val_loss: 0.4687\n",
            "Epoch 69/400\n",
            "1/1 [==============================] - 0s 42ms/step - loss: 0.3001 - val_loss: 0.4590\n",
            "Epoch 70/400\n",
            "1/1 [==============================] - 0s 41ms/step - loss: 0.2939 - val_loss: 0.4309\n",
            "Epoch 71/400\n",
            "1/1 [==============================] - 0s 38ms/step - loss: 0.2759 - val_loss: 0.3887\n",
            "Epoch 72/400\n",
            "1/1 [==============================] - 0s 38ms/step - loss: 0.2495 - val_loss: 0.3373\n",
            "Epoch 73/400\n",
            "1/1 [==============================] - 0s 41ms/step - loss: 0.2188 - val_loss: 0.2820\n",
            "Epoch 74/400\n",
            "1/1 [==============================] - 0s 39ms/step - loss: 0.1876 - val_loss: 0.2274\n",
            "Epoch 75/400\n",
            "1/1 [==============================] - 0s 39ms/step - loss: 0.1596 - val_loss: 0.1772\n",
            "Epoch 76/400\n",
            "1/1 [==============================] - 0s 40ms/step - loss: 0.1371 - val_loss: 0.1340\n",
            "Epoch 77/400\n",
            "1/1 [==============================] - 0s 38ms/step - loss: 0.1217 - val_loss: 0.0990\n",
            "Epoch 78/400\n",
            "1/1 [==============================] - 0s 39ms/step - loss: 0.1137 - val_loss: 0.0725\n",
            "Epoch 79/400\n",
            "1/1 [==============================] - 0s 37ms/step - loss: 0.1122 - val_loss: 0.0538\n",
            "Epoch 80/400\n",
            "1/1 [==============================] - 0s 37ms/step - loss: 0.1159 - val_loss: 0.0415\n",
            "Epoch 81/400\n",
            "1/1 [==============================] - 0s 42ms/step - loss: 0.1228 - val_loss: 0.0340\n",
            "Epoch 82/400\n",
            "1/1 [==============================] - 0s 40ms/step - loss: 0.1310 - val_loss: 0.0300\n",
            "Epoch 83/400\n",
            "1/1 [==============================] - 0s 39ms/step - loss: 0.1386 - val_loss: 0.0280\n",
            "Epoch 84/400\n",
            "1/1 [==============================] - 0s 41ms/step - loss: 0.1442 - val_loss: 0.0273\n",
            "Epoch 85/400\n",
            "1/1 [==============================] - 0s 37ms/step - loss: 0.1471 - val_loss: 0.0273\n",
            "Epoch 86/400\n",
            "1/1 [==============================] - 0s 37ms/step - loss: 0.1470 - val_loss: 0.0280\n",
            "Epoch 87/400\n",
            "1/1 [==============================] - 0s 41ms/step - loss: 0.1442 - val_loss: 0.0297\n",
            "Epoch 88/400\n",
            "1/1 [==============================] - 0s 41ms/step - loss: 0.1393 - val_loss: 0.0326\n",
            "Epoch 89/400\n",
            "1/1 [==============================] - 0s 46ms/step - loss: 0.1333 - val_loss: 0.0371\n",
            "Epoch 90/400\n",
            "1/1 [==============================] - 0s 41ms/step - loss: 0.1270 - val_loss: 0.0435\n",
            "Epoch 91/400\n",
            "1/1 [==============================] - 0s 45ms/step - loss: 0.1213 - val_loss: 0.0517\n",
            "Epoch 92/400\n",
            "1/1 [==============================] - 0s 40ms/step - loss: 0.1167 - val_loss: 0.0616\n",
            "Epoch 93/400\n",
            "1/1 [==============================] - 0s 47ms/step - loss: 0.1137 - val_loss: 0.0725\n",
            "Epoch 94/400\n",
            "1/1 [==============================] - 0s 39ms/step - loss: 0.1122 - val_loss: 0.0840\n",
            "Epoch 95/400\n",
            "1/1 [==============================] - 0s 41ms/step - loss: 0.1122 - val_loss: 0.0951\n",
            "Epoch 96/400\n",
            "1/1 [==============================] - 0s 43ms/step - loss: 0.1131 - val_loss: 0.1053\n",
            "Epoch 97/400\n",
            "1/1 [==============================] - 0s 40ms/step - loss: 0.1147 - val_loss: 0.1138\n",
            "Epoch 98/400\n",
            "1/1 [==============================] - 0s 38ms/step - loss: 0.1164 - val_loss: 0.1201\n",
            "Epoch 99/400\n",
            "1/1 [==============================] - 0s 40ms/step - loss: 0.1179 - val_loss: 0.1240\n",
            "Epoch 100/400\n",
            "1/1 [==============================] - 0s 40ms/step - loss: 0.1189 - val_loss: 0.1253\n",
            "Epoch 101/400\n",
            "1/1 [==============================] - 0s 39ms/step - loss: 0.1192 - val_loss: 0.1241\n",
            "Epoch 102/400\n",
            "1/1 [==============================] - 0s 38ms/step - loss: 0.1189 - val_loss: 0.1209\n",
            "Epoch 103/400\n",
            "1/1 [==============================] - 0s 44ms/step - loss: 0.1181 - val_loss: 0.1159\n",
            "Epoch 104/400\n",
            "1/1 [==============================] - 0s 40ms/step - loss: 0.1169 - val_loss: 0.1098\n",
            "Epoch 105/400\n",
            "1/1 [==============================] - 0s 38ms/step - loss: 0.1156 - val_loss: 0.1029\n",
            "Epoch 106/400\n",
            "1/1 [==============================] - 0s 36ms/step - loss: 0.1143 - val_loss: 0.0959\n",
            "Epoch 107/400\n",
            "1/1 [==============================] - 0s 40ms/step - loss: 0.1132 - val_loss: 0.0890\n",
            "Epoch 108/400\n",
            "1/1 [==============================] - 0s 38ms/step - loss: 0.1125 - val_loss: 0.0826\n",
            "Epoch 109/400\n",
            "1/1 [==============================] - 0s 44ms/step - loss: 0.1121 - val_loss: 0.0770\n",
            "Epoch 110/400\n",
            "1/1 [==============================] - 0s 41ms/step - loss: 0.1120 - val_loss: 0.0722\n",
            "Epoch 111/400\n",
            "1/1 [==============================] - 0s 42ms/step - loss: 0.1122 - val_loss: 0.0684\n",
            "Epoch 112/400\n",
            "1/1 [==============================] - 0s 41ms/step - loss: 0.1126 - val_loss: 0.0655\n",
            "Epoch 113/400\n",
            "1/1 [==============================] - 0s 45ms/step - loss: 0.1130 - val_loss: 0.0635\n",
            "Epoch 114/400\n",
            "1/1 [==============================] - 0s 46ms/step - loss: 0.1133 - val_loss: 0.0623\n",
            "Epoch 115/400\n",
            "1/1 [==============================] - 0s 42ms/step - loss: 0.1135 - val_loss: 0.0620\n",
            "Epoch 116/400\n",
            "1/1 [==============================] - 0s 44ms/step - loss: 0.1136 - val_loss: 0.0624\n",
            "Epoch 117/400\n",
            "1/1 [==============================] - 0s 42ms/step - loss: 0.1135 - val_loss: 0.0635\n",
            "Epoch 118/400\n",
            "1/1 [==============================] - 0s 40ms/step - loss: 0.1133 - val_loss: 0.0651\n",
            "Epoch 119/400\n",
            "1/1 [==============================] - 0s 46ms/step - loss: 0.1130 - val_loss: 0.0672\n",
            "Epoch 120/400\n",
            "1/1 [==============================] - 0s 42ms/step - loss: 0.1127 - val_loss: 0.0697\n",
            "Epoch 121/400\n",
            "1/1 [==============================] - 0s 41ms/step - loss: 0.1124 - val_loss: 0.0724\n",
            "Epoch 122/400\n",
            "1/1 [==============================] - 0s 42ms/step - loss: 0.1122 - val_loss: 0.0753\n",
            "Epoch 123/400\n",
            "1/1 [==============================] - 0s 48ms/step - loss: 0.1121 - val_loss: 0.0781\n",
            "Epoch 124/400\n",
            "1/1 [==============================] - 0s 47ms/step - loss: 0.1120 - val_loss: 0.0807\n",
            "Epoch 125/400\n",
            "1/1 [==============================] - 0s 44ms/step - loss: 0.1120 - val_loss: 0.0830\n",
            "Epoch 126/400\n",
            "1/1 [==============================] - 0s 42ms/step - loss: 0.1121 - val_loss: 0.0849\n",
            "Epoch 127/400\n",
            "1/1 [==============================] - 0s 43ms/step - loss: 0.1122 - val_loss: 0.0864\n",
            "Epoch 128/400\n",
            "1/1 [==============================] - 0s 44ms/step - loss: 0.1123 - val_loss: 0.0873\n",
            "Epoch 129/400\n",
            "1/1 [==============================] - 0s 43ms/step - loss: 0.1123 - val_loss: 0.0877\n",
            "Epoch 130/400\n",
            "1/1 [==============================] - 0s 44ms/step - loss: 0.1124 - val_loss: 0.0877\n",
            "Epoch 131/400\n",
            "1/1 [==============================] - 0s 46ms/step - loss: 0.1124 - val_loss: 0.0871\n",
            "Epoch 132/400\n",
            "1/1 [==============================] - 0s 49ms/step - loss: 0.1123 - val_loss: 0.0862\n",
            "Epoch 133/400\n",
            "1/1 [==============================] - 0s 41ms/step - loss: 0.1123 - val_loss: 0.0850\n",
            "Epoch 134/400\n",
            "1/1 [==============================] - 0s 43ms/step - loss: 0.1122 - val_loss: 0.0836\n",
            "Epoch 135/400\n",
            "1/1 [==============================] - 0s 40ms/step - loss: 0.1121 - val_loss: 0.0821\n",
            "Epoch 136/400\n",
            "1/1 [==============================] - 0s 47ms/step - loss: 0.1121 - val_loss: 0.0806\n",
            "Epoch 137/400\n",
            "1/1 [==============================] - 0s 48ms/step - loss: 0.1120 - val_loss: 0.0792\n",
            "Epoch 138/400\n",
            "1/1 [==============================] - 0s 40ms/step - loss: 0.1120 - val_loss: 0.0779\n",
            "Epoch 139/400\n",
            "1/1 [==============================] - 0s 43ms/step - loss: 0.1120 - val_loss: 0.0767\n",
            "Epoch 140/400\n",
            "1/1 [==============================] - 0s 43ms/step - loss: 0.1120 - val_loss: 0.0758\n",
            "Epoch 141/400\n",
            "1/1 [==============================] - 0s 41ms/step - loss: 0.1121 - val_loss: 0.0752\n",
            "Epoch 142/400\n",
            "1/1 [==============================] - 0s 42ms/step - loss: 0.1121 - val_loss: 0.0747\n",
            "Epoch 143/400\n",
            "1/1 [==============================] - 0s 46ms/step - loss: 0.1121 - val_loss: 0.0746\n",
            "Epoch 144/400\n",
            "1/1 [==============================] - 0s 41ms/step - loss: 0.1121 - val_loss: 0.0746\n",
            "Epoch 145/400\n",
            "1/1 [==============================] - 0s 38ms/step - loss: 0.1121 - val_loss: 0.0749\n",
            "Epoch 146/400\n",
            "1/1 [==============================] - 0s 46ms/step - loss: 0.1121 - val_loss: 0.0753\n",
            "Epoch 147/400\n",
            "1/1 [==============================] - 0s 41ms/step - loss: 0.1121 - val_loss: 0.0758\n",
            "Epoch 148/400\n",
            "1/1 [==============================] - 0s 39ms/step - loss: 0.1120 - val_loss: 0.0765\n",
            "Epoch 149/400\n",
            "1/1 [==============================] - 0s 39ms/step - loss: 0.1120 - val_loss: 0.0772\n",
            "Epoch 150/400\n",
            "1/1 [==============================] - 0s 39ms/step - loss: 0.1120 - val_loss: 0.0780\n",
            "Epoch 151/400\n",
            "1/1 [==============================] - 0s 41ms/step - loss: 0.1120 - val_loss: 0.0787\n",
            "Epoch 152/400\n",
            "1/1 [==============================] - 0s 43ms/step - loss: 0.1120 - val_loss: 0.0793\n",
            "Epoch 153/400\n",
            "1/1 [==============================] - 0s 50ms/step - loss: 0.1120 - val_loss: 0.0799\n",
            "Epoch 154/400\n",
            "1/1 [==============================] - 0s 46ms/step - loss: 0.1120 - val_loss: 0.0803\n",
            "Epoch 155/400\n",
            "1/1 [==============================] - 0s 43ms/step - loss: 0.1120 - val_loss: 0.0806\n",
            "Epoch 156/400\n",
            "1/1 [==============================] - 0s 39ms/step - loss: 0.1120 - val_loss: 0.0808\n",
            "Epoch 157/400\n",
            "1/1 [==============================] - 0s 42ms/step - loss: 0.1120 - val_loss: 0.0808\n",
            "Epoch 158/400\n",
            "1/1 [==============================] - 0s 52ms/step - loss: 0.1120 - val_loss: 0.0807\n",
            "Epoch 159/400\n",
            "1/1 [==============================] - 0s 58ms/step - loss: 0.1120 - val_loss: 0.0806\n",
            "Epoch 160/400\n",
            "1/1 [==============================] - 0s 50ms/step - loss: 0.1120 - val_loss: 0.0803\n",
            "Epoch 161/400\n",
            "1/1 [==============================] - 0s 44ms/step - loss: 0.1120 - val_loss: 0.0800\n",
            "Epoch 162/400\n",
            "1/1 [==============================] - 0s 38ms/step - loss: 0.1120 - val_loss: 0.0796\n",
            "Epoch 163/400\n",
            "1/1 [==============================] - 0s 47ms/step - loss: 0.1120 - val_loss: 0.0792\n",
            "Epoch 164/400\n",
            "1/1 [==============================] - 0s 40ms/step - loss: 0.1120 - val_loss: 0.0788\n",
            "Epoch 165/400\n",
            "1/1 [==============================] - 0s 41ms/step - loss: 0.1120 - val_loss: 0.0785\n",
            "Epoch 166/400\n",
            "1/1 [==============================] - 0s 41ms/step - loss: 0.1120 - val_loss: 0.0782\n",
            "Epoch 167/400\n",
            "1/1 [==============================] - 0s 43ms/step - loss: 0.1120 - val_loss: 0.0780\n",
            "Epoch 168/400\n",
            "1/1 [==============================] - 0s 42ms/step - loss: 0.1120 - val_loss: 0.0778\n",
            "Epoch 169/400\n",
            "1/1 [==============================] - 0s 40ms/step - loss: 0.1120 - val_loss: 0.0777\n",
            "Epoch 170/400\n",
            "1/1 [==============================] - 0s 41ms/step - loss: 0.1120 - val_loss: 0.0776\n",
            "Epoch 171/400\n",
            "1/1 [==============================] - 0s 46ms/step - loss: 0.1120 - val_loss: 0.0777\n",
            "Epoch 172/400\n",
            "1/1 [==============================] - 0s 42ms/step - loss: 0.1120 - val_loss: 0.0777\n",
            "Epoch 173/400\n",
            "1/1 [==============================] - 0s 42ms/step - loss: 0.1120 - val_loss: 0.0779\n",
            "Epoch 174/400\n",
            "1/1 [==============================] - 0s 39ms/step - loss: 0.1120 - val_loss: 0.0780\n",
            "Epoch 175/400\n",
            "1/1 [==============================] - 0s 39ms/step - loss: 0.1120 - val_loss: 0.0782\n",
            "Epoch 176/400\n",
            "1/1 [==============================] - 0s 39ms/step - loss: 0.1120 - val_loss: 0.0784\n",
            "Epoch 177/400\n",
            "1/1 [==============================] - 0s 45ms/step - loss: 0.1120 - val_loss: 0.0786\n",
            "Epoch 178/400\n",
            "1/1 [==============================] - 0s 41ms/step - loss: 0.1120 - val_loss: 0.0788\n",
            "Epoch 179/400\n",
            "1/1 [==============================] - 0s 273ms/step - loss: 0.1120 - val_loss: 0.0789\n",
            "Epoch 180/400\n",
            "1/1 [==============================] - 0s 39ms/step - loss: 0.1120 - val_loss: 0.0791\n",
            "Epoch 181/400\n",
            "1/1 [==============================] - 0s 39ms/step - loss: 0.1120 - val_loss: 0.0791\n",
            "Epoch 182/400\n",
            "1/1 [==============================] - 0s 44ms/step - loss: 0.1120 - val_loss: 0.0792\n",
            "Epoch 183/400\n",
            "1/1 [==============================] - 0s 44ms/step - loss: 0.1120 - val_loss: 0.0792\n",
            "Epoch 184/400\n",
            "1/1 [==============================] - 0s 43ms/step - loss: 0.1120 - val_loss: 0.0792\n",
            "Epoch 185/400\n",
            "1/1 [==============================] - 0s 42ms/step - loss: 0.1120 - val_loss: 0.0792\n",
            "Epoch 186/400\n",
            "1/1 [==============================] - 0s 39ms/step - loss: 0.1120 - val_loss: 0.0791\n",
            "Epoch 187/400\n",
            "1/1 [==============================] - 0s 38ms/step - loss: 0.1120 - val_loss: 0.0790\n",
            "Epoch 188/400\n",
            "1/1 [==============================] - 0s 39ms/step - loss: 0.1120 - val_loss: 0.0789\n",
            "Epoch 189/400\n",
            "1/1 [==============================] - 0s 46ms/step - loss: 0.1120 - val_loss: 0.0788\n",
            "Epoch 190/400\n",
            "1/1 [==============================] - 0s 42ms/step - loss: 0.1120 - val_loss: 0.0787\n",
            "Epoch 191/400\n",
            "1/1 [==============================] - 0s 40ms/step - loss: 0.1120 - val_loss: 0.0786\n",
            "Epoch 192/400\n",
            "1/1 [==============================] - 0s 40ms/step - loss: 0.1120 - val_loss: 0.0786\n",
            "Epoch 193/400\n",
            "1/1 [==============================] - 0s 41ms/step - loss: 0.1120 - val_loss: 0.0785\n",
            "Epoch 194/400\n",
            "1/1 [==============================] - 0s 46ms/step - loss: 0.1120 - val_loss: 0.0785\n",
            "Epoch 195/400\n",
            "1/1 [==============================] - 0s 43ms/step - loss: 0.1120 - val_loss: 0.0784\n",
            "Epoch 196/400\n",
            "1/1 [==============================] - 0s 40ms/step - loss: 0.1120 - val_loss: 0.0784\n",
            "Epoch 197/400\n",
            "1/1 [==============================] - 0s 38ms/step - loss: 0.1120 - val_loss: 0.0784\n",
            "Epoch 198/400\n",
            "1/1 [==============================] - 0s 40ms/step - loss: 0.1120 - val_loss: 0.0784\n",
            "Epoch 199/400\n",
            "1/1 [==============================] - 0s 48ms/step - loss: 0.1120 - val_loss: 0.0785\n",
            "Epoch 200/400\n",
            "1/1 [==============================] - 0s 46ms/step - loss: 0.1120 - val_loss: 0.0785\n",
            "Epoch 201/400\n",
            "1/1 [==============================] - 0s 43ms/step - loss: 0.1120 - val_loss: 0.0785\n",
            "Epoch 202/400\n",
            "1/1 [==============================] - 0s 41ms/step - loss: 0.1120 - val_loss: 0.0786\n",
            "Epoch 203/400\n",
            "1/1 [==============================] - 0s 41ms/step - loss: 0.1120 - val_loss: 0.0786\n",
            "Epoch 204/400\n",
            "1/1 [==============================] - 0s 44ms/step - loss: 0.1120 - val_loss: 0.0787\n",
            "Epoch 205/400\n",
            "1/1 [==============================] - 0s 48ms/step - loss: 0.1120 - val_loss: 0.0787\n",
            "Epoch 206/400\n",
            "1/1 [==============================] - 0s 42ms/step - loss: 0.1120 - val_loss: 0.0787\n",
            "Epoch 207/400\n",
            "1/1 [==============================] - 0s 41ms/step - loss: 0.1120 - val_loss: 0.0788\n",
            "Epoch 208/400\n",
            "1/1 [==============================] - 0s 39ms/step - loss: 0.1120 - val_loss: 0.0788\n",
            "Epoch 209/400\n",
            "1/1 [==============================] - 0s 45ms/step - loss: 0.1120 - val_loss: 0.0788\n",
            "Epoch 210/400\n",
            "1/1 [==============================] - 0s 41ms/step - loss: 0.1120 - val_loss: 0.0788\n",
            "Epoch 211/400\n",
            "1/1 [==============================] - 0s 45ms/step - loss: 0.1120 - val_loss: 0.0788\n",
            "Epoch 212/400\n",
            "1/1 [==============================] - 0s 48ms/step - loss: 0.1120 - val_loss: 0.0788\n",
            "Epoch 213/400\n",
            "1/1 [==============================] - 0s 43ms/step - loss: 0.1120 - val_loss: 0.0788\n",
            "Epoch 214/400\n",
            "1/1 [==============================] - 0s 40ms/step - loss: 0.1120 - val_loss: 0.0788\n",
            "Epoch 215/400\n",
            "1/1 [==============================] - 0s 42ms/step - loss: 0.1120 - val_loss: 0.0787\n",
            "Epoch 216/400\n",
            "1/1 [==============================] - 0s 44ms/step - loss: 0.1120 - val_loss: 0.0787\n",
            "Epoch 217/400\n",
            "1/1 [==============================] - 0s 43ms/step - loss: 0.1120 - val_loss: 0.0787\n",
            "Epoch 218/400\n",
            "1/1 [==============================] - 0s 40ms/step - loss: 0.1120 - val_loss: 0.0787\n",
            "Epoch 219/400\n",
            "1/1 [==============================] - 0s 48ms/step - loss: 0.1120 - val_loss: 0.0786\n",
            "Epoch 220/400\n",
            "1/1 [==============================] - 0s 45ms/step - loss: 0.1120 - val_loss: 0.0786\n",
            "Epoch 221/400\n",
            "1/1 [==============================] - 0s 43ms/step - loss: 0.1120 - val_loss: 0.0786\n",
            "Epoch 222/400\n",
            "1/1 [==============================] - 0s 37ms/step - loss: 0.1120 - val_loss: 0.0786\n",
            "Epoch 223/400\n",
            "1/1 [==============================] - 0s 46ms/step - loss: 0.1120 - val_loss: 0.0786\n",
            "Epoch 224/400\n",
            "1/1 [==============================] - 0s 45ms/step - loss: 0.1120 - val_loss: 0.0786\n",
            "Epoch 225/400\n",
            "1/1 [==============================] - 0s 44ms/step - loss: 0.1120 - val_loss: 0.0786\n",
            "Epoch 226/400\n",
            "1/1 [==============================] - 0s 41ms/step - loss: 0.1120 - val_loss: 0.0786\n",
            "Epoch 227/400\n",
            "1/1 [==============================] - 0s 46ms/step - loss: 0.1120 - val_loss: 0.0786\n",
            "Epoch 228/400\n",
            "1/1 [==============================] - 0s 41ms/step - loss: 0.1120 - val_loss: 0.0786\n",
            "Epoch 229/400\n",
            "1/1 [==============================] - 0s 44ms/step - loss: 0.1120 - val_loss: 0.0786\n",
            "Epoch 230/400\n",
            "1/1 [==============================] - 0s 43ms/step - loss: 0.1120 - val_loss: 0.0787\n",
            "Epoch 231/400\n",
            "1/1 [==============================] - 0s 43ms/step - loss: 0.1120 - val_loss: 0.0787\n",
            "Epoch 232/400\n",
            "1/1 [==============================] - 0s 42ms/step - loss: 0.1120 - val_loss: 0.0787\n",
            "Epoch 233/400\n",
            "1/1 [==============================] - 0s 41ms/step - loss: 0.1120 - val_loss: 0.0787\n",
            "Epoch 234/400\n",
            "1/1 [==============================] - 0s 37ms/step - loss: 0.1120 - val_loss: 0.0787\n",
            "Epoch 235/400\n",
            "1/1 [==============================] - 0s 44ms/step - loss: 0.1119 - val_loss: 0.0787\n",
            "Epoch 236/400\n",
            "1/1 [==============================] - 0s 38ms/step - loss: 0.1119 - val_loss: 0.0787\n",
            "Epoch 237/400\n",
            "1/1 [==============================] - 0s 46ms/step - loss: 0.1120 - val_loss: 0.0787\n",
            "Epoch 238/400\n",
            "1/1 [==============================] - 0s 46ms/step - loss: 0.1119 - val_loss: 0.0787\n",
            "Epoch 239/400\n",
            "1/1 [==============================] - 0s 48ms/step - loss: 0.1119 - val_loss: 0.0787\n",
            "Epoch 240/400\n",
            "1/1 [==============================] - 0s 43ms/step - loss: 0.1119 - val_loss: 0.0787\n",
            "Epoch 241/400\n",
            "1/1 [==============================] - 0s 46ms/step - loss: 0.1119 - val_loss: 0.0787\n",
            "Epoch 242/400\n",
            "1/1 [==============================] - 0s 45ms/step - loss: 0.1119 - val_loss: 0.0787\n",
            "Epoch 243/400\n",
            "1/1 [==============================] - 0s 45ms/step - loss: 0.1119 - val_loss: 0.0787\n",
            "Epoch 244/400\n",
            "1/1 [==============================] - 0s 50ms/step - loss: 0.1119 - val_loss: 0.0787\n",
            "Epoch 245/400\n",
            "1/1 [==============================] - 0s 47ms/step - loss: 0.1119 - val_loss: 0.0787\n",
            "Epoch 246/400\n",
            "1/1 [==============================] - 0s 46ms/step - loss: 0.1119 - val_loss: 0.0787\n",
            "Epoch 247/400\n",
            "1/1 [==============================] - 0s 49ms/step - loss: 0.1119 - val_loss: 0.0787\n",
            "Epoch 248/400\n",
            "1/1 [==============================] - 0s 47ms/step - loss: 0.1119 - val_loss: 0.0786\n",
            "Epoch 249/400\n",
            "1/1 [==============================] - 0s 40ms/step - loss: 0.1119 - val_loss: 0.0786\n",
            "Epoch 250/400\n",
            "1/1 [==============================] - 0s 47ms/step - loss: 0.1119 - val_loss: 0.0786\n",
            "Epoch 251/400\n",
            "1/1 [==============================] - 0s 43ms/step - loss: 0.1119 - val_loss: 0.0786\n",
            "Epoch 252/400\n",
            "1/1 [==============================] - 0s 48ms/step - loss: 0.1119 - val_loss: 0.0786\n",
            "Epoch 253/400\n",
            "1/1 [==============================] - 0s 42ms/step - loss: 0.1119 - val_loss: 0.0786\n",
            "Epoch 254/400\n",
            "1/1 [==============================] - 0s 40ms/step - loss: 0.1119 - val_loss: 0.0786\n",
            "Epoch 255/400\n",
            "1/1 [==============================] - 0s 39ms/step - loss: 0.1119 - val_loss: 0.0786\n",
            "Epoch 256/400\n",
            "1/1 [==============================] - 0s 43ms/step - loss: 0.1119 - val_loss: 0.0786\n",
            "Epoch 257/400\n",
            "1/1 [==============================] - 0s 44ms/step - loss: 0.1119 - val_loss: 0.0786\n",
            "Epoch 258/400\n",
            "1/1 [==============================] - 0s 49ms/step - loss: 0.1119 - val_loss: 0.0787\n",
            "Epoch 259/400\n",
            "1/1 [==============================] - 0s 37ms/step - loss: 0.1119 - val_loss: 0.0787\n",
            "Epoch 260/400\n",
            "1/1 [==============================] - 0s 44ms/step - loss: 0.1119 - val_loss: 0.0787\n",
            "Epoch 261/400\n",
            "1/1 [==============================] - 0s 48ms/step - loss: 0.1119 - val_loss: 0.0787\n",
            "Epoch 262/400\n",
            "1/1 [==============================] - 0s 42ms/step - loss: 0.1119 - val_loss: 0.0787\n",
            "Epoch 263/400\n",
            "1/1 [==============================] - 0s 45ms/step - loss: 0.1119 - val_loss: 0.0787\n",
            "Epoch 264/400\n",
            "1/1 [==============================] - 0s 42ms/step - loss: 0.1119 - val_loss: 0.0786\n",
            "Epoch 265/400\n",
            "1/1 [==============================] - 0s 47ms/step - loss: 0.1119 - val_loss: 0.0787\n",
            "Epoch 266/400\n",
            "1/1 [==============================] - 0s 40ms/step - loss: 0.1119 - val_loss: 0.0787\n",
            "Epoch 267/400\n",
            "1/1 [==============================] - 0s 43ms/step - loss: 0.1119 - val_loss: 0.0787\n",
            "Epoch 268/400\n",
            "1/1 [==============================] - 0s 44ms/step - loss: 0.1119 - val_loss: 0.0786\n",
            "Epoch 269/400\n",
            "1/1 [==============================] - 0s 275ms/step - loss: 0.1119 - val_loss: 0.0786\n",
            "Epoch 270/400\n",
            "1/1 [==============================] - 0s 42ms/step - loss: 0.1119 - val_loss: 0.0786\n",
            "Epoch 271/400\n",
            "1/1 [==============================] - 0s 43ms/step - loss: 0.1119 - val_loss: 0.0787\n",
            "Epoch 272/400\n",
            "1/1 [==============================] - 0s 42ms/step - loss: 0.1119 - val_loss: 0.0786\n",
            "Epoch 273/400\n",
            "1/1 [==============================] - 0s 44ms/step - loss: 0.1119 - val_loss: 0.0786\n",
            "Epoch 274/400\n",
            "1/1 [==============================] - 0s 42ms/step - loss: 0.1119 - val_loss: 0.0786\n",
            "Epoch 275/400\n",
            "1/1 [==============================] - 0s 40ms/step - loss: 0.1119 - val_loss: 0.0786\n",
            "Epoch 276/400\n",
            "1/1 [==============================] - 0s 50ms/step - loss: 0.1119 - val_loss: 0.0786\n",
            "Epoch 277/400\n",
            "1/1 [==============================] - 0s 47ms/step - loss: 0.1119 - val_loss: 0.0786\n",
            "Epoch 278/400\n",
            "1/1 [==============================] - 0s 48ms/step - loss: 0.1119 - val_loss: 0.0786\n",
            "Epoch 279/400\n",
            "1/1 [==============================] - 0s 46ms/step - loss: 0.1119 - val_loss: 0.0786\n",
            "Epoch 280/400\n",
            "1/1 [==============================] - 0s 45ms/step - loss: 0.1119 - val_loss: 0.0786\n",
            "Epoch 281/400\n",
            "1/1 [==============================] - 0s 41ms/step - loss: 0.1119 - val_loss: 0.0786\n",
            "Epoch 282/400\n",
            "1/1 [==============================] - 0s 47ms/step - loss: 0.1119 - val_loss: 0.0786\n",
            "Epoch 283/400\n",
            "1/1 [==============================] - 0s 50ms/step - loss: 0.1119 - val_loss: 0.0786\n",
            "Epoch 284/400\n",
            "1/1 [==============================] - 0s 42ms/step - loss: 0.1119 - val_loss: 0.0786\n",
            "Epoch 285/400\n",
            "1/1 [==============================] - 0s 48ms/step - loss: 0.1119 - val_loss: 0.0786\n",
            "Epoch 286/400\n",
            "1/1 [==============================] - 0s 52ms/step - loss: 0.1119 - val_loss: 0.0786\n",
            "Epoch 287/400\n",
            "1/1 [==============================] - 0s 44ms/step - loss: 0.1119 - val_loss: 0.0786\n",
            "Epoch 288/400\n",
            "1/1 [==============================] - 0s 39ms/step - loss: 0.1119 - val_loss: 0.0786\n",
            "Epoch 289/400\n",
            "1/1 [==============================] - 0s 40ms/step - loss: 0.1119 - val_loss: 0.0786\n",
            "Epoch 290/400\n",
            "1/1 [==============================] - 0s 43ms/step - loss: 0.1119 - val_loss: 0.0786\n",
            "Epoch 291/400\n",
            "1/1 [==============================] - 0s 38ms/step - loss: 0.1119 - val_loss: 0.0786\n",
            "Epoch 292/400\n",
            "1/1 [==============================] - 0s 40ms/step - loss: 0.1119 - val_loss: 0.0786\n",
            "Epoch 293/400\n",
            "1/1 [==============================] - 0s 38ms/step - loss: 0.1119 - val_loss: 0.0786\n",
            "Epoch 294/400\n",
            "1/1 [==============================] - 0s 37ms/step - loss: 0.1119 - val_loss: 0.0786\n",
            "Epoch 295/400\n",
            "1/1 [==============================] - 0s 39ms/step - loss: 0.1119 - val_loss: 0.0786\n",
            "Epoch 296/400\n",
            "1/1 [==============================] - 0s 43ms/step - loss: 0.1119 - val_loss: 0.0786\n",
            "Epoch 297/400\n",
            "1/1 [==============================] - 0s 47ms/step - loss: 0.1119 - val_loss: 0.0786\n",
            "Epoch 298/400\n",
            "1/1 [==============================] - 0s 43ms/step - loss: 0.1119 - val_loss: 0.0786\n",
            "Epoch 299/400\n",
            "1/1 [==============================] - 0s 40ms/step - loss: 0.1119 - val_loss: 0.0786\n",
            "Epoch 300/400\n",
            "1/1 [==============================] - 0s 47ms/step - loss: 0.1119 - val_loss: 0.0786\n",
            "Epoch 301/400\n",
            "1/1 [==============================] - 0s 42ms/step - loss: 0.1119 - val_loss: 0.0786\n",
            "Epoch 302/400\n",
            "1/1 [==============================] - 0s 48ms/step - loss: 0.1119 - val_loss: 0.0786\n",
            "Epoch 303/400\n",
            "1/1 [==============================] - 0s 44ms/step - loss: 0.1119 - val_loss: 0.0786\n",
            "Epoch 304/400\n",
            "1/1 [==============================] - 0s 49ms/step - loss: 0.1119 - val_loss: 0.0786\n",
            "Epoch 305/400\n",
            "1/1 [==============================] - 0s 49ms/step - loss: 0.1119 - val_loss: 0.0786\n",
            "Epoch 306/400\n",
            "1/1 [==============================] - 0s 47ms/step - loss: 0.1119 - val_loss: 0.0786\n",
            "Epoch 307/400\n",
            "1/1 [==============================] - 0s 44ms/step - loss: 0.1119 - val_loss: 0.0786\n",
            "Epoch 308/400\n",
            "1/1 [==============================] - 0s 49ms/step - loss: 0.1119 - val_loss: 0.0786\n",
            "Epoch 309/400\n",
            "1/1 [==============================] - 0s 44ms/step - loss: 0.1119 - val_loss: 0.0786\n",
            "Epoch 310/400\n",
            "1/1 [==============================] - 0s 43ms/step - loss: 0.1119 - val_loss: 0.0786\n",
            "Epoch 311/400\n",
            "1/1 [==============================] - 0s 45ms/step - loss: 0.1119 - val_loss: 0.0786\n",
            "Epoch 312/400\n",
            "1/1 [==============================] - 0s 42ms/step - loss: 0.1119 - val_loss: 0.0786\n",
            "Epoch 313/400\n",
            "1/1 [==============================] - 0s 46ms/step - loss: 0.1119 - val_loss: 0.0786\n",
            "Epoch 314/400\n",
            "1/1 [==============================] - 0s 45ms/step - loss: 0.1119 - val_loss: 0.0786\n",
            "Epoch 315/400\n",
            "1/1 [==============================] - 0s 40ms/step - loss: 0.1119 - val_loss: 0.0786\n",
            "Epoch 316/400\n",
            "1/1 [==============================] - 0s 43ms/step - loss: 0.1119 - val_loss: 0.0786\n",
            "Epoch 317/400\n",
            "1/1 [==============================] - 0s 41ms/step - loss: 0.1119 - val_loss: 0.0786\n",
            "Epoch 318/400\n",
            "1/1 [==============================] - 0s 45ms/step - loss: 0.1119 - val_loss: 0.0786\n",
            "Epoch 319/400\n",
            "1/1 [==============================] - 0s 44ms/step - loss: 0.1119 - val_loss: 0.0786\n",
            "Epoch 320/400\n",
            "1/1 [==============================] - 0s 39ms/step - loss: 0.1119 - val_loss: 0.0786\n",
            "Epoch 321/400\n",
            "1/1 [==============================] - 0s 46ms/step - loss: 0.1119 - val_loss: 0.0786\n",
            "Epoch 322/400\n",
            "1/1 [==============================] - 0s 48ms/step - loss: 0.1119 - val_loss: 0.0786\n",
            "Epoch 323/400\n",
            "1/1 [==============================] - 0s 41ms/step - loss: 0.1119 - val_loss: 0.0786\n",
            "Epoch 324/400\n",
            "1/1 [==============================] - 0s 43ms/step - loss: 0.1119 - val_loss: 0.0786\n",
            "Epoch 325/400\n",
            "1/1 [==============================] - 0s 39ms/step - loss: 0.1119 - val_loss: 0.0786\n",
            "Epoch 326/400\n",
            "1/1 [==============================] - 0s 48ms/step - loss: 0.1119 - val_loss: 0.0786\n",
            "Epoch 327/400\n",
            "1/1 [==============================] - 0s 41ms/step - loss: 0.1119 - val_loss: 0.0786\n",
            "Epoch 328/400\n",
            "1/1 [==============================] - 0s 48ms/step - loss: 0.1119 - val_loss: 0.0786\n",
            "Epoch 329/400\n",
            "1/1 [==============================] - 0s 44ms/step - loss: 0.1119 - val_loss: 0.0786\n",
            "Epoch 330/400\n",
            "1/1 [==============================] - 0s 42ms/step - loss: 0.1119 - val_loss: 0.0786\n",
            "Epoch 331/400\n",
            "1/1 [==============================] - 0s 41ms/step - loss: 0.1119 - val_loss: 0.0786\n",
            "Epoch 332/400\n",
            "1/1 [==============================] - 0s 45ms/step - loss: 0.1119 - val_loss: 0.0786\n",
            "Epoch 333/400\n",
            "1/1 [==============================] - 0s 54ms/step - loss: 0.1119 - val_loss: 0.0786\n",
            "Epoch 334/400\n",
            "1/1 [==============================] - 0s 46ms/step - loss: 0.1119 - val_loss: 0.0786\n",
            "Epoch 335/400\n",
            "1/1 [==============================] - 0s 45ms/step - loss: 0.1119 - val_loss: 0.0786\n",
            "Epoch 336/400\n",
            "1/1 [==============================] - 0s 47ms/step - loss: 0.1119 - val_loss: 0.0786\n",
            "Epoch 337/400\n",
            "1/1 [==============================] - 0s 41ms/step - loss: 0.1119 - val_loss: 0.0786\n",
            "Epoch 338/400\n",
            "1/1 [==============================] - 0s 42ms/step - loss: 0.1119 - val_loss: 0.0786\n",
            "Epoch 339/400\n",
            "1/1 [==============================] - 0s 42ms/step - loss: 0.1119 - val_loss: 0.0786\n",
            "Epoch 340/400\n",
            "1/1 [==============================] - 0s 44ms/step - loss: 0.1119 - val_loss: 0.0786\n",
            "Epoch 341/400\n",
            "1/1 [==============================] - 0s 41ms/step - loss: 0.1119 - val_loss: 0.0786\n",
            "Epoch 342/400\n",
            "1/1 [==============================] - 0s 45ms/step - loss: 0.1119 - val_loss: 0.0786\n",
            "Epoch 343/400\n",
            "1/1 [==============================] - 0s 44ms/step - loss: 0.1119 - val_loss: 0.0786\n",
            "Epoch 344/400\n",
            "1/1 [==============================] - 0s 42ms/step - loss: 0.1119 - val_loss: 0.0786\n",
            "Epoch 345/400\n",
            "1/1 [==============================] - 0s 41ms/step - loss: 0.1119 - val_loss: 0.0786\n",
            "Epoch 346/400\n",
            "1/1 [==============================] - 0s 48ms/step - loss: 0.1119 - val_loss: 0.0786\n",
            "Epoch 347/400\n",
            "1/1 [==============================] - 0s 42ms/step - loss: 0.1119 - val_loss: 0.0786\n",
            "Epoch 348/400\n",
            "1/1 [==============================] - 0s 48ms/step - loss: 0.1119 - val_loss: 0.0786\n",
            "Epoch 349/400\n",
            "1/1 [==============================] - 0s 46ms/step - loss: 0.1119 - val_loss: 0.0786\n",
            "Epoch 350/400\n",
            "1/1 [==============================] - 0s 47ms/step - loss: 0.1119 - val_loss: 0.0786\n",
            "Epoch 351/400\n",
            "1/1 [==============================] - 0s 48ms/step - loss: 0.1119 - val_loss: 0.0786\n",
            "Epoch 352/400\n",
            "1/1 [==============================] - 0s 50ms/step - loss: 0.1119 - val_loss: 0.0786\n",
            "Epoch 353/400\n",
            "1/1 [==============================] - 0s 44ms/step - loss: 0.1119 - val_loss: 0.0786\n",
            "Epoch 354/400\n",
            "1/1 [==============================] - 0s 44ms/step - loss: 0.1119 - val_loss: 0.0786\n",
            "Epoch 355/400\n",
            "1/1 [==============================] - 0s 45ms/step - loss: 0.1119 - val_loss: 0.0786\n",
            "Epoch 356/400\n",
            "1/1 [==============================] - 0s 42ms/step - loss: 0.1119 - val_loss: 0.0786\n",
            "Epoch 357/400\n",
            "1/1 [==============================] - 0s 42ms/step - loss: 0.1118 - val_loss: 0.0786\n",
            "Epoch 358/400\n",
            "1/1 [==============================] - 0s 43ms/step - loss: 0.1118 - val_loss: 0.0786\n",
            "Epoch 359/400\n",
            "1/1 [==============================] - 0s 42ms/step - loss: 0.1118 - val_loss: 0.0786\n",
            "Epoch 360/400\n",
            "1/1 [==============================] - 0s 50ms/step - loss: 0.1118 - val_loss: 0.0786\n",
            "Epoch 361/400\n",
            "1/1 [==============================] - 0s 47ms/step - loss: 0.1118 - val_loss: 0.0786\n",
            "Epoch 362/400\n",
            "1/1 [==============================] - 0s 45ms/step - loss: 0.1118 - val_loss: 0.0786\n",
            "Epoch 363/400\n",
            "1/1 [==============================] - 0s 44ms/step - loss: 0.1118 - val_loss: 0.0786\n",
            "Epoch 364/400\n",
            "1/1 [==============================] - 0s 47ms/step - loss: 0.1118 - val_loss: 0.0786\n",
            "Epoch 365/400\n",
            "1/1 [==============================] - 0s 42ms/step - loss: 0.1118 - val_loss: 0.0786\n",
            "Epoch 366/400\n",
            "1/1 [==============================] - 0s 46ms/step - loss: 0.1118 - val_loss: 0.0786\n",
            "Epoch 367/400\n",
            "1/1 [==============================] - 0s 40ms/step - loss: 0.1118 - val_loss: 0.0786\n",
            "Epoch 368/400\n",
            "1/1 [==============================] - 0s 45ms/step - loss: 0.1118 - val_loss: 0.0786\n",
            "Epoch 369/400\n",
            "1/1 [==============================] - 0s 50ms/step - loss: 0.1118 - val_loss: 0.0786\n",
            "Epoch 370/400\n",
            "1/1 [==============================] - 0s 45ms/step - loss: 0.1118 - val_loss: 0.0786\n",
            "Epoch 371/400\n",
            "1/1 [==============================] - 0s 49ms/step - loss: 0.1118 - val_loss: 0.0786\n",
            "Epoch 372/400\n",
            "1/1 [==============================] - 0s 49ms/step - loss: 0.1118 - val_loss: 0.0786\n",
            "Epoch 373/400\n",
            "1/1 [==============================] - 0s 43ms/step - loss: 0.1118 - val_loss: 0.0786\n",
            "Epoch 374/400\n",
            "1/1 [==============================] - 0s 40ms/step - loss: 0.1118 - val_loss: 0.0786\n",
            "Epoch 375/400\n",
            "1/1 [==============================] - 0s 40ms/step - loss: 0.1118 - val_loss: 0.0786\n",
            "Epoch 376/400\n",
            "1/1 [==============================] - 0s 48ms/step - loss: 0.1118 - val_loss: 0.0786\n",
            "Epoch 377/400\n",
            "1/1 [==============================] - 0s 42ms/step - loss: 0.1118 - val_loss: 0.0786\n",
            "Epoch 378/400\n",
            "1/1 [==============================] - 0s 46ms/step - loss: 0.1118 - val_loss: 0.0786\n",
            "Epoch 379/400\n",
            "1/1 [==============================] - 0s 41ms/step - loss: 0.1118 - val_loss: 0.0786\n",
            "Epoch 380/400\n",
            "1/1 [==============================] - 0s 43ms/step - loss: 0.1118 - val_loss: 0.0786\n",
            "Epoch 381/400\n",
            "1/1 [==============================] - 0s 276ms/step - loss: 0.1118 - val_loss: 0.0786\n",
            "Epoch 382/400\n",
            "1/1 [==============================] - 0s 43ms/step - loss: 0.1118 - val_loss: 0.0786\n",
            "Epoch 383/400\n",
            "1/1 [==============================] - 0s 51ms/step - loss: 0.1118 - val_loss: 0.0786\n",
            "Epoch 384/400\n",
            "1/1 [==============================] - 0s 49ms/step - loss: 0.1118 - val_loss: 0.0786\n",
            "Epoch 385/400\n",
            "1/1 [==============================] - 0s 55ms/step - loss: 0.1118 - val_loss: 0.0786\n",
            "Epoch 386/400\n",
            "1/1 [==============================] - 0s 41ms/step - loss: 0.1118 - val_loss: 0.0786\n",
            "Epoch 387/400\n",
            "1/1 [==============================] - 0s 50ms/step - loss: 0.1118 - val_loss: 0.0786\n",
            "Epoch 388/400\n",
            "1/1 [==============================] - 0s 49ms/step - loss: 0.1118 - val_loss: 0.0786\n",
            "Epoch 389/400\n",
            "1/1 [==============================] - 0s 45ms/step - loss: 0.1118 - val_loss: 0.0786\n",
            "Epoch 390/400\n",
            "1/1 [==============================] - 0s 40ms/step - loss: 0.1118 - val_loss: 0.0786\n",
            "Epoch 391/400\n",
            "1/1 [==============================] - 0s 45ms/step - loss: 0.1118 - val_loss: 0.0786\n",
            "Epoch 392/400\n",
            "1/1 [==============================] - 0s 40ms/step - loss: 0.1118 - val_loss: 0.0786\n",
            "Epoch 393/400\n",
            "1/1 [==============================] - 0s 45ms/step - loss: 0.1118 - val_loss: 0.0786\n",
            "Epoch 394/400\n",
            "1/1 [==============================] - 0s 41ms/step - loss: 0.1118 - val_loss: 0.0786\n",
            "Epoch 395/400\n",
            "1/1 [==============================] - 0s 42ms/step - loss: 0.1118 - val_loss: 0.0786\n",
            "Epoch 396/400\n",
            "1/1 [==============================] - 0s 46ms/step - loss: 0.1118 - val_loss: 0.0786\n",
            "Epoch 397/400\n",
            "1/1 [==============================] - 0s 41ms/step - loss: 0.1118 - val_loss: 0.0786\n",
            "Epoch 398/400\n",
            "1/1 [==============================] - 0s 46ms/step - loss: 0.1118 - val_loss: 0.0786\n",
            "Epoch 399/400\n",
            "1/1 [==============================] - 0s 45ms/step - loss: 0.1118 - val_loss: 0.0786\n",
            "Epoch 400/400\n",
            "1/1 [==============================] - 0s 41ms/step - loss: 0.1118 - val_loss: 0.0786\n"
          ],
          "name": "stdout"
        },
        {
          "output_type": "execute_result",
          "data": {
            "text/plain": [
              "<tensorflow.python.keras.callbacks.History at 0x7f43e176e630>"
            ]
          },
          "metadata": {
            "tags": []
          },
          "execution_count": 110
        }
      ]
    },
    {
      "cell_type": "code",
      "metadata": {
        "id": "h7StHoV1K_AZ"
      },
      "source": [
        "losses = pd.DataFrame(model.history.history)"
      ],
      "execution_count": null,
      "outputs": []
    },
    {
      "cell_type": "code",
      "metadata": {
        "colab": {
          "base_uri": "https://localhost:8080/",
          "height": 282
        },
        "id": "_BZ-kya2LKQp",
        "outputId": "e4c8f4c0-c87c-4047-c6e7-5667dcc82875"
      },
      "source": [
        "losses.plot()"
      ],
      "execution_count": null,
      "outputs": [
        {
          "output_type": "execute_result",
          "data": {
            "text/plain": [
              "<matplotlib.axes._subplots.AxesSubplot at 0x7f43e1f75f98>"
            ]
          },
          "metadata": {
            "tags": []
          },
          "execution_count": 112
        },
        {
          "output_type": "display_data",
          "data": {
            "image/png": "[encoded data removed]",
            "text/plain": [
              "<Figure size 432x288 with 1 Axes>"
            ]
          },
          "metadata": {
            "tags": [],
            "needs_background": "light"
          }
        }
      ]
    },
    {
      "cell_type": "markdown",
      "metadata": {
        "id": "fzUSiycxLZSE"
      },
      "source": [
        "\r\n",
        "# Evaluation on Test Data\r\n",
        "\r\n"
      ]
    },
    {
      "cell_type": "code",
      "metadata": {
        "id": "KxuZAWG7LdQq"
      },
      "source": [
        "from sklearn.metrics import mean_squared_error,mean_absolute_error,explained_variance_score"
      ],
      "execution_count": null,
      "outputs": []
    },
    {
      "cell_type": "markdown",
      "metadata": {
        "id": "4B3WH6LtLtKx"
      },
      "source": [
        "Predicting on Brand New Data"
      ]
    },
    {
      "cell_type": "code",
      "metadata": {
        "colab": {
          "base_uri": "https://localhost:8080/",
          "height": 225
        },
        "id": "KLmSVeD1LvBR",
        "outputId": "5df6dd88-8d12-40c2-9502-19f3376dc194"
      },
      "source": [
        "X_test"
      ],
      "execution_count": null,
      "outputs": [
        {
          "output_type": "execute_result",
          "data": {
            "text/html": [
              "<div>\n",
              "<style scoped>\n",
              "    .dataframe tbody tr th:only-of-type {\n",
              "        vertical-align: middle;\n",
              "    }\n",
              "\n",
              "    .dataframe tbody tr th {\n",
              "        vertical-align: top;\n",
              "    }\n",
              "\n",
              "    .dataframe thead th {\n",
              "        text-align: right;\n",
              "    }\n",
              "</style>\n",
              "<table border=\"1\" class=\"dataframe\">\n",
              "  <thead>\n",
              "    <tr style=\"text-align: right;\">\n",
              "      <th></th>\n",
              "      <th>year</th>\n",
              "      <th>num_reg_v</th>\n",
              "      <th>population</th>\n",
              "      <th>proad_length</th>\n",
              "      <th>num_arrived</th>\n",
              "      <th>GNI</th>\n",
              "      <th>GDP</th>\n",
              "      <th>num_ref</th>\n",
              "    </tr>\n",
              "  </thead>\n",
              "  <tbody>\n",
              "    <tr>\n",
              "      <th>18</th>\n",
              "      <td>2008</td>\n",
              "      <td>0.574154</td>\n",
              "      <td>0.394373</td>\n",
              "      <td>0.959459</td>\n",
              "      <td>0.712483</td>\n",
              "      <td>0.636364</td>\n",
              "      <td>0.654081</td>\n",
              "      <td>0.788837</td>\n",
              "    </tr>\n",
              "    <tr>\n",
              "      <th>17</th>\n",
              "      <td>2007</td>\n",
              "      <td>0.507094</td>\n",
              "      <td>0.374301</td>\n",
              "      <td>0.933514</td>\n",
              "      <td>0.632483</td>\n",
              "      <td>0.517045</td>\n",
              "      <td>0.469572</td>\n",
              "      <td>0.763836</td>\n",
              "    </tr>\n",
              "    <tr>\n",
              "      <th>12</th>\n",
              "      <td>2002</td>\n",
              "      <td>0.242182</td>\n",
              "      <td>0.308654</td>\n",
              "      <td>0.681622</td>\n",
              "      <td>0.351409</td>\n",
              "      <td>0.215909</td>\n",
              "      <td>0.191822</td>\n",
              "      <td>0.398871</td>\n",
              "    </tr>\n",
              "    <tr>\n",
              "      <th>23</th>\n",
              "      <td>2013</td>\n",
              "      <td>0.871298</td>\n",
              "      <td>0.506252</td>\n",
              "      <td>0.680000</td>\n",
              "      <td>0.770470</td>\n",
              "      <td>0.926136</td>\n",
              "      <td>0.923545</td>\n",
              "      <td>0.924019</td>\n",
              "    </tr>\n",
              "    <tr>\n",
              "      <th>15</th>\n",
              "      <td>2005</td>\n",
              "      <td>0.367047</td>\n",
              "      <td>0.332346</td>\n",
              "      <td>0.840541</td>\n",
              "      <td>0.513289</td>\n",
              "      <td>0.389205</td>\n",
              "      <td>0.305161</td>\n",
              "      <td>0.465911</td>\n",
              "    </tr>\n",
              "    <tr>\n",
              "      <th>16</th>\n",
              "      <td>2006</td>\n",
              "      <td>0.432447</td>\n",
              "      <td>0.353241</td>\n",
              "      <td>0.893514</td>\n",
              "      <td>0.577181</td>\n",
              "      <td>0.443182</td>\n",
              "      <td>0.402710</td>\n",
              "      <td>0.740424</td>\n",
              "    </tr>\n",
              "  </tbody>\n",
              "</table>\n",
              "</div>"
            ],
            "text/plain": [
              "    year  num_reg_v  population  ...       GNI       GDP   num_ref\n",
              "18  2008   0.574154    0.394373  ...  0.636364  0.654081  0.788837\n",
              "17  2007   0.507094    0.374301  ...  0.517045  0.469572  0.763836\n",
              "12  2002   0.242182    0.308654  ...  0.215909  0.191822  0.398871\n",
              "23  2013   0.871298    0.506252  ...  0.926136  0.923545  0.924019\n",
              "15  2005   0.367047    0.332346  ...  0.389205  0.305161  0.465911\n",
              "16  2006   0.432447    0.353241  ...  0.443182  0.402710  0.740424\n",
              "\n",
              "[6 rows x 8 columns]"
            ]
          },
          "metadata": {
            "tags": []
          },
          "execution_count": 113
        }
      ]
    },
    {
      "cell_type": "code",
      "metadata": {
        "colab": {
          "base_uri": "https://localhost:8080/"
        },
        "id": "yhQB8AMdLzxi",
        "outputId": "e2347c67-da87-4546-c91f-2e1fc794ab04"
      },
      "source": [
        "predictions = model.predict(X_test)\r\n",
        "mean_absolute_error(y_test,predictions)"
      ],
      "execution_count": null,
      "outputs": [
        {
          "output_type": "stream",
          "text": [
            "WARNING:tensorflow:10 out of the last 10 calls to <function Model.make_predict_function.<locals>.predict_function at 0x7f43e19ee620> triggered tf.function retracing. Tracing is expensive and the excessive number of tracings could be due to (1) creating @tf.function repeatedly in a loop, (2) passing tensors with different shapes, (3) passing Python objects instead of tensors. For (1), please define your @tf.function outside of the loop. For (2), @tf.function has experimental_relax_shapes=True option that relaxes argument shapes that can avoid unnecessary retracing. For (3), please refer to https://www.tensorflow.org/guide/function#controlling_retracing and https://www.tensorflow.org/api_docs/python/tf/function for  more details.\n"
          ],
          "name": "stdout"
        },
        {
          "output_type": "execute_result",
          "data": {
            "text/plain": [
              "0.259732850963144"
            ]
          },
          "metadata": {
            "tags": []
          },
          "execution_count": 114
        }
      ]
    },
    {
      "cell_type": "code",
      "metadata": {
        "colab": {
          "base_uri": "https://localhost:8080/"
        },
        "id": "VXWFzSV3L39h",
        "outputId": "6685ea22-965f-49cf-b759-a5c027d87b9f"
      },
      "source": [
        "np.sqrt(mean_squared_error(y_test,predictions))"
      ],
      "execution_count": null,
      "outputs": [
        {
          "output_type": "execute_result",
          "data": {
            "text/plain": [
              "0.2802931073942758"
            ]
          },
          "metadata": {
            "tags": []
          },
          "execution_count": 115
        }
      ]
    },
    {
      "cell_type": "code",
      "metadata": {
        "colab": {
          "base_uri": "https://localhost:8080/"
        },
        "id": "tMem-mGiMOkt",
        "outputId": "8fff4c48-6c80-4008-e0ff-f1a36fa4f109"
      },
      "source": [
        "df['accidents'].mean()"
      ],
      "execution_count": null,
      "outputs": [
        {
          "output_type": "execute_result",
          "data": {
            "text/plain": [
              "70.30146153846154"
            ]
          },
          "metadata": {
            "tags": []
          },
          "execution_count": 76
        }
      ]
    },
    {
      "cell_type": "code",
      "metadata": {
        "colab": {
          "base_uri": "https://localhost:8080/",
          "height": 282
        },
        "id": "0ISlCI4aMtcs",
        "outputId": "8b26fdeb-db6a-4e1d-b894-da39e54b14bd"
      },
      "source": [
        "# Our predictions\r\n",
        "plt.scatter(y_test,predictions)\r\n",
        "\r\n",
        "# Perfect predictions\r\n",
        "plt.plot(y_test,y_test,'r')"
      ],
      "execution_count": null,
      "outputs": [
        {
          "output_type": "execute_result",
          "data": {
            "text/plain": [
              "[<matplotlib.lines.Line2D at 0x7f43e19d5c88>]"
            ]
          },
          "metadata": {
            "tags": []
          },
          "execution_count": 116
        },
        {
          "output_type": "display_data",
          "data": {
            "image/png": "[encoded data removed]",
            "text/plain": [
              "<Figure size 432x288 with 1 Axes>"
            ]
          },
          "metadata": {
            "tags": [],
            "needs_background": "light"
          }
        }
      ]
    },
    {
      "cell_type": "code",
      "metadata": {
        "id": "umKgb5uOM3zX"
      },
      "source": [
        "errors = y_test.values.reshape(6,1) - predictions"
      ],
      "execution_count": null,
      "outputs": []
    },
    {
      "cell_type": "code",
      "metadata": {
        "id": "r8Qe_YMQOzWx",
        "colab": {
          "base_uri": "https://localhost:8080/",
          "height": 335
        },
        "outputId": "b2c0ff07-b7c3-457a-e786-b4e6fef01dc2"
      },
      "source": [
        "sns.distplot(errors)"
      ],
      "execution_count": null,
      "outputs": [
        {
          "output_type": "stream",
          "text": [
            "/usr/local/lib/python3.6/dist-packages/seaborn/distributions.py:2551: FutureWarning: `distplot` is a deprecated function and will be removed in a future version. Please adapt your code to use either `displot` (a figure-level function with similar flexibility) or `histplot` (an axes-level function for histograms).\n",
            "  warnings.warn(msg, FutureWarning)\n"
          ],
          "name": "stderr"
        },
        {
          "output_type": "execute_result",
          "data": {
            "text/plain": [
              "<matplotlib.axes._subplots.AxesSubplot at 0x7f43e19fca90>"
            ]
          },
          "metadata": {
            "tags": []
          },
          "execution_count": 118
        },
        {
          "output_type": "display_data",
          "data": {
            "image/png": "[encoded data removed]",
            "text/plain": [
              "<Figure size 432x288 with 1 Axes>"
            ]
          },
          "metadata": {
            "tags": [],
            "needs_background": "light"
          }
        }
      ]
    },
    {
      "cell_type": "markdown",
      "metadata": {
        "id": "WkOjZ4HDWc8f"
      },
      "source": [
        "# Second Try"
      ]
    },
    {
      "cell_type": "code",
      "metadata": {
        "id": "r1MoizgVWvqA"
      },
      "source": [
        "model = Sequential()\r\n",
        "\r\n",
        "\r\n",
        "model.add(Dense(78,  activation='relu'))\r\n",
        "model.add(Dense(39, activation='relu'))\r\n",
        "model.add(Dense(19, activation='relu'))\r\n",
        "model.add(Dense(units=1,activation='sigmoid'))\r\n",
        "\r\n",
        "# Compile model\r\n",
        "model.compile(loss='binary_crossentropy', optimizer='adam')"
      ],
      "execution_count": null,
      "outputs": []
    },
    {
      "cell_type": "code",
      "metadata": {
        "colab": {
          "base_uri": "https://localhost:8080/"
        },
        "id": "_7uqpMGVWo7d",
        "outputId": "a1986be6-906d-4ec4-da04-827f707113f0"
      },
      "source": [
        "model.fit(x=X_train,y=y_train.values,\r\n",
        "          validation_data=(X_test,y_test.values),\r\n",
        "          batch_size=128,epochs=50)"
      ],
      "execution_count": null,
      "outputs": [
        {
          "output_type": "stream",
          "text": [
            "Epoch 1/50\n",
            "1/1 [==============================] - 0s 86ms/step - loss: 0.6173 - val_loss: 0.7543\n",
            "Epoch 2/50\n",
            "1/1 [==============================] - 0s 35ms/step - loss: 0.6162 - val_loss: 0.7374\n",
            "Epoch 3/50\n",
            "1/1 [==============================] - 0s 37ms/step - loss: 0.6160 - val_loss: 0.7452\n",
            "Epoch 4/50\n",
            "1/1 [==============================] - 0s 36ms/step - loss: 0.6150 - val_loss: 0.7604\n",
            "Epoch 5/50\n",
            "1/1 [==============================] - 0s 39ms/step - loss: 0.6148 - val_loss: 0.7522\n",
            "Epoch 6/50\n",
            "1/1 [==============================] - 0s 39ms/step - loss: 0.6139 - val_loss: 0.7381\n",
            "Epoch 7/50\n",
            "1/1 [==============================] - 0s 37ms/step - loss: 0.6135 - val_loss: 0.7444\n",
            "Epoch 8/50\n",
            "1/1 [==============================] - 0s 40ms/step - loss: 0.6127 - val_loss: 0.7567\n",
            "Epoch 9/50\n",
            "1/1 [==============================] - 0s 45ms/step - loss: 0.6123 - val_loss: 0.7495\n",
            "Epoch 10/50\n",
            "1/1 [==============================] - 0s 39ms/step - loss: 0.6115 - val_loss: 0.7382\n",
            "Epoch 11/50\n",
            "1/1 [==============================] - 0s 43ms/step - loss: 0.6111 - val_loss: 0.7441\n",
            "Epoch 12/50\n",
            "1/1 [==============================] - 0s 43ms/step - loss: 0.6103 - val_loss: 0.7535\n",
            "Epoch 13/50\n",
            "1/1 [==============================] - 0s 45ms/step - loss: 0.6099 - val_loss: 0.7465\n",
            "Epoch 14/50\n",
            "1/1 [==============================] - 0s 43ms/step - loss: 0.6091 - val_loss: 0.7379\n",
            "Epoch 15/50\n",
            "1/1 [==============================] - 0s 43ms/step - loss: 0.6087 - val_loss: 0.7439\n",
            "Epoch 16/50\n",
            "1/1 [==============================] - 0s 41ms/step - loss: 0.6080 - val_loss: 0.7506\n",
            "Epoch 17/50\n",
            "1/1 [==============================] - 0s 40ms/step - loss: 0.6075 - val_loss: 0.7435\n",
            "Epoch 18/50\n",
            "1/1 [==============================] - 0s 40ms/step - loss: 0.6068 - val_loss: 0.7376\n",
            "Epoch 19/50\n",
            "1/1 [==============================] - 0s 40ms/step - loss: 0.6063 - val_loss: 0.7438\n",
            "Epoch 20/50\n",
            "1/1 [==============================] - 0s 39ms/step - loss: 0.6056 - val_loss: 0.7476\n",
            "Epoch 21/50\n",
            "1/1 [==============================] - 0s 38ms/step - loss: 0.6051 - val_loss: 0.7407\n",
            "Epoch 22/50\n",
            "1/1 [==============================] - 0s 39ms/step - loss: 0.6045 - val_loss: 0.7374\n",
            "Epoch 23/50\n",
            "1/1 [==============================] - 0s 38ms/step - loss: 0.6039 - val_loss: 0.7434\n",
            "Epoch 24/50\n",
            "1/1 [==============================] - 0s 42ms/step - loss: 0.6033 - val_loss: 0.7446\n",
            "Epoch 25/50\n",
            "1/1 [==============================] - 0s 45ms/step - loss: 0.6028 - val_loss: 0.7382\n",
            "Epoch 26/50\n",
            "1/1 [==============================] - 0s 39ms/step - loss: 0.6022 - val_loss: 0.7374\n",
            "Epoch 27/50\n",
            "1/1 [==============================] - 0s 36ms/step - loss: 0.6016 - val_loss: 0.7426\n",
            "Epoch 28/50\n",
            "1/1 [==============================] - 0s 40ms/step - loss: 0.6010 - val_loss: 0.7414\n",
            "Epoch 29/50\n",
            "1/1 [==============================] - 0s 40ms/step - loss: 0.6004 - val_loss: 0.7362\n",
            "Epoch 30/50\n",
            "1/1 [==============================] - 0s 41ms/step - loss: 0.5999 - val_loss: 0.7375\n",
            "Epoch 31/50\n",
            "1/1 [==============================] - 0s 39ms/step - loss: 0.5993 - val_loss: 0.7411\n",
            "Epoch 32/50\n",
            "1/1 [==============================] - 0s 41ms/step - loss: 0.5987 - val_loss: 0.7383\n",
            "Epoch 33/50\n",
            "1/1 [==============================] - 0s 40ms/step - loss: 0.5981 - val_loss: 0.7349\n",
            "Epoch 34/50\n",
            "1/1 [==============================] - 0s 40ms/step - loss: 0.5976 - val_loss: 0.7374\n",
            "Epoch 35/50\n",
            "1/1 [==============================] - 0s 48ms/step - loss: 0.5970 - val_loss: 0.7391\n",
            "Epoch 36/50\n",
            "1/1 [==============================] - 0s 38ms/step - loss: 0.5964 - val_loss: 0.7355\n",
            "Epoch 37/50\n",
            "1/1 [==============================] - 0s 40ms/step - loss: 0.5958 - val_loss: 0.7342\n",
            "Epoch 38/50\n",
            "1/1 [==============================] - 0s 40ms/step - loss: 0.5953 - val_loss: 0.7369\n",
            "Epoch 39/50\n",
            "1/1 [==============================] - 0s 43ms/step - loss: 0.5947 - val_loss: 0.7366\n",
            "Epoch 40/50\n",
            "1/1 [==============================] - 0s 40ms/step - loss: 0.5941 - val_loss: 0.7333\n",
            "Epoch 41/50\n",
            "1/1 [==============================] - 0s 43ms/step - loss: 0.5936 - val_loss: 0.7338\n",
            "Epoch 42/50\n",
            "1/1 [==============================] - 0s 47ms/step - loss: 0.5930 - val_loss: 0.7358\n",
            "Epoch 43/50\n",
            "1/1 [==============================] - 0s 37ms/step - loss: 0.5924 - val_loss: 0.7339\n",
            "Epoch 44/50\n",
            "1/1 [==============================] - 0s 43ms/step - loss: 0.5919 - val_loss: 0.7319\n",
            "Epoch 45/50\n",
            "1/1 [==============================] - 0s 42ms/step - loss: 0.5913 - val_loss: 0.7334\n",
            "Epoch 46/50\n",
            "1/1 [==============================] - 0s 45ms/step - loss: 0.5908 - val_loss: 0.7339\n",
            "Epoch 47/50\n",
            "1/1 [==============================] - 0s 45ms/step - loss: 0.5902 - val_loss: 0.7315\n",
            "Epoch 48/50\n",
            "1/1 [==============================] - 0s 49ms/step - loss: 0.5896 - val_loss: 0.7311\n",
            "Epoch 49/50\n",
            "1/1 [==============================] - 0s 42ms/step - loss: 0.5891 - val_loss: 0.7326\n",
            "Epoch 50/50\n",
            "1/1 [==============================] - 0s 41ms/step - loss: 0.5885 - val_loss: 0.7315\n"
          ],
          "name": "stdout"
        },
        {
          "output_type": "execute_result",
          "data": {
            "text/plain": [
              "<tensorflow.python.keras.callbacks.History at 0x7f43e2320860>"
            ]
          },
          "metadata": {
            "tags": []
          },
          "execution_count": 153
        }
      ]
    },
    {
      "cell_type": "code",
      "metadata": {
        "id": "7L84nXt8Wo7e"
      },
      "source": [
        "losses = pd.DataFrame(model.history.history)"
      ],
      "execution_count": null,
      "outputs": []
    },
    {
      "cell_type": "code",
      "metadata": {
        "colab": {
          "base_uri": "https://localhost:8080/",
          "height": 282
        },
        "id": "m1ISSzc9Wo7e",
        "outputId": "cccb3157-4176-47b7-b7cd-b468d574e82c"
      },
      "source": [
        "losses.plot()"
      ],
      "execution_count": null,
      "outputs": [
        {
          "output_type": "execute_result",
          "data": {
            "text/plain": [
              "<matplotlib.axes._subplots.AxesSubplot at 0x7f438b155b00>"
            ]
          },
          "metadata": {
            "tags": []
          },
          "execution_count": 155
        },
        {
          "output_type": "display_data",
          "data": {
            "image/png": "[encoded data removed]",
            "text/plain": [
              "<Figure size 432x288 with 1 Axes>"
            ]
          },
          "metadata": {
            "tags": [],
            "needs_background": "light"
          }
        }
      ]
    },
    {
      "cell_type": "markdown",
      "metadata": {
        "id": "m783jee0Wo7e"
      },
      "source": [
        "\r\n",
        "# Evaluation on Test Data\r\n",
        "\r\n"
      ]
    },
    {
      "cell_type": "code",
      "metadata": {
        "id": "ipGhxwtoWo7e"
      },
      "source": [
        "from sklearn.metrics import mean_squared_error,mean_absolute_error,explained_variance_score"
      ],
      "execution_count": null,
      "outputs": []
    },
    {
      "cell_type": "markdown",
      "metadata": {
        "id": "duO-gCGNWo7f"
      },
      "source": [
        "Predicting on Brand New Data"
      ]
    },
    {
      "cell_type": "code",
      "metadata": {
        "colab": {
          "base_uri": "https://localhost:8080/",
          "height": 225
        },
        "id": "taZfrCNBWo7f",
        "outputId": "5df6dd88-8d12-40c2-9502-19f3376dc194"
      },
      "source": [
        "X_test"
      ],
      "execution_count": null,
      "outputs": [
        {
          "output_type": "execute_result",
          "data": {
            "text/html": [
              "<div>\n",
              "<style scoped>\n",
              "    .dataframe tbody tr th:only-of-type {\n",
              "        vertical-align: middle;\n",
              "    }\n",
              "\n",
              "    .dataframe tbody tr th {\n",
              "        vertical-align: top;\n",
              "    }\n",
              "\n",
              "    .dataframe thead th {\n",
              "        text-align: right;\n",
              "    }\n",
              "</style>\n",
              "<table border=\"1\" class=\"dataframe\">\n",
              "  <thead>\n",
              "    <tr style=\"text-align: right;\">\n",
              "      <th></th>\n",
              "      <th>year</th>\n",
              "      <th>num_reg_v</th>\n",
              "      <th>population</th>\n",
              "      <th>proad_length</th>\n",
              "      <th>num_arrived</th>\n",
              "      <th>GNI</th>\n",
              "      <th>GDP</th>\n",
              "      <th>num_ref</th>\n",
              "    </tr>\n",
              "  </thead>\n",
              "  <tbody>\n",
              "    <tr>\n",
              "      <th>18</th>\n",
              "      <td>2008</td>\n",
              "      <td>0.574154</td>\n",
              "      <td>0.394373</td>\n",
              "      <td>0.959459</td>\n",
              "      <td>0.712483</td>\n",
              "      <td>0.636364</td>\n",
              "      <td>0.654081</td>\n",
              "      <td>0.788837</td>\n",
              "    </tr>\n",
              "    <tr>\n",
              "      <th>17</th>\n",
              "      <td>2007</td>\n",
              "      <td>0.507094</td>\n",
              "      <td>0.374301</td>\n",
              "      <td>0.933514</td>\n",
              "      <td>0.632483</td>\n",
              "      <td>0.517045</td>\n",
              "      <td>0.469572</td>\n",
              "      <td>0.763836</td>\n",
              "    </tr>\n",
              "    <tr>\n",
              "      <th>12</th>\n",
              "      <td>2002</td>\n",
              "      <td>0.242182</td>\n",
              "      <td>0.308654</td>\n",
              "      <td>0.681622</td>\n",
              "      <td>0.351409</td>\n",
              "      <td>0.215909</td>\n",
              "      <td>0.191822</td>\n",
              "      <td>0.398871</td>\n",
              "    </tr>\n",
              "    <tr>\n",
              "      <th>23</th>\n",
              "      <td>2013</td>\n",
              "      <td>0.871298</td>\n",
              "      <td>0.506252</td>\n",
              "      <td>0.680000</td>\n",
              "      <td>0.770470</td>\n",
              "      <td>0.926136</td>\n",
              "      <td>0.923545</td>\n",
              "      <td>0.924019</td>\n",
              "    </tr>\n",
              "    <tr>\n",
              "      <th>15</th>\n",
              "      <td>2005</td>\n",
              "      <td>0.367047</td>\n",
              "      <td>0.332346</td>\n",
              "      <td>0.840541</td>\n",
              "      <td>0.513289</td>\n",
              "      <td>0.389205</td>\n",
              "      <td>0.305161</td>\n",
              "      <td>0.465911</td>\n",
              "    </tr>\n",
              "    <tr>\n",
              "      <th>16</th>\n",
              "      <td>2006</td>\n",
              "      <td>0.432447</td>\n",
              "      <td>0.353241</td>\n",
              "      <td>0.893514</td>\n",
              "      <td>0.577181</td>\n",
              "      <td>0.443182</td>\n",
              "      <td>0.402710</td>\n",
              "      <td>0.740424</td>\n",
              "    </tr>\n",
              "  </tbody>\n",
              "</table>\n",
              "</div>"
            ],
            "text/plain": [
              "    year  num_reg_v  population  ...       GNI       GDP   num_ref\n",
              "18  2008   0.574154    0.394373  ...  0.636364  0.654081  0.788837\n",
              "17  2007   0.507094    0.374301  ...  0.517045  0.469572  0.763836\n",
              "12  2002   0.242182    0.308654  ...  0.215909  0.191822  0.398871\n",
              "23  2013   0.871298    0.506252  ...  0.926136  0.923545  0.924019\n",
              "15  2005   0.367047    0.332346  ...  0.389205  0.305161  0.465911\n",
              "16  2006   0.432447    0.353241  ...  0.443182  0.402710  0.740424\n",
              "\n",
              "[6 rows x 8 columns]"
            ]
          },
          "metadata": {
            "tags": []
          },
          "execution_count": 113
        }
      ]
    },
    {
      "cell_type": "code",
      "metadata": {
        "colab": {
          "base_uri": "https://localhost:8080/"
        },
        "id": "7bmMS-7SWo7f",
        "outputId": "a00b27dd-4d39-49ce-d225-65e7b2c7ceee"
      },
      "source": [
        "predictions = model.predict(X_test)\r\n",
        "mean_absolute_error(y_test,predictions)"
      ],
      "execution_count": null,
      "outputs": [
        {
          "output_type": "execute_result",
          "data": {
            "text/plain": [
              "0.21530711509214692"
            ]
          },
          "metadata": {
            "tags": []
          },
          "execution_count": 156
        }
      ]
    },
    {
      "cell_type": "code",
      "metadata": {
        "colab": {
          "base_uri": "https://localhost:8080/"
        },
        "id": "fl3j343AWo7f",
        "outputId": "b7f040fe-2fff-4194-95ca-4fb9376f8a6a"
      },
      "source": [
        "np.sqrt(mean_squared_error(y_test,predictions))"
      ],
      "execution_count": null,
      "outputs": [
        {
          "output_type": "execute_result",
          "data": {
            "text/plain": [
              "0.2634220594874395"
            ]
          },
          "metadata": {
            "tags": []
          },
          "execution_count": 151
        }
      ]
    },
    {
      "cell_type": "code",
      "metadata": {
        "colab": {
          "base_uri": "https://localhost:8080/"
        },
        "id": "OEVWzRxSWo7g",
        "outputId": "8fff4c48-6c80-4008-e0ff-f1a36fa4f109"
      },
      "source": [
        "df['accidents'].mean()"
      ],
      "execution_count": null,
      "outputs": [
        {
          "output_type": "execute_result",
          "data": {
            "text/plain": [
              "70.30146153846154"
            ]
          },
          "metadata": {
            "tags": []
          },
          "execution_count": 76
        }
      ]
    },
    {
      "cell_type": "code",
      "metadata": {
        "colab": {
          "base_uri": "https://localhost:8080/",
          "height": 282
        },
        "id": "6i0Pi1LzWo7g",
        "outputId": "da2c05f9-1071-42d2-8016-4b27a4159576"
      },
      "source": [
        "# Our predictions\r\n",
        "plt.scatter(y_test,predictions)\r\n",
        "\r\n",
        "# Perfect predictions\r\n",
        "plt.plot(y_test,y_test,'r')"
      ],
      "execution_count": null,
      "outputs": [
        {
          "output_type": "execute_result",
          "data": {
            "text/plain": [
              "[<matplotlib.lines.Line2D at 0x7f43e23206d8>]"
            ]
          },
          "metadata": {
            "tags": []
          },
          "execution_count": 157
        },
        {
          "output_type": "display_data",
          "data": {
            "image/png": "[encoded data removed]",
            "text/plain": [
              "<Figure size 432x288 with 1 Axes>"
            ]
          },
          "metadata": {
            "tags": [],
            "needs_background": "light"
          }
        }
      ]
    },
    {
      "cell_type": "code",
      "metadata": {
        "id": "Q_J_xvWsWo7g"
      },
      "source": [
        "errors = y_test.values.reshape(6,1) - predictions"
      ],
      "execution_count": null,
      "outputs": []
    },
    {
      "cell_type": "code",
      "metadata": {
        "colab": {
          "base_uri": "https://localhost:8080/",
          "height": 335
        },
        "id": "qwkncW2CWo7g",
        "outputId": "1b08db9a-dddd-402c-8414-bcb373423251"
      },
      "source": [
        "sns.distplot(errors)"
      ],
      "execution_count": null,
      "outputs": [
        {
          "output_type": "stream",
          "text": [
            "/usr/local/lib/python3.6/dist-packages/seaborn/distributions.py:2551: FutureWarning: `distplot` is a deprecated function and will be removed in a future version. Please adapt your code to use either `displot` (a figure-level function with similar flexibility) or `histplot` (an axes-level function for histograms).\n",
            "  warnings.warn(msg, FutureWarning)\n"
          ],
          "name": "stderr"
        },
        {
          "output_type": "execute_result",
          "data": {
            "text/plain": [
              "<matplotlib.axes._subplots.AxesSubplot at 0x7f43e1f68748>"
            ]
          },
          "metadata": {
            "tags": []
          },
          "execution_count": 130
        },
        {
          "output_type": "display_data",
          "data": {
            "image/png": "[encoded data removed]",
            "text/plain": [
              "<Figure size 432x288 with 1 Axes>"
            ]
          },
          "metadata": {
            "tags": [],
            "needs_background": "light"
          }
        }
      ]
    },
    {
      "cell_type": "code",
      "metadata": {
        "id": "brru4ZsKXkaC"
      },
      "source": [
        ""
      ],
      "execution_count": null,
      "outputs": []
    },
    {
      "cell_type": "markdown",
      "metadata": {
        "id": "vbOEkKxxXkuS"
      },
      "source": [
        "# Third Try"
      ]
    },
    {
      "cell_type": "code",
      "metadata": {
        "id": "IPNO07lnXkuT"
      },
      "source": [
        "model = Sequential()\r\n",
        "\r\n",
        "\r\n",
        "model.add(Dense(90,activation='linear'))\r\n",
        "model.add(Dense(10,activation='linear'))\r\n",
        "model.add(Dense(4,activation='linear'))\r\n",
        "\r\n",
        "# Final output node for prediction\r\n",
        "model.add(Dense(1))\r\n",
        "\r\n",
        "model.compile(optimizer='adam',loss='mse')"
      ],
      "execution_count": null,
      "outputs": []
    },
    {
      "cell_type": "code",
      "metadata": {
        "colab": {
          "base_uri": "https://localhost:8080/"
        },
        "id": "JDt4Y_icXkuT",
        "outputId": "2496f492-7db2-48c9-f197-297cd4b52ef0"
      },
      "source": [
        "model.fit(x=X_train,y=y_train.values,\r\n",
        "          validation_data=(X_test,y_test.values),\r\n",
        "          batch_size=128,epochs=400)"
      ],
      "execution_count": null,
      "outputs": [
        {
          "output_type": "stream",
          "text": [
            "Epoch 1/400\n",
            "1/1 [==============================] - 1s 508ms/step - loss: 82658.7266 - val_loss: 24852.4004\n",
            "Epoch 2/400\n",
            "1/1 [==============================] - 0s 40ms/step - loss: 24682.8066 - val_loss: 1176.1005\n",
            "Epoch 3/400\n",
            "1/1 [==============================] - 0s 42ms/step - loss: 1164.2886 - val_loss: 4782.8057\n",
            "Epoch 4/400\n",
            "1/1 [==============================] - 0s 41ms/step - loss: 4764.3062 - val_loss: 18550.6660\n",
            "Epoch 5/400\n",
            "1/1 [==============================] - 0s 39ms/step - loss: 18460.0273 - val_loss: 26152.5469\n",
            "Epoch 6/400\n",
            "1/1 [==============================] - 0s 33ms/step - loss: 26020.3066 - val_loss: 23749.6172\n",
            "Epoch 7/400\n",
            "1/1 [==============================] - 0s 38ms/step - loss: 23630.2969 - val_loss: 15447.1758\n",
            "Epoch 8/400\n",
            "1/1 [==============================] - 0s 41ms/step - loss: 15372.7139 - val_loss: 6611.2300\n",
            "Epoch 9/400\n",
            "1/1 [==============================] - 0s 45ms/step - loss: 6583.0732 - val_loss: 1067.3291\n",
            "Epoch 10/400\n",
            "1/1 [==============================] - 0s 37ms/step - loss: 1065.3939 - val_loss: 222.2105\n",
            "Epoch 11/400\n",
            "1/1 [==============================] - 0s 36ms/step - loss: 218.9482 - val_loss: 3063.8044\n",
            "Epoch 12/400\n",
            "1/1 [==============================] - 0s 39ms/step - loss: 3038.4534 - val_loss: 7047.7241\n",
            "Epoch 13/400\n",
            "1/1 [==============================] - 0s 38ms/step - loss: 6995.1157 - val_loss: 9650.4395\n",
            "Epoch 14/400\n",
            "1/1 [==============================] - 0s 40ms/step - loss: 9580.6787 - val_loss: 9646.0928\n",
            "Epoch 15/400\n",
            "1/1 [==============================] - 0s 41ms/step - loss: 9576.4590 - val_loss: 7360.5781\n",
            "Epoch 16/400\n",
            "1/1 [==============================] - 0s 35ms/step - loss: 7306.1250 - val_loss: 4097.3618\n",
            "Epoch 17/400\n",
            "1/1 [==============================] - 0s 38ms/step - loss: 4065.0513 - val_loss: 1329.9807\n",
            "Epoch 18/400\n",
            "1/1 [==============================] - 0s 39ms/step - loss: 1317.5593 - val_loss: 49.0628\n",
            "Epoch 19/400\n",
            "1/1 [==============================] - 0s 36ms/step - loss: 47.9211 - val_loss: 424.5722\n",
            "Epoch 20/400\n",
            "1/1 [==============================] - 0s 37ms/step - loss: 424.6468 - val_loss: 1850.6890\n",
            "Epoch 21/400\n",
            "1/1 [==============================] - 0s 37ms/step - loss: 1845.0803 - val_loss: 3338.9739\n",
            "Epoch 22/400\n",
            "1/1 [==============================] - 0s 39ms/step - loss: 3326.3594 - val_loss: 4053.7122\n",
            "Epoch 23/400\n",
            "1/1 [==============================] - 0s 40ms/step - loss: 4037.5698 - val_loss: 3690.9856\n",
            "Epoch 24/400\n",
            "1/1 [==============================] - 0s 39ms/step - loss: 3676.5801 - val_loss: 2524.9275\n",
            "Epoch 25/400\n",
            "1/1 [==============================] - 0s 42ms/step - loss: 2516.1138 - val_loss: 1169.1670\n",
            "Epoch 26/400\n",
            "1/1 [==============================] - 0s 37ms/step - loss: 1166.4080 - val_loss: 228.8692\n",
            "Epoch 27/400\n",
            "1/1 [==============================] - 0s 37ms/step - loss: 229.3579 - val_loss: 17.8025\n",
            "Epoch 28/400\n",
            "1/1 [==============================] - 0s 37ms/step - loss: 17.2144 - val_loss: 452.1414\n",
            "Epoch 29/400\n",
            "1/1 [==============================] - 0s 36ms/step - loss: 446.9469 - val_loss: 1148.6973\n",
            "Epoch 30/400\n",
            "1/1 [==============================] - 0s 43ms/step - loss: 1137.8910 - val_loss: 1660.1167\n",
            "Epoch 31/400\n",
            "1/1 [==============================] - 0s 37ms/step - loss: 1645.4832 - val_loss: 1711.0302\n",
            "Epoch 32/400\n",
            "1/1 [==============================] - 0s 40ms/step - loss: 1696.0310 - val_loss: 1310.2701\n",
            "Epoch 33/400\n",
            "1/1 [==============================] - 0s 37ms/step - loss: 1298.2679 - val_loss: 699.4734\n",
            "Epoch 34/400\n",
            "1/1 [==============================] - 0s 42ms/step - loss: 692.2394 - val_loss: 191.9031\n",
            "Epoch 35/400\n",
            "1/1 [==============================] - 0s 35ms/step - loss: 189.1621 - val_loss: 0.1798\n",
            "Epoch 36/400\n",
            "1/1 [==============================] - 0s 43ms/step - loss: 0.1527 - val_loss: 140.5820\n",
            "Epoch 37/400\n",
            "1/1 [==============================] - 0s 321ms/step - loss: 141.1634 - val_loss: 453.0640\n",
            "Epoch 38/400\n",
            "1/1 [==============================] - 0s 38ms/step - loss: 452.8990 - val_loss: 713.1738\n",
            "Epoch 39/400\n",
            "1/1 [==============================] - 0s 44ms/step - loss: 712.0983 - val_loss: 763.8641\n",
            "Epoch 40/400\n",
            "1/1 [==============================] - 0s 44ms/step - loss: 762.5938 - val_loss: 591.2507\n",
            "Epoch 41/400\n",
            "1/1 [==============================] - 0s 47ms/step - loss: 590.6094 - val_loss: 309.5028\n",
            "Epoch 42/400\n",
            "1/1 [==============================] - 0s 37ms/step - loss: 309.7426 - val_loss: 76.9777\n",
            "Epoch 43/400\n",
            "1/1 [==============================] - 0s 38ms/step - loss: 77.5660 - val_loss: 0.3785\n",
            "Epoch 44/400\n",
            "1/1 [==============================] - 0s 37ms/step - loss: 0.3285 - val_loss: 82.0907\n",
            "Epoch 45/400\n",
            "1/1 [==============================] - 0s 41ms/step - loss: 80.5787 - val_loss: 234.5585\n",
            "Epoch 46/400\n",
            "1/1 [==============================] - 0s 41ms/step - loss: 231.4207 - val_loss: 344.6084\n",
            "Epoch 47/400\n",
            "1/1 [==============================] - 0s 40ms/step - loss: 340.4433 - val_loss: 343.4846\n",
            "Epoch 48/400\n",
            "1/1 [==============================] - 0s 37ms/step - loss: 339.3351 - val_loss: 240.3309\n",
            "Epoch 49/400\n",
            "1/1 [==============================] - 0s 39ms/step - loss: 237.1414 - val_loss: 104.3515\n",
            "Epoch 50/400\n",
            "1/1 [==============================] - 0s 39ms/step - loss: 102.5786 - val_loss: 13.9080\n",
            "Epoch 51/400\n",
            "1/1 [==============================] - 0s 44ms/step - loss: 13.4191 - val_loss: 7.7189\n",
            "Epoch 52/400\n",
            "1/1 [==============================] - 0s 40ms/step - loss: 8.0167 - val_loss: 67.4051\n",
            "Epoch 53/400\n",
            "1/1 [==============================] - 0s 40ms/step - loss: 67.9778 - val_loss: 137.7184\n",
            "Epoch 54/400\n",
            "1/1 [==============================] - 0s 39ms/step - loss: 138.2787 - val_loss: 166.6405\n",
            "Epoch 55/400\n",
            "1/1 [==============================] - 0s 40ms/step - loss: 167.1660 - val_loss: 137.5050\n",
            "Epoch 56/400\n",
            "1/1 [==============================] - 0s 40ms/step - loss: 138.0678 - val_loss: 73.8283\n",
            "Epoch 57/400\n",
            "1/1 [==============================] - 0s 40ms/step - loss: 74.4049 - val_loss: 17.8311\n",
            "Epoch 58/400\n",
            "1/1 [==============================] - 0s 39ms/step - loss: 18.2350 - val_loss: 0.2578\n",
            "Epoch 59/400\n",
            "1/1 [==============================] - 0s 38ms/step - loss: 0.2215 - val_loss: 22.2393\n",
            "Epoch 60/400\n",
            "1/1 [==============================] - 0s 46ms/step - loss: 21.5874 - val_loss: 59.2031\n",
            "Epoch 61/400\n",
            "1/1 [==============================] - 0s 46ms/step - loss: 57.9903 - val_loss: 81.0935\n",
            "Epoch 62/400\n",
            "1/1 [==============================] - 0s 39ms/step - loss: 79.6015 - val_loss: 73.1172\n",
            "Epoch 63/400\n",
            "1/1 [==============================] - 0s 37ms/step - loss: 71.7250 - val_loss: 43.1147\n",
            "Epoch 64/400\n",
            "1/1 [==============================] - 0s 39ms/step - loss: 42.1268 - val_loss: 12.6122\n",
            "Epoch 65/400\n",
            "1/1 [==============================] - 0s 40ms/step - loss: 12.1522 - val_loss: 0.0280\n",
            "Epoch 66/400\n",
            "1/1 [==============================] - 0s 40ms/step - loss: 0.0329 - val_loss: 8.6251\n",
            "Epoch 67/400\n",
            "1/1 [==============================] - 0s 41ms/step - loss: 8.9350 - val_loss: 26.7492\n",
            "Epoch 68/400\n",
            "1/1 [==============================] - 0s 38ms/step - loss: 27.2096 - val_loss: 38.3445\n",
            "Epoch 69/400\n",
            "1/1 [==============================] - 0s 41ms/step - loss: 38.8533 - val_loss: 34.8756\n",
            "Epoch 70/400\n",
            "1/1 [==============================] - 0s 45ms/step - loss: 35.3729 - val_loss: 20.0811\n",
            "Epoch 71/400\n",
            "1/1 [==============================] - 0s 41ms/step - loss: 20.5013 - val_loss: 5.2777\n",
            "Epoch 72/400\n",
            "1/1 [==============================] - 0s 39ms/step - loss: 5.5341 - val_loss: 0.0250\n",
            "Epoch 73/400\n",
            "1/1 [==============================] - 0s 36ms/step - loss: 0.0310 - val_loss: 5.5172\n",
            "Epoch 74/400\n",
            "1/1 [==============================] - 0s 41ms/step - loss: 5.2378 - val_loss: 15.0641\n",
            "Epoch 75/400\n",
            "1/1 [==============================] - 0s 47ms/step - loss: 14.5513 - val_loss: 20.2224\n",
            "Epoch 76/400\n",
            "1/1 [==============================] - 0s 43ms/step - loss: 19.6080 - val_loss: 17.2303\n",
            "Epoch 77/400\n",
            "1/1 [==============================] - 0s 42ms/step - loss: 16.6734 - val_loss: 8.9917\n",
            "Epoch 78/400\n",
            "1/1 [==============================] - 0s 41ms/step - loss: 8.6166 - val_loss: 1.8178\n",
            "Epoch 79/400\n",
            "1/1 [==============================] - 0s 41ms/step - loss: 1.6753 - val_loss: 0.1759\n",
            "Epoch 80/400\n",
            "1/1 [==============================] - 0s 43ms/step - loss: 0.2461 - val_loss: 3.6681\n",
            "Epoch 81/400\n",
            "1/1 [==============================] - 0s 40ms/step - loss: 3.8905 - val_loss: 8.1633\n",
            "Epoch 82/400\n",
            "1/1 [==============================] - 0s 41ms/step - loss: 8.4674 - val_loss: 9.5672\n",
            "Epoch 83/400\n",
            "1/1 [==============================] - 0s 37ms/step - loss: 9.8905 - val_loss: 6.9453\n",
            "Epoch 84/400\n",
            "1/1 [==============================] - 0s 43ms/step - loss: 7.2316 - val_loss: 2.7013\n",
            "Epoch 85/400\n",
            "1/1 [==============================] - 0s 44ms/step - loss: 2.8983 - val_loss: 0.1452\n",
            "Epoch 86/400\n",
            "1/1 [==============================] - 0s 38ms/step - loss: 0.2112 - val_loss: 0.7467\n",
            "Epoch 87/400\n",
            "1/1 [==============================] - 0s 39ms/step - loss: 0.6661 - val_loss: 3.2781\n",
            "Epoch 88/400\n",
            "1/1 [==============================] - 0s 39ms/step - loss: 3.0732 - val_loss: 5.2134\n",
            "Epoch 89/400\n",
            "1/1 [==============================] - 0s 43ms/step - loss: 4.9417 - val_loss: 4.9267\n",
            "Epoch 90/400\n",
            "1/1 [==============================] - 0s 45ms/step - loss: 4.6645 - val_loss: 2.8296\n",
            "Epoch 91/400\n",
            "1/1 [==============================] - 0s 42ms/step - loss: 2.6417 - val_loss: 0.6945\n",
            "Epoch 92/400\n",
            "1/1 [==============================] - 0s 38ms/step - loss: 0.6174 - val_loss: 0.0151\n",
            "Epoch 93/400\n",
            "1/1 [==============================] - 0s 39ms/step - loss: 0.0511 - val_loss: 0.8610\n",
            "Epoch 94/400\n",
            "1/1 [==============================] - 0s 43ms/step - loss: 0.9862 - val_loss: 2.0769\n",
            "Epoch 95/400\n",
            "1/1 [==============================] - 0s 41ms/step - loss: 2.2546 - val_loss: 2.4451\n",
            "Epoch 96/400\n",
            "1/1 [==============================] - 0s 41ms/step - loss: 2.6347 - val_loss: 1.6953\n",
            "Epoch 97/400\n",
            "1/1 [==============================] - 0s 39ms/step - loss: 1.8591 - val_loss: 0.5651\n",
            "Epoch 98/400\n",
            "1/1 [==============================] - 0s 41ms/step - loss: 0.6718 - val_loss: 0.0067\n",
            "Epoch 99/400\n",
            "1/1 [==============================] - 0s 36ms/step - loss: 0.0373 - val_loss: 0.3460\n",
            "Epoch 100/400\n",
            "1/1 [==============================] - 0s 36ms/step - loss: 0.2993 - val_loss: 1.1047\n",
            "Epoch 101/400\n",
            "1/1 [==============================] - 0s 42ms/step - loss: 0.9997 - val_loss: 1.5284\n",
            "Epoch 102/400\n",
            "1/1 [==============================] - 0s 39ms/step - loss: 1.3995 - val_loss: 1.2654\n",
            "Epoch 103/400\n",
            "1/1 [==============================] - 0s 38ms/step - loss: 1.1509 - val_loss: 0.5938\n",
            "Epoch 104/400\n",
            "1/1 [==============================] - 0s 39ms/step - loss: 0.5242 - val_loss: 0.0796\n",
            "Epoch 105/400\n",
            "1/1 [==============================] - 0s 38ms/step - loss: 0.0702 - val_loss: 0.0510\n",
            "Epoch 106/400\n",
            "1/1 [==============================] - 0s 40ms/step - loss: 0.0994 - val_loss: 0.3654\n",
            "Epoch 107/400\n",
            "1/1 [==============================] - 0s 36ms/step - loss: 0.4563 - val_loss: 0.6225\n",
            "Epoch 108/400\n",
            "1/1 [==============================] - 0s 39ms/step - loss: 0.7335 - val_loss: 0.5620\n",
            "Epoch 109/400\n",
            "1/1 [==============================] - 0s 40ms/step - loss: 0.6687 - val_loss: 0.2669\n",
            "Epoch 110/400\n",
            "1/1 [==============================] - 0s 39ms/step - loss: 0.3483 - val_loss: 0.0287\n",
            "Epoch 111/400\n",
            "1/1 [==============================] - 0s 37ms/step - loss: 0.0704 - val_loss: 0.0477\n",
            "Epoch 112/400\n",
            "1/1 [==============================] - 0s 41ms/step - loss: 0.0460 - val_loss: 0.2646\n",
            "Epoch 113/400\n",
            "1/1 [==============================] - 0s 42ms/step - loss: 0.2267 - val_loss: 0.4503\n",
            "Epoch 114/400\n",
            "1/1 [==============================] - 0s 39ms/step - loss: 0.3930 - val_loss: 0.4352\n",
            "Epoch 115/400\n",
            "1/1 [==============================] - 0s 39ms/step - loss: 0.3792 - val_loss: 0.2486\n",
            "Epoch 116/400\n",
            "1/1 [==============================] - 0s 41ms/step - loss: 0.2126 - val_loss: 0.0596\n",
            "Epoch 117/400\n",
            "1/1 [==============================] - 0s 39ms/step - loss: 0.0546 - val_loss: 0.0043\n",
            "Epoch 118/400\n",
            "1/1 [==============================] - 0s 40ms/step - loss: 0.0321 - val_loss: 0.0737\n",
            "Epoch 119/400\n",
            "1/1 [==============================] - 0s 38ms/step - loss: 0.1275 - val_loss: 0.1530\n",
            "Epoch 120/400\n",
            "1/1 [==============================] - 0s 44ms/step - loss: 0.2204 - val_loss: 0.1484\n",
            "Epoch 121/400\n",
            "1/1 [==============================] - 0s 40ms/step - loss: 0.2152 - val_loss: 0.0714\n",
            "Epoch 122/400\n",
            "1/1 [==============================] - 0s 49ms/step - loss: 0.1247 - val_loss: 0.0076\n",
            "Epoch 123/400\n",
            "1/1 [==============================] - 0s 38ms/step - loss: 0.0389 - val_loss: 0.0214\n",
            "Epoch 124/400\n",
            "1/1 [==============================] - 0s 35ms/step - loss: 0.0285 - val_loss: 0.0949\n",
            "Epoch 125/400\n",
            "1/1 [==============================] - 0s 39ms/step - loss: 0.0820 - val_loss: 0.1544\n",
            "Epoch 126/400\n",
            "1/1 [==============================] - 0s 40ms/step - loss: 0.1312 - val_loss: 0.1466\n",
            "Epoch 127/400\n",
            "1/1 [==============================] - 0s 39ms/step - loss: 0.1246 - val_loss: 0.0838\n",
            "Epoch 128/400\n",
            "1/1 [==============================] - 0s 42ms/step - loss: 0.0732 - val_loss: 0.0219\n",
            "Epoch 129/400\n",
            "1/1 [==============================] - 0s 40ms/step - loss: 0.0287 - val_loss: 0.0029\n",
            "Epoch 130/400\n",
            "1/1 [==============================] - 0s 36ms/step - loss: 0.0277 - val_loss: 0.0205\n",
            "Epoch 131/400\n",
            "1/1 [==============================] - 0s 42ms/step - loss: 0.0591 - val_loss: 0.0383\n",
            "Epoch 132/400\n",
            "1/1 [==============================] - 0s 42ms/step - loss: 0.0833 - val_loss: 0.0321\n",
            "Epoch 133/400\n",
            "1/1 [==============================] - 0s 44ms/step - loss: 0.0751 - val_loss: 0.0113\n",
            "Epoch 134/400\n",
            "1/1 [==============================] - 0s 41ms/step - loss: 0.0453 - val_loss: 0.0030\n",
            "Epoch 135/400\n",
            "1/1 [==============================] - 0s 41ms/step - loss: 0.0238 - val_loss: 0.0202\n",
            "Epoch 136/400\n",
            "1/1 [==============================] - 0s 43ms/step - loss: 0.0277 - val_loss: 0.0484\n",
            "Epoch 137/400\n",
            "1/1 [==============================] - 0s 41ms/step - loss: 0.0461 - val_loss: 0.0624\n",
            "Epoch 138/400\n",
            "1/1 [==============================] - 0s 47ms/step - loss: 0.0565 - val_loss: 0.0512\n",
            "Epoch 139/400\n",
            "1/1 [==============================] - 0s 46ms/step - loss: 0.0482 - val_loss: 0.0263\n",
            "Epoch 140/400\n",
            "1/1 [==============================] - 0s 53ms/step - loss: 0.0312 - val_loss: 0.0071\n",
            "Epoch 141/400\n",
            "1/1 [==============================] - 0s 44ms/step - loss: 0.0223 - val_loss: 0.0028\n",
            "Epoch 142/400\n",
            "1/1 [==============================] - 0s 40ms/step - loss: 0.0276 - val_loss: 0.0070\n",
            "Epoch 143/400\n",
            "1/1 [==============================] - 0s 42ms/step - loss: 0.0379 - val_loss: 0.0087\n",
            "Epoch 144/400\n",
            "1/1 [==============================] - 0s 41ms/step - loss: 0.0409 - val_loss: 0.0051\n",
            "Epoch 145/400\n",
            "1/1 [==============================] - 0s 41ms/step - loss: 0.0340 - val_loss: 0.0027\n",
            "Epoch 146/400\n",
            "1/1 [==============================] - 0s 48ms/step - loss: 0.0249 - val_loss: 0.0080\n",
            "Epoch 147/400\n",
            "1/1 [==============================] - 0s 47ms/step - loss: 0.0225 - val_loss: 0.0193\n",
            "Epoch 148/400\n",
            "1/1 [==============================] - 0s 39ms/step - loss: 0.0271 - val_loss: 0.0279\n",
            "Epoch 149/400\n",
            "1/1 [==============================] - 0s 40ms/step - loss: 0.0321 - val_loss: 0.0273\n",
            "Epoch 150/400\n",
            "1/1 [==============================] - 0s 38ms/step - loss: 0.0317 - val_loss: 0.0188\n",
            "Epoch 151/400\n",
            "1/1 [==============================] - 0s 38ms/step - loss: 0.0268 - val_loss: 0.0090\n",
            "Epoch 152/400\n",
            "1/1 [==============================] - 0s 41ms/step - loss: 0.0226 - val_loss: 0.0036\n",
            "Epoch 153/400\n",
            "1/1 [==============================] - 0s 42ms/step - loss: 0.0230 - val_loss: 0.0027\n",
            "Epoch 154/400\n",
            "1/1 [==============================] - 0s 44ms/step - loss: 0.0262 - val_loss: 0.0029\n",
            "Epoch 155/400\n",
            "1/1 [==============================] - 0s 37ms/step - loss: 0.0281 - val_loss: 0.0027\n",
            "Epoch 156/400\n",
            "1/1 [==============================] - 0s 40ms/step - loss: 0.0265 - val_loss: 0.0031\n",
            "Epoch 157/400\n",
            "1/1 [==============================] - 0s 41ms/step - loss: 0.0235 - val_loss: 0.0062\n",
            "Epoch 158/400\n",
            "1/1 [==============================] - 0s 40ms/step - loss: 0.0222 - val_loss: 0.0114\n",
            "Epoch 159/400\n",
            "1/1 [==============================] - 0s 40ms/step - loss: 0.0233 - val_loss: 0.0156\n",
            "Epoch 160/400\n",
            "1/1 [==============================] - 0s 41ms/step - loss: 0.0251 - val_loss: 0.0160\n",
            "Epoch 161/400\n",
            "1/1 [==============================] - 0s 47ms/step - loss: 0.0253 - val_loss: 0.0127\n",
            "Epoch 162/400\n",
            "1/1 [==============================] - 0s 44ms/step - loss: 0.0238 - val_loss: 0.0082\n",
            "Epoch 163/400\n",
            "1/1 [==============================] - 0s 44ms/step - loss: 0.0224 - val_loss: 0.0048\n",
            "Epoch 164/400\n",
            "1/1 [==============================] - 0s 38ms/step - loss: 0.0223 - val_loss: 0.0032\n",
            "Epoch 165/400\n",
            "1/1 [==============================] - 0s 39ms/step - loss: 0.0234 - val_loss: 0.0029\n",
            "Epoch 166/400\n",
            "1/1 [==============================] - 0s 37ms/step - loss: 0.0240 - val_loss: 0.0031\n",
            "Epoch 167/400\n",
            "1/1 [==============================] - 0s 318ms/step - loss: 0.0236 - val_loss: 0.0041\n",
            "Epoch 168/400\n",
            "1/1 [==============================] - 0s 37ms/step - loss: 0.0226 - val_loss: 0.0063\n",
            "Epoch 169/400\n",
            "1/1 [==============================] - 0s 37ms/step - loss: 0.0221 - val_loss: 0.0090\n",
            "Epoch 170/400\n",
            "1/1 [==============================] - 0s 39ms/step - loss: 0.0225 - val_loss: 0.0109\n",
            "Epoch 171/400\n",
            "1/1 [==============================] - 0s 37ms/step - loss: 0.0231 - val_loss: 0.0109\n",
            "Epoch 172/400\n",
            "1/1 [==============================] - 0s 39ms/step - loss: 0.0231 - val_loss: 0.0093\n",
            "Epoch 173/400\n",
            "1/1 [==============================] - 0s 48ms/step - loss: 0.0226 - val_loss: 0.0070\n",
            "Epoch 174/400\n",
            "1/1 [==============================] - 0s 42ms/step - loss: 0.0221 - val_loss: 0.0051\n",
            "Epoch 175/400\n",
            "1/1 [==============================] - 0s 41ms/step - loss: 0.0222 - val_loss: 0.0041\n",
            "Epoch 176/400\n",
            "1/1 [==============================] - 0s 41ms/step - loss: 0.0225 - val_loss: 0.0039\n",
            "Epoch 177/400\n",
            "1/1 [==============================] - 0s 41ms/step - loss: 0.0227 - val_loss: 0.0042\n",
            "Epoch 178/400\n",
            "1/1 [==============================] - 0s 44ms/step - loss: 0.0225 - val_loss: 0.0051\n",
            "Epoch 179/400\n",
            "1/1 [==============================] - 0s 43ms/step - loss: 0.0221 - val_loss: 0.0066\n",
            "Epoch 180/400\n",
            "1/1 [==============================] - 0s 43ms/step - loss: 0.0221 - val_loss: 0.0080\n",
            "Epoch 181/400\n",
            "1/1 [==============================] - 0s 37ms/step - loss: 0.0222 - val_loss: 0.0088\n",
            "Epoch 182/400\n",
            "1/1 [==============================] - 0s 35ms/step - loss: 0.0224 - val_loss: 0.0086\n",
            "Epoch 183/400\n",
            "1/1 [==============================] - 0s 41ms/step - loss: 0.0223 - val_loss: 0.0075\n",
            "Epoch 184/400\n",
            "1/1 [==============================] - 0s 41ms/step - loss: 0.0221 - val_loss: 0.0063\n",
            "Epoch 185/400\n",
            "1/1 [==============================] - 0s 47ms/step - loss: 0.0220 - val_loss: 0.0053\n",
            "Epoch 186/400\n",
            "1/1 [==============================] - 0s 53ms/step - loss: 0.0221 - val_loss: 0.0048\n",
            "Epoch 187/400\n",
            "1/1 [==============================] - 0s 40ms/step - loss: 0.0222 - val_loss: 0.0048\n",
            "Epoch 188/400\n",
            "1/1 [==============================] - 0s 39ms/step - loss: 0.0222 - val_loss: 0.0052\n",
            "Epoch 189/400\n",
            "1/1 [==============================] - 0s 41ms/step - loss: 0.0221 - val_loss: 0.0059\n",
            "Epoch 190/400\n",
            "1/1 [==============================] - 0s 41ms/step - loss: 0.0220 - val_loss: 0.0068\n",
            "Epoch 191/400\n",
            "1/1 [==============================] - 0s 45ms/step - loss: 0.0220 - val_loss: 0.0075\n",
            "Epoch 192/400\n",
            "1/1 [==============================] - 0s 39ms/step - loss: 0.0221 - val_loss: 0.0077\n",
            "Epoch 193/400\n",
            "1/1 [==============================] - 0s 42ms/step - loss: 0.0221 - val_loss: 0.0073\n",
            "Epoch 194/400\n",
            "1/1 [==============================] - 0s 38ms/step - loss: 0.0220 - val_loss: 0.0066\n",
            "Epoch 195/400\n",
            "1/1 [==============================] - 0s 41ms/step - loss: 0.0220 - val_loss: 0.0059\n",
            "Epoch 196/400\n",
            "1/1 [==============================] - 0s 42ms/step - loss: 0.0220 - val_loss: 0.0055\n",
            "Epoch 197/400\n",
            "1/1 [==============================] - 0s 42ms/step - loss: 0.0220 - val_loss: 0.0053\n",
            "Epoch 198/400\n",
            "1/1 [==============================] - 0s 39ms/step - loss: 0.0220 - val_loss: 0.0055\n",
            "Epoch 199/400\n",
            "1/1 [==============================] - 0s 43ms/step - loss: 0.0220 - val_loss: 0.0059\n",
            "Epoch 200/400\n",
            "1/1 [==============================] - 0s 42ms/step - loss: 0.0219 - val_loss: 0.0064\n",
            "Epoch 201/400\n",
            "1/1 [==============================] - 0s 42ms/step - loss: 0.0219 - val_loss: 0.0069\n",
            "Epoch 202/400\n",
            "1/1 [==============================] - 0s 41ms/step - loss: 0.0219 - val_loss: 0.0071\n",
            "Epoch 203/400\n",
            "1/1 [==============================] - 0s 45ms/step - loss: 0.0219 - val_loss: 0.0070\n",
            "Epoch 204/400\n",
            "1/1 [==============================] - 0s 39ms/step - loss: 0.0219 - val_loss: 0.0066\n",
            "Epoch 205/400\n",
            "1/1 [==============================] - 0s 40ms/step - loss: 0.0219 - val_loss: 0.0062\n",
            "Epoch 206/400\n",
            "1/1 [==============================] - 0s 40ms/step - loss: 0.0219 - val_loss: 0.0058\n",
            "Epoch 207/400\n",
            "1/1 [==============================] - 0s 42ms/step - loss: 0.0219 - val_loss: 0.0057\n",
            "Epoch 208/400\n",
            "1/1 [==============================] - 0s 41ms/step - loss: 0.0219 - val_loss: 0.0057\n",
            "Epoch 209/400\n",
            "1/1 [==============================] - 0s 46ms/step - loss: 0.0219 - val_loss: 0.0060\n",
            "Epoch 210/400\n",
            "1/1 [==============================] - 0s 36ms/step - loss: 0.0218 - val_loss: 0.0063\n",
            "Epoch 211/400\n",
            "1/1 [==============================] - 0s 43ms/step - loss: 0.0218 - val_loss: 0.0066\n",
            "Epoch 212/400\n",
            "1/1 [==============================] - 0s 44ms/step - loss: 0.0218 - val_loss: 0.0068\n",
            "Epoch 213/400\n",
            "1/1 [==============================] - 0s 45ms/step - loss: 0.0218 - val_loss: 0.0068\n",
            "Epoch 214/400\n",
            "1/1 [==============================] - 0s 41ms/step - loss: 0.0218 - val_loss: 0.0066\n",
            "Epoch 215/400\n",
            "1/1 [==============================] - 0s 40ms/step - loss: 0.0218 - val_loss: 0.0063\n",
            "Epoch 216/400\n",
            "1/1 [==============================] - 0s 37ms/step - loss: 0.0218 - val_loss: 0.0061\n",
            "Epoch 217/400\n",
            "1/1 [==============================] - 0s 39ms/step - loss: 0.0218 - val_loss: 0.0059\n",
            "Epoch 218/400\n",
            "1/1 [==============================] - 0s 40ms/step - loss: 0.0218 - val_loss: 0.0059\n",
            "Epoch 219/400\n",
            "1/1 [==============================] - 0s 37ms/step - loss: 0.0218 - val_loss: 0.0061\n",
            "Epoch 220/400\n",
            "1/1 [==============================] - 0s 39ms/step - loss: 0.0218 - val_loss: 0.0063\n",
            "Epoch 221/400\n",
            "1/1 [==============================] - 0s 49ms/step - loss: 0.0218 - val_loss: 0.0065\n",
            "Epoch 222/400\n",
            "1/1 [==============================] - 0s 47ms/step - loss: 0.0218 - val_loss: 0.0066\n",
            "Epoch 223/400\n",
            "1/1 [==============================] - 0s 45ms/step - loss: 0.0218 - val_loss: 0.0066\n",
            "Epoch 224/400\n",
            "1/1 [==============================] - 0s 40ms/step - loss: 0.0218 - val_loss: 0.0065\n",
            "Epoch 225/400\n",
            "1/1 [==============================] - 0s 42ms/step - loss: 0.0217 - val_loss: 0.0063\n",
            "Epoch 226/400\n",
            "1/1 [==============================] - 0s 47ms/step - loss: 0.0217 - val_loss: 0.0061\n",
            "Epoch 227/400\n",
            "1/1 [==============================] - 0s 41ms/step - loss: 0.0217 - val_loss: 0.0061\n",
            "Epoch 228/400\n",
            "1/1 [==============================] - 0s 40ms/step - loss: 0.0217 - val_loss: 0.0061\n",
            "Epoch 229/400\n",
            "1/1 [==============================] - 0s 42ms/step - loss: 0.0217 - val_loss: 0.0062\n",
            "Epoch 230/400\n",
            "1/1 [==============================] - 0s 41ms/step - loss: 0.0217 - val_loss: 0.0063\n",
            "Epoch 231/400\n",
            "1/1 [==============================] - 0s 47ms/step - loss: 0.0217 - val_loss: 0.0064\n",
            "Epoch 232/400\n",
            "1/1 [==============================] - 0s 50ms/step - loss: 0.0217 - val_loss: 0.0065\n",
            "Epoch 233/400\n",
            "1/1 [==============================] - 0s 43ms/step - loss: 0.0217 - val_loss: 0.0065\n",
            "Epoch 234/400\n",
            "1/1 [==============================] - 0s 41ms/step - loss: 0.0217 - val_loss: 0.0065\n",
            "Epoch 235/400\n",
            "1/1 [==============================] - 0s 43ms/step - loss: 0.0217 - val_loss: 0.0064\n",
            "Epoch 236/400\n",
            "1/1 [==============================] - 0s 44ms/step - loss: 0.0217 - val_loss: 0.0063\n",
            "Epoch 237/400\n",
            "1/1 [==============================] - 0s 43ms/step - loss: 0.0217 - val_loss: 0.0063\n",
            "Epoch 238/400\n",
            "1/1 [==============================] - 0s 37ms/step - loss: 0.0217 - val_loss: 0.0063\n",
            "Epoch 239/400\n",
            "1/1 [==============================] - 0s 40ms/step - loss: 0.0216 - val_loss: 0.0063\n",
            "Epoch 240/400\n",
            "1/1 [==============================] - 0s 42ms/step - loss: 0.0216 - val_loss: 0.0063\n",
            "Epoch 241/400\n",
            "1/1 [==============================] - 0s 47ms/step - loss: 0.0216 - val_loss: 0.0063\n",
            "Epoch 242/400\n",
            "1/1 [==============================] - 0s 41ms/step - loss: 0.0216 - val_loss: 0.0064\n",
            "Epoch 243/400\n",
            "1/1 [==============================] - 0s 43ms/step - loss: 0.0216 - val_loss: 0.0064\n",
            "Epoch 244/400\n",
            "1/1 [==============================] - 0s 44ms/step - loss: 0.0216 - val_loss: 0.0064\n",
            "Epoch 245/400\n",
            "1/1 [==============================] - 0s 45ms/step - loss: 0.0216 - val_loss: 0.0064\n",
            "Epoch 246/400\n",
            "1/1 [==============================] - 0s 44ms/step - loss: 0.0216 - val_loss: 0.0064\n",
            "Epoch 247/400\n",
            "1/1 [==============================] - 0s 40ms/step - loss: 0.0216 - val_loss: 0.0064\n",
            "Epoch 248/400\n",
            "1/1 [==============================] - 0s 46ms/step - loss: 0.0216 - val_loss: 0.0064\n",
            "Epoch 249/400\n",
            "1/1 [==============================] - 0s 43ms/step - loss: 0.0216 - val_loss: 0.0063\n",
            "Epoch 250/400\n",
            "1/1 [==============================] - 0s 42ms/step - loss: 0.0216 - val_loss: 0.0063\n",
            "Epoch 251/400\n",
            "1/1 [==============================] - 0s 42ms/step - loss: 0.0215 - val_loss: 0.0063\n",
            "Epoch 252/400\n",
            "1/1 [==============================] - 0s 41ms/step - loss: 0.0215 - val_loss: 0.0063\n",
            "Epoch 253/400\n",
            "1/1 [==============================] - 0s 39ms/step - loss: 0.0215 - val_loss: 0.0063\n",
            "Epoch 254/400\n",
            "1/1 [==============================] - 0s 41ms/step - loss: 0.0215 - val_loss: 0.0064\n",
            "Epoch 255/400\n",
            "1/1 [==============================] - 0s 49ms/step - loss: 0.0215 - val_loss: 0.0064\n",
            "Epoch 256/400\n",
            "1/1 [==============================] - 0s 41ms/step - loss: 0.0215 - val_loss: 0.0064\n",
            "Epoch 257/400\n",
            "1/1 [==============================] - 0s 45ms/step - loss: 0.0215 - val_loss: 0.0064\n",
            "Epoch 258/400\n",
            "1/1 [==============================] - 0s 45ms/step - loss: 0.0215 - val_loss: 0.0064\n",
            "Epoch 259/400\n",
            "1/1 [==============================] - 0s 40ms/step - loss: 0.0215 - val_loss: 0.0064\n",
            "Epoch 260/400\n",
            "1/1 [==============================] - 0s 42ms/step - loss: 0.0215 - val_loss: 0.0064\n",
            "Epoch 261/400\n",
            "1/1 [==============================] - 0s 50ms/step - loss: 0.0215 - val_loss: 0.0064\n",
            "Epoch 262/400\n",
            "1/1 [==============================] - 0s 42ms/step - loss: 0.0215 - val_loss: 0.0064\n",
            "Epoch 263/400\n",
            "1/1 [==============================] - 0s 44ms/step - loss: 0.0215 - val_loss: 0.0064\n",
            "Epoch 264/400\n",
            "1/1 [==============================] - 0s 46ms/step - loss: 0.0215 - val_loss: 0.0064\n",
            "Epoch 265/400\n",
            "1/1 [==============================] - 0s 41ms/step - loss: 0.0215 - val_loss: 0.0064\n",
            "Epoch 266/400\n",
            "1/1 [==============================] - 0s 43ms/step - loss: 0.0214 - val_loss: 0.0064\n",
            "Epoch 267/400\n",
            "1/1 [==============================] - 0s 48ms/step - loss: 0.0214 - val_loss: 0.0064\n",
            "Epoch 268/400\n",
            "1/1 [==============================] - 0s 45ms/step - loss: 0.0214 - val_loss: 0.0064\n",
            "Epoch 269/400\n",
            "1/1 [==============================] - 0s 46ms/step - loss: 0.0214 - val_loss: 0.0064\n",
            "Epoch 270/400\n",
            "1/1 [==============================] - 0s 43ms/step - loss: 0.0214 - val_loss: 0.0064\n",
            "Epoch 271/400\n",
            "1/1 [==============================] - 0s 315ms/step - loss: 0.0214 - val_loss: 0.0064\n",
            "Epoch 272/400\n",
            "1/1 [==============================] - 0s 43ms/step - loss: 0.0214 - val_loss: 0.0064\n",
            "Epoch 273/400\n",
            "1/1 [==============================] - 0s 42ms/step - loss: 0.0214 - val_loss: 0.0064\n",
            "Epoch 274/400\n",
            "1/1 [==============================] - 0s 38ms/step - loss: 0.0214 - val_loss: 0.0065\n",
            "Epoch 275/400\n",
            "1/1 [==============================] - 0s 43ms/step - loss: 0.0214 - val_loss: 0.0065\n",
            "Epoch 276/400\n",
            "1/1 [==============================] - 0s 42ms/step - loss: 0.0214 - val_loss: 0.0065\n",
            "Epoch 277/400\n",
            "1/1 [==============================] - 0s 40ms/step - loss: 0.0214 - val_loss: 0.0065\n",
            "Epoch 278/400\n",
            "1/1 [==============================] - 0s 43ms/step - loss: 0.0214 - val_loss: 0.0065\n",
            "Epoch 279/400\n",
            "1/1 [==============================] - 0s 44ms/step - loss: 0.0213 - val_loss: 0.0065\n",
            "Epoch 280/400\n",
            "1/1 [==============================] - 0s 40ms/step - loss: 0.0213 - val_loss: 0.0065\n",
            "Epoch 281/400\n",
            "1/1 [==============================] - 0s 47ms/step - loss: 0.0213 - val_loss: 0.0065\n",
            "Epoch 282/400\n",
            "1/1 [==============================] - 0s 44ms/step - loss: 0.0213 - val_loss: 0.0065\n",
            "Epoch 283/400\n",
            "1/1 [==============================] - 0s 42ms/step - loss: 0.0213 - val_loss: 0.0065\n",
            "Epoch 284/400\n",
            "1/1 [==============================] - 0s 44ms/step - loss: 0.0213 - val_loss: 0.0065\n",
            "Epoch 285/400\n",
            "1/1 [==============================] - 0s 48ms/step - loss: 0.0213 - val_loss: 0.0065\n",
            "Epoch 286/400\n",
            "1/1 [==============================] - 0s 46ms/step - loss: 0.0213 - val_loss: 0.0065\n",
            "Epoch 287/400\n",
            "1/1 [==============================] - 0s 39ms/step - loss: 0.0213 - val_loss: 0.0065\n",
            "Epoch 288/400\n",
            "1/1 [==============================] - 0s 49ms/step - loss: 0.0213 - val_loss: 0.0065\n",
            "Epoch 289/400\n",
            "1/1 [==============================] - 0s 39ms/step - loss: 0.0213 - val_loss: 0.0065\n",
            "Epoch 290/400\n",
            "1/1 [==============================] - 0s 39ms/step - loss: 0.0213 - val_loss: 0.0065\n",
            "Epoch 291/400\n",
            "1/1 [==============================] - 0s 45ms/step - loss: 0.0212 - val_loss: 0.0065\n",
            "Epoch 292/400\n",
            "1/1 [==============================] - 0s 47ms/step - loss: 0.0213 - val_loss: 0.0065\n",
            "Epoch 293/400\n",
            "1/1 [==============================] - 0s 46ms/step - loss: 0.0213 - val_loss: 0.0065\n",
            "Epoch 294/400\n",
            "1/1 [==============================] - 0s 47ms/step - loss: 0.0212 - val_loss: 0.0065\n",
            "Epoch 295/400\n",
            "1/1 [==============================] - 0s 46ms/step - loss: 0.0212 - val_loss: 0.0065\n",
            "Epoch 296/400\n",
            "1/1 [==============================] - 0s 40ms/step - loss: 0.0212 - val_loss: 0.0065\n",
            "Epoch 297/400\n",
            "1/1 [==============================] - 0s 41ms/step - loss: 0.0212 - val_loss: 0.0065\n",
            "Epoch 298/400\n",
            "1/1 [==============================] - 0s 39ms/step - loss: 0.0212 - val_loss: 0.0065\n",
            "Epoch 299/400\n",
            "1/1 [==============================] - 0s 42ms/step - loss: 0.0212 - val_loss: 0.0065\n",
            "Epoch 300/400\n",
            "1/1 [==============================] - 0s 47ms/step - loss: 0.0212 - val_loss: 0.0065\n",
            "Epoch 301/400\n",
            "1/1 [==============================] - 0s 45ms/step - loss: 0.0212 - val_loss: 0.0065\n",
            "Epoch 302/400\n",
            "1/1 [==============================] - 0s 47ms/step - loss: 0.0212 - val_loss: 0.0065\n",
            "Epoch 303/400\n",
            "1/1 [==============================] - 0s 45ms/step - loss: 0.0212 - val_loss: 0.0065\n",
            "Epoch 304/400\n",
            "1/1 [==============================] - 0s 45ms/step - loss: 0.0212 - val_loss: 0.0065\n",
            "Epoch 305/400\n",
            "1/1 [==============================] - 0s 43ms/step - loss: 0.0211 - val_loss: 0.0065\n",
            "Epoch 306/400\n",
            "1/1 [==============================] - 0s 43ms/step - loss: 0.0211 - val_loss: 0.0065\n",
            "Epoch 307/400\n",
            "1/1 [==============================] - 0s 49ms/step - loss: 0.0211 - val_loss: 0.0065\n",
            "Epoch 308/400\n",
            "1/1 [==============================] - 0s 44ms/step - loss: 0.0211 - val_loss: 0.0065\n",
            "Epoch 309/400\n",
            "1/1 [==============================] - 0s 50ms/step - loss: 0.0211 - val_loss: 0.0065\n",
            "Epoch 310/400\n",
            "1/1 [==============================] - 0s 42ms/step - loss: 0.0211 - val_loss: 0.0065\n",
            "Epoch 311/400\n",
            "1/1 [==============================] - 0s 38ms/step - loss: 0.0211 - val_loss: 0.0065\n",
            "Epoch 312/400\n",
            "1/1 [==============================] - 0s 41ms/step - loss: 0.0211 - val_loss: 0.0065\n",
            "Epoch 313/400\n",
            "1/1 [==============================] - 0s 43ms/step - loss: 0.0211 - val_loss: 0.0065\n",
            "Epoch 314/400\n",
            "1/1 [==============================] - 0s 42ms/step - loss: 0.0211 - val_loss: 0.0065\n",
            "Epoch 315/400\n",
            "1/1 [==============================] - 0s 49ms/step - loss: 0.0211 - val_loss: 0.0066\n",
            "Epoch 316/400\n",
            "1/1 [==============================] - 0s 42ms/step - loss: 0.0211 - val_loss: 0.0066\n",
            "Epoch 317/400\n",
            "1/1 [==============================] - 0s 45ms/step - loss: 0.0211 - val_loss: 0.0066\n",
            "Epoch 318/400\n",
            "1/1 [==============================] - 0s 46ms/step - loss: 0.0211 - val_loss: 0.0066\n",
            "Epoch 319/400\n",
            "1/1 [==============================] - 0s 46ms/step - loss: 0.0210 - val_loss: 0.0066\n",
            "Epoch 320/400\n",
            "1/1 [==============================] - 0s 44ms/step - loss: 0.0210 - val_loss: 0.0066\n",
            "Epoch 321/400\n",
            "1/1 [==============================] - 0s 43ms/step - loss: 0.0210 - val_loss: 0.0066\n",
            "Epoch 322/400\n",
            "1/1 [==============================] - 0s 42ms/step - loss: 0.0210 - val_loss: 0.0066\n",
            "Epoch 323/400\n",
            "1/1 [==============================] - 0s 43ms/step - loss: 0.0210 - val_loss: 0.0066\n",
            "Epoch 324/400\n",
            "1/1 [==============================] - 0s 48ms/step - loss: 0.0210 - val_loss: 0.0066\n",
            "Epoch 325/400\n",
            "1/1 [==============================] - 0s 43ms/step - loss: 0.0210 - val_loss: 0.0066\n",
            "Epoch 326/400\n",
            "1/1 [==============================] - 0s 40ms/step - loss: 0.0210 - val_loss: 0.0066\n",
            "Epoch 327/400\n",
            "1/1 [==============================] - 0s 44ms/step - loss: 0.0210 - val_loss: 0.0066\n",
            "Epoch 328/400\n",
            "1/1 [==============================] - 0s 47ms/step - loss: 0.0210 - val_loss: 0.0066\n",
            "Epoch 329/400\n",
            "1/1 [==============================] - 0s 43ms/step - loss: 0.0210 - val_loss: 0.0066\n",
            "Epoch 330/400\n",
            "1/1 [==============================] - 0s 47ms/step - loss: 0.0210 - val_loss: 0.0066\n",
            "Epoch 331/400\n",
            "1/1 [==============================] - 0s 45ms/step - loss: 0.0210 - val_loss: 0.0066\n",
            "Epoch 332/400\n",
            "1/1 [==============================] - 0s 40ms/step - loss: 0.0210 - val_loss: 0.0066\n",
            "Epoch 333/400\n",
            "1/1 [==============================] - 0s 42ms/step - loss: 0.0210 - val_loss: 0.0066\n",
            "Epoch 334/400\n",
            "1/1 [==============================] - 0s 43ms/step - loss: 0.0209 - val_loss: 0.0066\n",
            "Epoch 335/400\n",
            "1/1 [==============================] - 0s 41ms/step - loss: 0.0209 - val_loss: 0.0066\n",
            "Epoch 336/400\n",
            "1/1 [==============================] - 0s 42ms/step - loss: 0.0209 - val_loss: 0.0066\n",
            "Epoch 337/400\n",
            "1/1 [==============================] - 0s 55ms/step - loss: 0.0209 - val_loss: 0.0066\n",
            "Epoch 338/400\n",
            "1/1 [==============================] - 0s 39ms/step - loss: 0.0209 - val_loss: 0.0066\n",
            "Epoch 339/400\n",
            "1/1 [==============================] - 0s 45ms/step - loss: 0.0209 - val_loss: 0.0066\n",
            "Epoch 340/400\n",
            "1/1 [==============================] - 0s 37ms/step - loss: 0.0209 - val_loss: 0.0066\n",
            "Epoch 341/400\n",
            "1/1 [==============================] - 0s 47ms/step - loss: 0.0209 - val_loss: 0.0066\n",
            "Epoch 342/400\n",
            "1/1 [==============================] - 0s 41ms/step - loss: 0.0209 - val_loss: 0.0066\n",
            "Epoch 343/400\n",
            "1/1 [==============================] - 0s 44ms/step - loss: 0.0209 - val_loss: 0.0066\n",
            "Epoch 344/400\n",
            "1/1 [==============================] - 0s 47ms/step - loss: 0.0209 - val_loss: 0.0067\n",
            "Epoch 345/400\n",
            "1/1 [==============================] - 0s 45ms/step - loss: 0.0209 - val_loss: 0.0067\n",
            "Epoch 346/400\n",
            "1/1 [==============================] - 0s 46ms/step - loss: 0.0209 - val_loss: 0.0067\n",
            "Epoch 347/400\n",
            "1/1 [==============================] - 0s 42ms/step - loss: 0.0208 - val_loss: 0.0067\n",
            "Epoch 348/400\n",
            "1/1 [==============================] - 0s 43ms/step - loss: 0.0208 - val_loss: 0.0067\n",
            "Epoch 349/400\n",
            "1/1 [==============================] - 0s 44ms/step - loss: 0.0208 - val_loss: 0.0067\n",
            "Epoch 350/400\n",
            "1/1 [==============================] - 0s 40ms/step - loss: 0.0208 - val_loss: 0.0067\n",
            "Epoch 351/400\n",
            "1/1 [==============================] - 0s 50ms/step - loss: 0.0208 - val_loss: 0.0067\n",
            "Epoch 352/400\n",
            "1/1 [==============================] - 0s 45ms/step - loss: 0.0208 - val_loss: 0.0067\n",
            "Epoch 353/400\n",
            "1/1 [==============================] - 0s 46ms/step - loss: 0.0208 - val_loss: 0.0067\n",
            "Epoch 354/400\n",
            "1/1 [==============================] - 0s 44ms/step - loss: 0.0208 - val_loss: 0.0067\n",
            "Epoch 355/400\n",
            "1/1 [==============================] - 0s 47ms/step - loss: 0.0208 - val_loss: 0.0067\n",
            "Epoch 356/400\n",
            "1/1 [==============================] - 0s 44ms/step - loss: 0.0208 - val_loss: 0.0067\n",
            "Epoch 357/400\n",
            "1/1 [==============================] - 0s 41ms/step - loss: 0.0208 - val_loss: 0.0067\n",
            "Epoch 358/400\n",
            "1/1 [==============================] - 0s 41ms/step - loss: 0.0208 - val_loss: 0.0067\n",
            "Epoch 359/400\n",
            "1/1 [==============================] - 0s 50ms/step - loss: 0.0208 - val_loss: 0.0067\n",
            "Epoch 360/400\n",
            "1/1 [==============================] - 0s 44ms/step - loss: 0.0207 - val_loss: 0.0067\n",
            "Epoch 361/400\n",
            "1/1 [==============================] - 0s 40ms/step - loss: 0.0207 - val_loss: 0.0067\n",
            "Epoch 362/400\n",
            "1/1 [==============================] - 0s 45ms/step - loss: 0.0207 - val_loss: 0.0067\n",
            "Epoch 363/400\n",
            "1/1 [==============================] - 0s 44ms/step - loss: 0.0207 - val_loss: 0.0067\n",
            "Epoch 364/400\n",
            "1/1 [==============================] - 0s 42ms/step - loss: 0.0207 - val_loss: 0.0067\n",
            "Epoch 365/400\n",
            "1/1 [==============================] - 0s 47ms/step - loss: 0.0207 - val_loss: 0.0067\n",
            "Epoch 366/400\n",
            "1/1 [==============================] - 0s 40ms/step - loss: 0.0207 - val_loss: 0.0067\n",
            "Epoch 367/400\n",
            "1/1 [==============================] - 0s 44ms/step - loss: 0.0207 - val_loss: 0.0067\n",
            "Epoch 368/400\n",
            "1/1 [==============================] - 0s 46ms/step - loss: 0.0207 - val_loss: 0.0067\n",
            "Epoch 369/400\n",
            "1/1 [==============================] - 0s 47ms/step - loss: 0.0207 - val_loss: 0.0067\n",
            "Epoch 370/400\n",
            "1/1 [==============================] - 0s 42ms/step - loss: 0.0207 - val_loss: 0.0067\n",
            "Epoch 371/400\n",
            "1/1 [==============================] - 0s 41ms/step - loss: 0.0207 - val_loss: 0.0067\n",
            "Epoch 372/400\n",
            "1/1 [==============================] - 0s 48ms/step - loss: 0.0207 - val_loss: 0.0067\n",
            "Epoch 373/400\n",
            "1/1 [==============================] - 0s 47ms/step - loss: 0.0206 - val_loss: 0.0067\n",
            "Epoch 374/400\n",
            "1/1 [==============================] - 0s 46ms/step - loss: 0.0206 - val_loss: 0.0067\n",
            "Epoch 375/400\n",
            "1/1 [==============================] - 0s 315ms/step - loss: 0.0206 - val_loss: 0.0067\n",
            "Epoch 376/400\n",
            "1/1 [==============================] - 0s 45ms/step - loss: 0.0206 - val_loss: 0.0067\n",
            "Epoch 377/400\n",
            "1/1 [==============================] - 0s 42ms/step - loss: 0.0206 - val_loss: 0.0067\n",
            "Epoch 378/400\n",
            "1/1 [==============================] - 0s 47ms/step - loss: 0.0206 - val_loss: 0.0067\n",
            "Epoch 379/400\n",
            "1/1 [==============================] - 0s 45ms/step - loss: 0.0206 - val_loss: 0.0068\n",
            "Epoch 380/400\n",
            "1/1 [==============================] - 0s 40ms/step - loss: 0.0206 - val_loss: 0.0067\n",
            "Epoch 381/400\n",
            "1/1 [==============================] - 0s 48ms/step - loss: 0.0206 - val_loss: 0.0068\n",
            "Epoch 382/400\n",
            "1/1 [==============================] - 0s 44ms/step - loss: 0.0206 - val_loss: 0.0068\n",
            "Epoch 383/400\n",
            "1/1 [==============================] - 0s 48ms/step - loss: 0.0206 - val_loss: 0.0068\n",
            "Epoch 384/400\n",
            "1/1 [==============================] - 0s 38ms/step - loss: 0.0206 - val_loss: 0.0068\n",
            "Epoch 385/400\n",
            "1/1 [==============================] - 0s 42ms/step - loss: 0.0206 - val_loss: 0.0068\n",
            "Epoch 386/400\n",
            "1/1 [==============================] - 0s 44ms/step - loss: 0.0206 - val_loss: 0.0068\n",
            "Epoch 387/400\n",
            "1/1 [==============================] - 0s 39ms/step - loss: 0.0206 - val_loss: 0.0068\n",
            "Epoch 388/400\n",
            "1/1 [==============================] - 0s 43ms/step - loss: 0.0205 - val_loss: 0.0068\n",
            "Epoch 389/400\n",
            "1/1 [==============================] - 0s 41ms/step - loss: 0.0205 - val_loss: 0.0068\n",
            "Epoch 390/400\n",
            "1/1 [==============================] - 0s 42ms/step - loss: 0.0205 - val_loss: 0.0068\n",
            "Epoch 391/400\n",
            "1/1 [==============================] - 0s 47ms/step - loss: 0.0205 - val_loss: 0.0068\n",
            "Epoch 392/400\n",
            "1/1 [==============================] - 0s 44ms/step - loss: 0.0205 - val_loss: 0.0068\n",
            "Epoch 393/400\n",
            "1/1 [==============================] - 0s 43ms/step - loss: 0.0205 - val_loss: 0.0068\n",
            "Epoch 394/400\n",
            "1/1 [==============================] - 0s 40ms/step - loss: 0.0205 - val_loss: 0.0068\n",
            "Epoch 395/400\n",
            "1/1 [==============================] - 0s 39ms/step - loss: 0.0205 - val_loss: 0.0068\n",
            "Epoch 396/400\n",
            "1/1 [==============================] - 0s 46ms/step - loss: 0.0205 - val_loss: 0.0068\n",
            "Epoch 397/400\n",
            "1/1 [==============================] - 0s 54ms/step - loss: 0.0205 - val_loss: 0.0068\n",
            "Epoch 398/400\n",
            "1/1 [==============================] - 0s 46ms/step - loss: 0.0205 - val_loss: 0.0068\n",
            "Epoch 399/400\n",
            "1/1 [==============================] - 0s 39ms/step - loss: 0.0205 - val_loss: 0.0068\n",
            "Epoch 400/400\n",
            "1/1 [==============================] - 0s 46ms/step - loss: 0.0205 - val_loss: 0.0068\n"
          ],
          "name": "stdout"
        },
        {
          "output_type": "execute_result",
          "data": {
            "text/plain": [
              "<tensorflow.python.keras.callbacks.History at 0x7f4389cb46d8>"
            ]
          },
          "metadata": {
            "tags": []
          },
          "execution_count": 173
        }
      ]
    },
    {
      "cell_type": "code",
      "metadata": {
        "id": "wR_EXYNxXkuU"
      },
      "source": [
        "losses = pd.DataFrame(model.history.history)"
      ],
      "execution_count": null,
      "outputs": []
    },
    {
      "cell_type": "code",
      "metadata": {
        "colab": {
          "base_uri": "https://localhost:8080/",
          "height": 282
        },
        "id": "5dkHVBvOXkuU",
        "outputId": "b5e0477b-31f0-49df-9804-c18c3e587052"
      },
      "source": [
        "losses.plot()"
      ],
      "execution_count": null,
      "outputs": [
        {
          "output_type": "execute_result",
          "data": {
            "text/plain": [
              "<matplotlib.axes._subplots.AxesSubplot at 0x7f43e1b4b5c0>"
            ]
          },
          "metadata": {
            "tags": []
          },
          "execution_count": 175
        },
        {
          "output_type": "display_data",
          "data": {
            "image/png": "[encoded data removed]",
            "text/plain": [
              "<Figure size 432x288 with 1 Axes>"
            ]
          },
          "metadata": {
            "tags": [],
            "needs_background": "light"
          }
        }
      ]
    },
    {
      "cell_type": "markdown",
      "metadata": {
        "id": "nZHcGc68XkuU"
      },
      "source": [
        "\r\n",
        "# Evaluation on Test Data\r\n",
        "\r\n"
      ]
    },
    {
      "cell_type": "code",
      "metadata": {
        "id": "P5LgzYSDXkuU"
      },
      "source": [
        "from sklearn.metrics import mean_squared_error,mean_absolute_error,explained_variance_score"
      ],
      "execution_count": null,
      "outputs": []
    },
    {
      "cell_type": "markdown",
      "metadata": {
        "id": "NcJJOUTaXkuV"
      },
      "source": [
        "Predicting on Brand New Data"
      ]
    },
    {
      "cell_type": "code",
      "metadata": {
        "colab": {
          "base_uri": "https://localhost:8080/",
          "height": 225
        },
        "id": "CDHlJY1mXkuV",
        "outputId": "5df6dd88-8d12-40c2-9502-19f3376dc194"
      },
      "source": [
        "X_test"
      ],
      "execution_count": null,
      "outputs": [
        {
          "output_type": "execute_result",
          "data": {
            "text/html": [
              "<div>\n",
              "<style scoped>\n",
              "    .dataframe tbody tr th:only-of-type {\n",
              "        vertical-align: middle;\n",
              "    }\n",
              "\n",
              "    .dataframe tbody tr th {\n",
              "        vertical-align: top;\n",
              "    }\n",
              "\n",
              "    .dataframe thead th {\n",
              "        text-align: right;\n",
              "    }\n",
              "</style>\n",
              "<table border=\"1\" class=\"dataframe\">\n",
              "  <thead>\n",
              "    <tr style=\"text-align: right;\">\n",
              "      <th></th>\n",
              "      <th>year</th>\n",
              "      <th>num_reg_v</th>\n",
              "      <th>population</th>\n",
              "      <th>proad_length</th>\n",
              "      <th>num_arrived</th>\n",
              "      <th>GNI</th>\n",
              "      <th>GDP</th>\n",
              "      <th>num_ref</th>\n",
              "    </tr>\n",
              "  </thead>\n",
              "  <tbody>\n",
              "    <tr>\n",
              "      <th>18</th>\n",
              "      <td>2008</td>\n",
              "      <td>0.574154</td>\n",
              "      <td>0.394373</td>\n",
              "      <td>0.959459</td>\n",
              "      <td>0.712483</td>\n",
              "      <td>0.636364</td>\n",
              "      <td>0.654081</td>\n",
              "      <td>0.788837</td>\n",
              "    </tr>\n",
              "    <tr>\n",
              "      <th>17</th>\n",
              "      <td>2007</td>\n",
              "      <td>0.507094</td>\n",
              "      <td>0.374301</td>\n",
              "      <td>0.933514</td>\n",
              "      <td>0.632483</td>\n",
              "      <td>0.517045</td>\n",
              "      <td>0.469572</td>\n",
              "      <td>0.763836</td>\n",
              "    </tr>\n",
              "    <tr>\n",
              "      <th>12</th>\n",
              "      <td>2002</td>\n",
              "      <td>0.242182</td>\n",
              "      <td>0.308654</td>\n",
              "      <td>0.681622</td>\n",
              "      <td>0.351409</td>\n",
              "      <td>0.215909</td>\n",
              "      <td>0.191822</td>\n",
              "      <td>0.398871</td>\n",
              "    </tr>\n",
              "    <tr>\n",
              "      <th>23</th>\n",
              "      <td>2013</td>\n",
              "      <td>0.871298</td>\n",
              "      <td>0.506252</td>\n",
              "      <td>0.680000</td>\n",
              "      <td>0.770470</td>\n",
              "      <td>0.926136</td>\n",
              "      <td>0.923545</td>\n",
              "      <td>0.924019</td>\n",
              "    </tr>\n",
              "    <tr>\n",
              "      <th>15</th>\n",
              "      <td>2005</td>\n",
              "      <td>0.367047</td>\n",
              "      <td>0.332346</td>\n",
              "      <td>0.840541</td>\n",
              "      <td>0.513289</td>\n",
              "      <td>0.389205</td>\n",
              "      <td>0.305161</td>\n",
              "      <td>0.465911</td>\n",
              "    </tr>\n",
              "    <tr>\n",
              "      <th>16</th>\n",
              "      <td>2006</td>\n",
              "      <td>0.432447</td>\n",
              "      <td>0.353241</td>\n",
              "      <td>0.893514</td>\n",
              "      <td>0.577181</td>\n",
              "      <td>0.443182</td>\n",
              "      <td>0.402710</td>\n",
              "      <td>0.740424</td>\n",
              "    </tr>\n",
              "  </tbody>\n",
              "</table>\n",
              "</div>"
            ],
            "text/plain": [
              "    year  num_reg_v  population  ...       GNI       GDP   num_ref\n",
              "18  2008   0.574154    0.394373  ...  0.636364  0.654081  0.788837\n",
              "17  2007   0.507094    0.374301  ...  0.517045  0.469572  0.763836\n",
              "12  2002   0.242182    0.308654  ...  0.215909  0.191822  0.398871\n",
              "23  2013   0.871298    0.506252  ...  0.926136  0.923545  0.924019\n",
              "15  2005   0.367047    0.332346  ...  0.389205  0.305161  0.465911\n",
              "16  2006   0.432447    0.353241  ...  0.443182  0.402710  0.740424\n",
              "\n",
              "[6 rows x 8 columns]"
            ]
          },
          "metadata": {
            "tags": []
          },
          "execution_count": 113
        }
      ]
    },
    {
      "cell_type": "code",
      "metadata": {
        "colab": {
          "base_uri": "https://localhost:8080/"
        },
        "id": "kSl0QYOzXkuV",
        "outputId": "ce99cc09-7fcc-4679-c79c-c4788e901a4d"
      },
      "source": [
        "predictions = model.predict(X_test)\r\n",
        "mean_absolute_error(y_test,predictions)"
      ],
      "execution_count": null,
      "outputs": [
        {
          "output_type": "stream",
          "text": [
            "WARNING:tensorflow:10 out of the last 11 calls to <function Model.make_predict_function.<locals>.predict_function at 0x7f4389b30840> triggered tf.function retracing. Tracing is expensive and the excessive number of tracings could be due to (1) creating @tf.function repeatedly in a loop, (2) passing tensors with different shapes, (3) passing Python objects instead of tensors. For (1), please define your @tf.function outside of the loop. For (2), @tf.function has experimental_relax_shapes=True option that relaxes argument shapes that can avoid unnecessary retracing. For (3), please refer to https://www.tensorflow.org/guide/function#controlling_retracing and https://www.tensorflow.org/api_docs/python/tf/function for  more details.\n"
          ],
          "name": "stdout"
        },
        {
          "output_type": "execute_result",
          "data": {
            "text/plain": [
              "0.06694003475014974"
            ]
          },
          "metadata": {
            "tags": []
          },
          "execution_count": 176
        }
      ]
    },
    {
      "cell_type": "code",
      "metadata": {
        "colab": {
          "base_uri": "https://localhost:8080/"
        },
        "id": "6zLMJcOuXkuV",
        "outputId": "18d7fc67-5d23-4640-88d4-951b1dca73ee"
      },
      "source": [
        "np.sqrt(mean_squared_error(y_test,predictions))"
      ],
      "execution_count": null,
      "outputs": [
        {
          "output_type": "execute_result",
          "data": {
            "text/plain": [
              "0.08260214466440143"
            ]
          },
          "metadata": {
            "tags": []
          },
          "execution_count": 177
        }
      ]
    },
    {
      "cell_type": "code",
      "metadata": {
        "colab": {
          "base_uri": "https://localhost:8080/"
        },
        "id": "15TpX0aNXkuV",
        "outputId": "8fff4c48-6c80-4008-e0ff-f1a36fa4f109"
      },
      "source": [
        "df['accidents'].mean()"
      ],
      "execution_count": null,
      "outputs": [
        {
          "output_type": "execute_result",
          "data": {
            "text/plain": [
              "70.30146153846154"
            ]
          },
          "metadata": {
            "tags": []
          },
          "execution_count": 76
        }
      ]
    },
    {
      "cell_type": "code",
      "metadata": {
        "colab": {
          "base_uri": "https://localhost:8080/",
          "height": 282
        },
        "id": "m21BliY9XkuW",
        "outputId": "a4a4d600-baf7-47ab-8a71-fc5c2946a75e"
      },
      "source": [
        "# Our predictions\r\n",
        "plt.scatter(y_test,predictions)\r\n",
        "\r\n",
        "# Perfect predictions\r\n",
        "plt.plot(y_test,y_test,'r')"
      ],
      "execution_count": null,
      "outputs": [
        {
          "output_type": "execute_result",
          "data": {
            "text/plain": [
              "[<matplotlib.lines.Line2D at 0x7f4389db2978>]"
            ]
          },
          "metadata": {
            "tags": []
          },
          "execution_count": 178
        },
        {
          "output_type": "display_data",
          "data": {
            "image/png": "[encoded data removed]",
            "text/plain": [
              "<Figure size 432x288 with 1 Axes>"
            ]
          },
          "metadata": {
            "tags": [],
            "needs_background": "light"
          }
        }
      ]
    },
    {
      "cell_type": "code",
      "metadata": {
        "id": "FsyWxGyIXkuW"
      },
      "source": [
        "errors = y_test.values.reshape(6,1) - predictions"
      ],
      "execution_count": null,
      "outputs": []
    },
    {
      "cell_type": "code",
      "metadata": {
        "colab": {
          "base_uri": "https://localhost:8080/",
          "height": 335
        },
        "id": "eoE1YQmcXkuW",
        "outputId": "da505987-ed61-4300-eaed-ee822e415061"
      },
      "source": [
        "sns.distplot(errors)"
      ],
      "execution_count": null,
      "outputs": [
        {
          "output_type": "stream",
          "text": [
            "/usr/local/lib/python3.6/dist-packages/seaborn/distributions.py:2551: FutureWarning: `distplot` is a deprecated function and will be removed in a future version. Please adapt your code to use either `displot` (a figure-level function with similar flexibility) or `histplot` (an axes-level function for histograms).\n",
            "  warnings.warn(msg, FutureWarning)\n"
          ],
          "name": "stderr"
        },
        {
          "output_type": "execute_result",
          "data": {
            "text/plain": [
              "<matplotlib.axes._subplots.AxesSubplot at 0x7f4389aab630>"
            ]
          },
          "metadata": {
            "tags": []
          },
          "execution_count": 180
        },
        {
          "output_type": "display_data",
          "data": {
            "image/png": "[encoded data removed]",
            "text/plain": [
              "<Figure size 432x288 with 1 Axes>"
            ]
          },
          "metadata": {
            "tags": [],
            "needs_background": "light"
          }
        }
      ]
    }
  ]
}